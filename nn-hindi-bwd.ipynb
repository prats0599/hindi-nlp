{
 "cells": [
  {
   "cell_type": "markdown",
   "metadata": {},
   "source": [
    "## Hindi ULMFiT from scratch"
   ]
  },
  {
   "cell_type": "code",
   "execution_count": 1,
   "metadata": {},
   "outputs": [
    {
     "name": "stdout",
     "output_type": "stream",
     "text": [
      "Wed Oct 28 11:37:35 2020       \n",
      "+-----------------------------------------------------------------------------+\n",
      "| NVIDIA-SMI 418.87.01    Driver Version: 418.87.01    CUDA Version: 10.1     |\n",
      "|-------------------------------+----------------------+----------------------+\n",
      "| GPU  Name        Persistence-M| Bus-Id        Disp.A | Volatile Uncorr. ECC |\n",
      "| Fan  Temp  Perf  Pwr:Usage/Cap|         Memory-Usage | GPU-Util  Compute M. |\n",
      "|===============================+======================+======================|\n",
      "|   0  Tesla P100-PCIE...  Off  | 00000000:00:04.0 Off |                    0 |\n",
      "| N/A   39C    P0    29W / 250W |      0MiB / 16280MiB |      0%      Default |\n",
      "+-------------------------------+----------------------+----------------------+\n",
      "                                                                               \n",
      "+-----------------------------------------------------------------------------+\n",
      "| Processes:                                                       GPU Memory |\n",
      "|  GPU       PID   Type   Process name                             Usage      |\n",
      "|=============================================================================|\n",
      "|  No running processes found                                                 |\n",
      "+-----------------------------------------------------------------------------+\n"
     ]
    }
   ],
   "source": [
    "!nvidia-smi"
   ]
  },
  {
   "cell_type": "code",
   "execution_count": 2,
   "metadata": {},
   "outputs": [],
   "source": [
    "%reload_ext autoreload\n",
    "%autoreload 2\n",
    "%matplotlib inline\n",
    "\n",
    "from fastai import *\n",
    "\n",
    "from fastai.text import *"
   ]
  },
  {
   "cell_type": "code",
   "execution_count": 3,
   "metadata": {},
   "outputs": [],
   "source": [
    "bs = 128"
   ]
  },
  {
   "cell_type": "code",
   "execution_count": 4,
   "metadata": {},
   "outputs": [],
   "source": [
    "torch.cuda.set_device(0)"
   ]
  },
  {
   "cell_type": "code",
   "execution_count": 5,
   "metadata": {},
   "outputs": [
    {
     "data": {
      "text/plain": [
       "PosixPath('/home/jupyter/.fastai/data')"
      ]
     },
     "execution_count": 5,
     "metadata": {},
     "output_type": "execute_result"
    }
   ],
   "source": [
    "data_path = Config.data_path(); data_path"
   ]
  },
  {
   "cell_type": "markdown",
   "metadata": {},
   "source": [
    "This will create a `hiwiki` folder, containing a `hiwiki` file with the wikipedia contents.(For other languages replace `hi` with the appropriate code from [list of wikipedias](https://meta.wikimedia.org/wiki/List_of_Wikipedias))"
   ]
  },
  {
   "cell_type": "code",
   "execution_count": 6,
   "metadata": {},
   "outputs": [],
   "source": [
    "data_path = Config.data_path()\n",
    "lang = 'hi'\n",
    "name = f'{lang}wiki'\n",
    "path = data_path/name\n",
    "dest = path/'docs'\n",
    "lm_fns = [f'{lang}_wt_bwd', f'{lang}_wt_vocab_bwd']"
   ]
  },
  {
   "cell_type": "code",
   "execution_count": 7,
   "metadata": {},
   "outputs": [
    {
     "data": {
      "text/plain": [
       "[PosixPath('/home/jupyter/.fastai/data/hiwiki/hiwiki'),\n",
       " PosixPath('/home/jupyter/.fastai/data/hiwiki/hi_textlist_class'),\n",
       " PosixPath('/home/jupyter/.fastai/data/hiwiki/log'),\n",
       " PosixPath('/home/jupyter/.fastai/data/hiwiki/hi_textlist_class_product_reviews'),\n",
       " PosixPath('/home/jupyter/.fastai/data/hiwiki/docs'),\n",
       " PosixPath('/home/jupyter/.fastai/data/hiwiki/models'),\n",
       " PosixPath('/home/jupyter/.fastai/data/hiwiki/hiwiki-latest-pages-articles.xml'),\n",
       " PosixPath('/home/jupyter/.fastai/data/hiwiki/hi_textlist_class_bwd'),\n",
       " PosixPath('/home/jupyter/.fastai/data/hiwiki/hiwiki-latest-pages-articles.xml.bz2'),\n",
       " PosixPath('/home/jupyter/.fastai/data/hiwiki/hi_textlist_class_movie_reviews')]"
      ]
     },
     "execution_count": 7,
     "metadata": {},
     "output_type": "execute_result"
    }
   ],
   "source": [
    "path.ls()"
   ]
  },
  {
   "cell_type": "markdown",
   "metadata": {},
   "source": [
    "### Hindi Wikipedia Model"
   ]
  },
  {
   "cell_type": "markdown",
   "metadata": {},
   "source": [
    "### Create Pretrained language model"
   ]
  },
  {
   "cell_type": "code",
   "execution_count": 22,
   "metadata": {},
   "outputs": [
    {
     "data": {
      "text/html": [],
      "text/plain": [
       "<IPython.core.display.HTML object>"
      ]
     },
     "metadata": {},
     "output_type": "display_data"
    },
    {
     "data": {
      "text/html": [],
      "text/plain": [
       "<IPython.core.display.HTML object>"
      ]
     },
     "metadata": {},
     "output_type": "display_data"
    },
    {
     "name": "stdout",
     "output_type": "stream",
     "text": [
      "CPU times: user 22.5 s, sys: 4.84 s, total: 27.4 s\n",
      "Wall time: 7min 42s\n"
     ]
    },
    {
     "data": {
      "text/plain": [
       "(60000, 17222)"
      ]
     },
     "execution_count": 22,
     "metadata": {},
     "output_type": "execute_result"
    }
   ],
   "source": [
    "%%time\n",
    "data = (TextList.from_folder(dest)\n",
    "       .split_by_rand_pct(0.1, seed=42)\n",
    "       .label_for_lm()\n",
    "       .databunch(bs=bs, num_workers=1, backwards=True))\n",
    "data.save(f'{lang}_databunch_bwd')\n",
    "len(data.vocab.itos), len(data.train_ds)"
   ]
  },
  {
   "cell_type": "code",
   "execution_count": 56,
   "metadata": {},
   "outputs": [],
   "source": [
    "data = load_data(dest, f'{lang}_databunch_bwd', bs=bs, backwards=True)"
   ]
  },
  {
   "cell_type": "code",
   "execution_count": 57,
   "metadata": {},
   "outputs": [
    {
     "data": {
      "text/html": [
       "<table border=\"1\" class=\"dataframe\">\n",
       "  <thead>\n",
       "    <tr style=\"text-align: right;\">\n",
       "      <th>idx</th>\n",
       "      <th>text</th>\n",
       "    </tr>\n",
       "  </thead>\n",
       "  <tbody>\n",
       "    <tr>\n",
       "      <td>0</td>\n",
       "      <td>रस xxunk उपर्युक्त लिए के जमाने जैली अच्छी \\n \\n  । जाये हो प्राप्त रस का पेक्टिन स्वच्छ कि जिससे लीजिए xxunk से विधि xxunk सुबह और xxunk में वातावरण शीतल भर रात लिए के xxunk के रस । चाहिए लेना छान से कपड़े मोटे को रस हुए उबाले इस । है होती उपलब्ध में मात्रा ज्यादा पेक्टिन हमें और है जाता हो परिवर्तित में पेक्टिन , xxunk से</td>\n",
       "    </tr>\n",
       "    <tr>\n",
       "      <td>1</td>\n",
       "      <td>, विलायक बहुमूल्य अनेक इनसे । हैं हुए सिद्ध के महत्व बड़े से दृष्टि औद्योगिक व्युत्पंन अनेक ऐसे । है बनाता व्युत्पन्न से सरलता हा संयुक्त से अभिकारकों अनेक और है होता सक्रिय अधिक हाइड्रोकार्बन असतृप्त । हैं सल्फेट हाइड्रोजन तथा फास्फेट हाइड्रोजन , नाइट्राइट , नाइट्राइट , नाइट्रेट , मरकैप्टन , ऐमिन , ऐल्कॉक्साइड सोडियम , ऐल्कोहाल , आयोडाइड , ब्रोमाइड , क्लोराइड व्युत्पन्न ऐसे । हैं उपयोग विविध</td>\n",
       "    </tr>\n",
       "    <tr>\n",
       "      <td>2</td>\n",
       "      <td>3 xxunk . 3 कोल्हापुर . 2 सातारा . 1 \\n \\n  -कळंब : देवक \\n  xxunk : गोत्र \\n  -सूर्य : वंश \\n  xxunk - : . 96 \\n  -पंचपल्लव : देवक \\n  xxunk : गोत्र \\n  -चंद्र : वंश \\n  xxunk - : . 95 \\n  xxunk , -पंचपल्लव : देवक \\n  xxunk : गोत्र \\n  -सूर्य</td>\n",
       "    </tr>\n",
       "    <tr>\n",
       "      <td>3</td>\n",
       "      <td>प्रति के अभिनय उन्हें और मिला रास्ता का कैरियर अपने को कपूर ही में दिशानिर्देश और संरक्षण के हुसैन रज़ा आमिर । की अदा भूमिका मुख्य इसमें उन्होंने में क्रम इस और दें ऑडिशन उसमें था निर्माण नाटक वार्षिक का स्कूल जो आंट xxunk वह कि दिया आदेश भरा चुनौती उन्हें ने देव तरुण कैप्टन हेड उनके जब हुआ पर यहीं से ढंग नाटकीय बड़े परिचय उनका से अभिनय बल्कि</td>\n",
       "    </tr>\n",
       "    <tr>\n",
       "      <td>4</td>\n",
       "      <td>करते शुरू से गणना की xxunk लिए के मानों छोटे हम में विधि इस \\n \\n  । है गया दिया कर भी ) xxunk ( xxunk उन्हें है गयी की गणना की मानों जिन में तकनीक इस \\n \\n \\n  । लगेगा समय अधिक बहुत इसमें कारण इस । पड़ेगी करनी बार अनेक भी और गणना ही एक तो जाय लिया उदाहरण का संख्या बड़ी बजाय के ५</td>\n",
       "    </tr>\n",
       "  </tbody>\n",
       "</table>"
      ],
      "text/plain": [
       "<IPython.core.display.HTML object>"
      ]
     },
     "metadata": {},
     "output_type": "display_data"
    }
   ],
   "source": [
    "data.show_batch()"
   ]
  },
  {
   "cell_type": "code",
   "execution_count": 58,
   "metadata": {},
   "outputs": [],
   "source": [
    "learn = language_model_learner(data, AWD_LSTM, drop_mult=0.5, pretrained=False).to_fp16()"
   ]
  },
  {
   "cell_type": "code",
   "execution_count": 59,
   "metadata": {},
   "outputs": [],
   "source": [
    "lr = 1e-2\n",
    "lr *= bs/48 # scale LR by batch size"
   ]
  },
  {
   "cell_type": "code",
   "execution_count": 61,
   "metadata": {},
   "outputs": [
    {
     "data": {
      "text/html": [
       "<table border=\"1\" class=\"dataframe\">\n",
       "  <thead>\n",
       "    <tr style=\"text-align: left;\">\n",
       "      <th>epoch</th>\n",
       "      <th>train_loss</th>\n",
       "      <th>valid_loss</th>\n",
       "      <th>accuracy</th>\n",
       "      <th>time</th>\n",
       "    </tr>\n",
       "  </thead>\n",
       "  <tbody>\n",
       "    <tr>\n",
       "      <td>0</td>\n",
       "      <td>4.534879</td>\n",
       "      <td>4.564542</td>\n",
       "      <td>0.257597</td>\n",
       "      <td>20:04</td>\n",
       "    </tr>\n",
       "    <tr>\n",
       "      <td>1</td>\n",
       "      <td>4.477128</td>\n",
       "      <td>4.556511</td>\n",
       "      <td>0.254814</td>\n",
       "      <td>20:04</td>\n",
       "    </tr>\n",
       "    <tr>\n",
       "      <td>2</td>\n",
       "      <td>4.525117</td>\n",
       "      <td>4.537685</td>\n",
       "      <td>0.256364</td>\n",
       "      <td>20:04</td>\n",
       "    </tr>\n",
       "    <tr>\n",
       "      <td>3</td>\n",
       "      <td>4.462911</td>\n",
       "      <td>4.468653</td>\n",
       "      <td>0.261098</td>\n",
       "      <td>20:04</td>\n",
       "    </tr>\n",
       "    <tr>\n",
       "      <td>4</td>\n",
       "      <td>4.402483</td>\n",
       "      <td>4.398094</td>\n",
       "      <td>0.264974</td>\n",
       "      <td>20:04</td>\n",
       "    </tr>\n",
       "    <tr>\n",
       "      <td>5</td>\n",
       "      <td>4.312982</td>\n",
       "      <td>4.315479</td>\n",
       "      <td>0.270799</td>\n",
       "      <td>20:05</td>\n",
       "    </tr>\n",
       "    <tr>\n",
       "      <td>6</td>\n",
       "      <td>4.216850</td>\n",
       "      <td>4.221115</td>\n",
       "      <td>0.277799</td>\n",
       "      <td>20:05</td>\n",
       "    </tr>\n",
       "    <tr>\n",
       "      <td>7</td>\n",
       "      <td>4.104349</td>\n",
       "      <td>4.129683</td>\n",
       "      <td>0.285398</td>\n",
       "      <td>20:04</td>\n",
       "    </tr>\n",
       "    <tr>\n",
       "      <td>8</td>\n",
       "      <td>4.022043</td>\n",
       "      <td>4.072096</td>\n",
       "      <td>0.290785</td>\n",
       "      <td>20:03</td>\n",
       "    </tr>\n",
       "    <tr>\n",
       "      <td>9</td>\n",
       "      <td>3.918710</td>\n",
       "      <td>4.060677</td>\n",
       "      <td>0.292471</td>\n",
       "      <td>20:04</td>\n",
       "    </tr>\n",
       "  </tbody>\n",
       "</table>"
      ],
      "text/plain": [
       "<IPython.core.display.HTML object>"
      ]
     },
     "metadata": {},
     "output_type": "display_data"
    }
   ],
   "source": [
    "learn.unfreeze()\n",
    "learn.fit_one_cycle(10, lr, moms=(0.8, 0.7))"
   ]
  },
  {
   "cell_type": "markdown",
   "metadata": {},
   "source": [
    "Save the pretrained model and vocab:"
   ]
  },
  {
   "cell_type": "code",
   "execution_count": 60,
   "metadata": {},
   "outputs": [
    {
     "data": {
      "text/plain": [
       "['hi_wt_bwd', 'hi_wt_vocab_bwd']"
      ]
     },
     "execution_count": 60,
     "metadata": {},
     "output_type": "execute_result"
    }
   ],
   "source": [
    "lm_fns"
   ]
  },
  {
   "cell_type": "code",
   "execution_count": 62,
   "metadata": {},
   "outputs": [],
   "source": [
    "mdl_path = path/'models'\n",
    "mdl_path.mkdir(exist_ok=True)\n",
    "learn.to_fp32().save(mdl_path/lm_fns[0], with_opt=False)\n",
    "learn.data.vocab.save(mdl_path/(lm_fns[1] + '.pkl'))"
   ]
  },
  {
   "cell_type": "code",
   "execution_count": 63,
   "metadata": {},
   "outputs": [
    {
     "data": {
      "text/plain": [
       "[PosixPath('/home/jupyter/.fastai/data/hiwiki/models/20epoch_hi_vocab.pkl'),\n",
       " PosixPath('/home/jupyter/.fastai/data/hiwiki/models/hifine_tuned_enc_movie_reviews.pth'),\n",
       " PosixPath('/home/jupyter/.fastai/data/hiwiki/models/hifine_tuned_enc.pth'),\n",
       " PosixPath('/home/jupyter/.fastai/data/hiwiki/models/hiclas_product_reviews.pth'),\n",
       " PosixPath('/home/jupyter/.fastai/data/hiwiki/models/hi_wt.pth'),\n",
       " PosixPath('/home/jupyter/.fastai/data/hiwiki/models/hiclas.pth'),\n",
       " PosixPath('/home/jupyter/.fastai/data/hiwiki/models/hifine_tuned_movie_reviews.pth'),\n",
       " PosixPath('/home/jupyter/.fastai/data/hiwiki/models/hi_wt_vocab_bwd.pkl'),\n",
       " PosixPath('/home/jupyter/.fastai/data/hiwiki/models/hifine_tuned_product_reviews.pth'),\n",
       " PosixPath('/home/jupyter/.fastai/data/hiwiki/models/hi_wt_bwd.pth'),\n",
       " PosixPath('/home/jupyter/.fastai/data/hiwiki/models/20epoch_hi_wt.pth'),\n",
       " PosixPath('/home/jupyter/.fastai/data/hiwiki/models/hifine_tuned_enc_product_reviews.pth'),\n",
       " PosixPath('/home/jupyter/.fastai/data/hiwiki/models/hiclas_movie_reviews.pth'),\n",
       " PosixPath('/home/jupyter/.fastai/data/hiwiki/models/hifine_tuned.pth'),\n",
       " PosixPath('/home/jupyter/.fastai/data/hiwiki/models/hifine_tuned_bwd.pth'),\n",
       " PosixPath('/home/jupyter/.fastai/data/hiwiki/models/hi_wt_vocab.pkl'),\n",
       " PosixPath('/home/jupyter/.fastai/data/hiwiki/models/hifine_tuned_enc_bwd.pth')]"
      ]
     },
     "execution_count": 63,
     "metadata": {},
     "output_type": "execute_result"
    }
   ],
   "source": [
    "(path/'models').ls()"
   ]
  },
  {
   "cell_type": "code",
   "execution_count": 64,
   "metadata": {},
   "outputs": [],
   "source": [
    "# learn.model.load_state_dict(torch.load(path/'models/20epoch_hi_wt.pth'))"
   ]
  },
  {
   "cell_type": "code",
   "execution_count": 65,
   "metadata": {},
   "outputs": [],
   "source": [
    "# learn.model.load_state_dict(torch.load(path/'models/hi_wt.pth'))"
   ]
  },
  {
   "cell_type": "code",
   "execution_count": 66,
   "metadata": {},
   "outputs": [],
   "source": [
    "# learn.load(path/'models/hi_wt');\n",
    "# loading a saved model:https://forums.fast.ai/t/load-model-from-pth-file/37440"
   ]
  },
  {
   "cell_type": "code",
   "execution_count": 20,
   "metadata": {},
   "outputs": [
    {
     "data": {
      "text/plain": [
       "SequentialRNN(\n",
       "  (0): AWD_LSTM(\n",
       "    (encoder): Embedding(60000, 400, padding_idx=1)\n",
       "    (encoder_dp): EmbeddingDropout(\n",
       "      (emb): Embedding(60000, 400, padding_idx=1)\n",
       "    )\n",
       "    (rnns): ModuleList(\n",
       "      (0): WeightDropout(\n",
       "        (module): LSTM(400, 1152, batch_first=True)\n",
       "      )\n",
       "      (1): WeightDropout(\n",
       "        (module): LSTM(1152, 1152, batch_first=True)\n",
       "      )\n",
       "      (2): WeightDropout(\n",
       "        (module): LSTM(1152, 400, batch_first=True)\n",
       "      )\n",
       "    )\n",
       "    (input_dp): RNNDropout()\n",
       "    (hidden_dps): ModuleList(\n",
       "      (0): RNNDropout()\n",
       "      (1): RNNDropout()\n",
       "      (2): RNNDropout()\n",
       "    )\n",
       "  )\n",
       "  (1): LinearDecoder(\n",
       "    (decoder): Linear(in_features=400, out_features=60000, bias=True)\n",
       "    (output_dp): RNNDropout()\n",
       "  )\n",
       ")"
      ]
     },
     "execution_count": 20,
     "metadata": {},
     "output_type": "execute_result"
    }
   ],
   "source": [
    "learn.model"
   ]
  },
  {
   "cell_type": "markdown",
   "metadata": {},
   "source": [
    "### Hindi Sentiment Analysis"
   ]
  },
  {
   "cell_type": "markdown",
   "metadata": {},
   "source": [
    "## BBC Articles(Hindi)"
   ]
  },
  {
   "cell_type": "markdown",
   "metadata": {},
   "source": [
    "#### Language Model"
   ]
  },
  {
   "cell_type": "markdown",
   "metadata": {},
   "source": [
    "We are gonna perform sentiment analysis on 2 datasets: BBC news articles,IIT-P movie reviews and IIT-P product reviews. The datasets can be found [here](https://github.com/AI4Bharat/indicnlp_corpus#publicly-available-classification-datasets)."
   ]
  },
  {
   "cell_type": "code",
   "execution_count": 8,
   "metadata": {},
   "outputs": [
    {
     "data": {
      "text/html": [
       "<div>\n",
       "<style scoped>\n",
       "    .dataframe tbody tr th:only-of-type {\n",
       "        vertical-align: middle;\n",
       "    }\n",
       "\n",
       "    .dataframe tbody tr th {\n",
       "        vertical-align: top;\n",
       "    }\n",
       "\n",
       "    .dataframe thead th {\n",
       "        text-align: right;\n",
       "    }\n",
       "</style>\n",
       "<table border=\"1\" class=\"dataframe\">\n",
       "  <thead>\n",
       "    <tr style=\"text-align: right;\">\n",
       "      <th></th>\n",
       "      <th>0</th>\n",
       "      <th>1</th>\n",
       "    </tr>\n",
       "  </thead>\n",
       "  <tbody>\n",
       "    <tr>\n",
       "      <th>0</th>\n",
       "      <td>india</td>\n",
       "      <td>मेट्रो की इस लाइन के चलने से दक्षिणी दिल्ली से...</td>\n",
       "    </tr>\n",
       "    <tr>\n",
       "      <th>1</th>\n",
       "      <td>pakistan</td>\n",
       "      <td>नेटिजन यानि इंटरनेट पर सक्रिय नागरिक अब ट्विटर...</td>\n",
       "    </tr>\n",
       "    <tr>\n",
       "      <th>2</th>\n",
       "      <td>news</td>\n",
       "      <td>इसमें एक फ़्लाइट एटेनडेंट की मदद की गुहार है औ...</td>\n",
       "    </tr>\n",
       "    <tr>\n",
       "      <th>3</th>\n",
       "      <td>india</td>\n",
       "      <td>प्रतीक खुलेपन का, आज़ाद ख्याली का और भीड़ से अ...</td>\n",
       "    </tr>\n",
       "    <tr>\n",
       "      <th>4</th>\n",
       "      <td>india</td>\n",
       "      <td>ख़ासकर पिछले 10 साल तक प्रधानमंत्री रहे मनमोहन...</td>\n",
       "    </tr>\n",
       "  </tbody>\n",
       "</table>\n",
       "</div>"
      ],
      "text/plain": [
       "          0                                                  1\n",
       "0     india  मेट्रो की इस लाइन के चलने से दक्षिणी दिल्ली से...\n",
       "1  pakistan  नेटिजन यानि इंटरनेट पर सक्रिय नागरिक अब ट्विटर...\n",
       "2      news  इसमें एक फ़्लाइट एटेनडेंट की मदद की गुहार है औ...\n",
       "3     india  प्रतीक खुलेपन का, आज़ाद ख्याली का और भीड़ से अ...\n",
       "4     india  ख़ासकर पिछले 10 साल तक प्रधानमंत्री रहे मनमोहन..."
      ]
     },
     "execution_count": 8,
     "metadata": {},
     "output_type": "execute_result"
    }
   ],
   "source": [
    "train_df = pd.read_csv('data/bbc-articles-hi/hi-train.csv', header=None)\n",
    "train_df.head()"
   ]
  },
  {
   "cell_type": "code",
   "execution_count": 9,
   "metadata": {},
   "outputs": [
    {
     "data": {
      "text/html": [
       "<div>\n",
       "<style scoped>\n",
       "    .dataframe tbody tr th:only-of-type {\n",
       "        vertical-align: middle;\n",
       "    }\n",
       "\n",
       "    .dataframe tbody tr th {\n",
       "        vertical-align: top;\n",
       "    }\n",
       "\n",
       "    .dataframe thead th {\n",
       "        text-align: right;\n",
       "    }\n",
       "</style>\n",
       "<table border=\"1\" class=\"dataframe\">\n",
       "  <thead>\n",
       "    <tr style=\"text-align: right;\">\n",
       "      <th></th>\n",
       "      <th>0</th>\n",
       "      <th>1</th>\n",
       "    </tr>\n",
       "  </thead>\n",
       "  <tbody>\n",
       "    <tr>\n",
       "      <th>0</th>\n",
       "      <td>india</td>\n",
       "      <td>बुधवार को राज्य सभा में विपक्ष के सवालों के जव...</td>\n",
       "    </tr>\n",
       "    <tr>\n",
       "      <th>1</th>\n",
       "      <td>india</td>\n",
       "      <td>लखनऊ स्थित पत्रकार समीरात्मज मिश्र को बुलंदशहर...</td>\n",
       "    </tr>\n",
       "    <tr>\n",
       "      <th>2</th>\n",
       "      <td>india</td>\n",
       "      <td>लगभग 1300 हेक्टेयर ज़मीन का अधिग्रहण किया जा च...</td>\n",
       "    </tr>\n",
       "    <tr>\n",
       "      <th>3</th>\n",
       "      <td>international</td>\n",
       "      <td>हालांकि उनके अंगरक्षकों को बमों को जाम करने वा...</td>\n",
       "    </tr>\n",
       "    <tr>\n",
       "      <th>4</th>\n",
       "      <td>india</td>\n",
       "      <td>आयोग का कहना है कि इस तरह के परीक्षण से महिलाओ...</td>\n",
       "    </tr>\n",
       "  </tbody>\n",
       "</table>\n",
       "</div>"
      ],
      "text/plain": [
       "               0                                                  1\n",
       "0          india  बुधवार को राज्य सभा में विपक्ष के सवालों के जव...\n",
       "1          india  लखनऊ स्थित पत्रकार समीरात्मज मिश्र को बुलंदशहर...\n",
       "2          india  लगभग 1300 हेक्टेयर ज़मीन का अधिग्रहण किया जा च...\n",
       "3  international  हालांकि उनके अंगरक्षकों को बमों को जाम करने वा...\n",
       "4          india  आयोग का कहना है कि इस तरह के परीक्षण से महिलाओ..."
      ]
     },
     "execution_count": 9,
     "metadata": {},
     "output_type": "execute_result"
    }
   ],
   "source": [
    "test_df = pd.read_csv('data/bbc-articles-hi/hi-test.csv', header=None)\n",
    "test_df.head()"
   ]
  },
  {
   "cell_type": "code",
   "execution_count": 10,
   "metadata": {},
   "outputs": [],
   "source": [
    "df = pd.concat([train_df,test_df], sort=False)"
   ]
  },
  {
   "cell_type": "code",
   "execution_count": 11,
   "metadata": {},
   "outputs": [
    {
     "data": {
      "text/html": [],
      "text/plain": [
       "<IPython.core.display.HTML object>"
      ]
     },
     "metadata": {},
     "output_type": "display_data"
    },
    {
     "data": {
      "text/html": [],
      "text/plain": [
       "<IPython.core.display.HTML object>"
      ]
     },
     "metadata": {},
     "output_type": "display_data"
    }
   ],
   "source": [
    "data_lm = (TextList.from_df(df, path, cols=1)\n",
    "    .split_by_rand_pct(0.1, seed=42)\n",
    "    .label_for_lm()           \n",
    "    .databunch(bs=bs, num_workers=1, backwards=True))"
   ]
  },
  {
   "cell_type": "code",
   "execution_count": 71,
   "metadata": {},
   "outputs": [],
   "source": [
    "learn_lm = language_model_learner(data_lm, AWD_LSTM, pretrained_fnames=lm_fns,  config={**awd_lstm_lm_config, 'n_hid': 1152},\n",
    "                                   drop_mult=1.0)"
   ]
  },
  {
   "cell_type": "code",
   "execution_count": 72,
   "metadata": {},
   "outputs": [],
   "source": [
    "lr = 1e-3\n",
    "lr *= bs/48"
   ]
  },
  {
   "cell_type": "code",
   "execution_count": 73,
   "metadata": {},
   "outputs": [
    {
     "data": {
      "text/html": [
       "<table border=\"1\" class=\"dataframe\">\n",
       "  <thead>\n",
       "    <tr style=\"text-align: left;\">\n",
       "      <th>epoch</th>\n",
       "      <th>train_loss</th>\n",
       "      <th>valid_loss</th>\n",
       "      <th>accuracy</th>\n",
       "      <th>time</th>\n",
       "    </tr>\n",
       "  </thead>\n",
       "  <tbody>\n",
       "    <tr>\n",
       "      <td>0</td>\n",
       "      <td>4.427934</td>\n",
       "      <td>4.046300</td>\n",
       "      <td>0.275558</td>\n",
       "      <td>01:06</td>\n",
       "    </tr>\n",
       "    <tr>\n",
       "      <td>1</td>\n",
       "      <td>4.109862</td>\n",
       "      <td>3.944758</td>\n",
       "      <td>0.284251</td>\n",
       "      <td>01:06</td>\n",
       "    </tr>\n",
       "  </tbody>\n",
       "</table>"
      ],
      "text/plain": [
       "<IPython.core.display.HTML object>"
      ]
     },
     "metadata": {},
     "output_type": "display_data"
    }
   ],
   "source": [
    "# finetuning the language model\n",
    "learn_lm.fit_one_cycle(2, lr*10, moms=(0.8,0.7))"
   ]
  },
  {
   "cell_type": "code",
   "execution_count": 74,
   "metadata": {},
   "outputs": [
    {
     "data": {
      "text/html": [
       "<table border=\"1\" class=\"dataframe\">\n",
       "  <thead>\n",
       "    <tr style=\"text-align: left;\">\n",
       "      <th>epoch</th>\n",
       "      <th>train_loss</th>\n",
       "      <th>valid_loss</th>\n",
       "      <th>accuracy</th>\n",
       "      <th>time</th>\n",
       "    </tr>\n",
       "  </thead>\n",
       "  <tbody>\n",
       "    <tr>\n",
       "      <td>0</td>\n",
       "      <td>3.917224</td>\n",
       "      <td>3.920418</td>\n",
       "      <td>0.286749</td>\n",
       "      <td>01:07</td>\n",
       "    </tr>\n",
       "    <tr>\n",
       "      <td>1</td>\n",
       "      <td>3.857886</td>\n",
       "      <td>3.882085</td>\n",
       "      <td>0.291003</td>\n",
       "      <td>01:07</td>\n",
       "    </tr>\n",
       "    <tr>\n",
       "      <td>2</td>\n",
       "      <td>3.809151</td>\n",
       "      <td>3.856278</td>\n",
       "      <td>0.293334</td>\n",
       "      <td>01:06</td>\n",
       "    </tr>\n",
       "    <tr>\n",
       "      <td>3</td>\n",
       "      <td>3.736108</td>\n",
       "      <td>3.836730</td>\n",
       "      <td>0.296154</td>\n",
       "      <td>01:06</td>\n",
       "    </tr>\n",
       "    <tr>\n",
       "      <td>4</td>\n",
       "      <td>3.696278</td>\n",
       "      <td>3.824736</td>\n",
       "      <td>0.297085</td>\n",
       "      <td>01:06</td>\n",
       "    </tr>\n",
       "    <tr>\n",
       "      <td>5</td>\n",
       "      <td>3.627378</td>\n",
       "      <td>3.819150</td>\n",
       "      <td>0.297935</td>\n",
       "      <td>01:06</td>\n",
       "    </tr>\n",
       "    <tr>\n",
       "      <td>6</td>\n",
       "      <td>3.586017</td>\n",
       "      <td>3.818778</td>\n",
       "      <td>0.298489</td>\n",
       "      <td>01:07</td>\n",
       "    </tr>\n",
       "    <tr>\n",
       "      <td>7</td>\n",
       "      <td>3.565432</td>\n",
       "      <td>3.818451</td>\n",
       "      <td>0.298695</td>\n",
       "      <td>01:06</td>\n",
       "    </tr>\n",
       "  </tbody>\n",
       "</table>"
      ],
      "text/plain": [
       "<IPython.core.display.HTML object>"
      ]
     },
     "metadata": {},
     "output_type": "display_data"
    }
   ],
   "source": [
    "learn_lm.unfreeze()\n",
    "learn_lm.fit_one_cycle(8, lr, moms=(0.8,0.7))"
   ]
  },
  {
   "cell_type": "code",
   "execution_count": 75,
   "metadata": {},
   "outputs": [],
   "source": [
    "learn_lm.save(f'{lang}fine_tuned_bwd')\n",
    "learn_lm.save_encoder(f'{lang}fine_tuned_enc_bwd')"
   ]
  },
  {
   "cell_type": "code",
   "execution_count": 76,
   "metadata": {},
   "outputs": [
    {
     "data": {
      "text/plain": [
       "100"
      ]
     },
     "execution_count": 76,
     "metadata": {},
     "output_type": "execute_result"
    }
   ],
   "source": [
    "learn_lm = None\n",
    "learn = None\n",
    "gc.collect()"
   ]
  },
  {
   "cell_type": "markdown",
   "metadata": {},
   "source": [
    "### Classifier"
   ]
  },
  {
   "cell_type": "code",
   "execution_count": 12,
   "metadata": {},
   "outputs": [
    {
     "data": {
      "text/html": [],
      "text/plain": [
       "<IPython.core.display.HTML object>"
      ]
     },
     "metadata": {},
     "output_type": "display_data"
    },
    {
     "data": {
      "text/html": [],
      "text/plain": [
       "<IPython.core.display.HTML object>"
      ]
     },
     "metadata": {},
     "output_type": "display_data"
    }
   ],
   "source": [
    "data_clas = (TextList.from_df(train_df, path, vocab=data_lm.vocab, cols=1)\n",
    "    .split_by_rand_pct(0.1, seed=42)\n",
    "    .label_from_df(cols=0)\n",
    "    .databunch(bs=bs, num_workers=1, backwards=True))\n",
    "\n",
    "data_clas.save(f'{lang}_textlist_class_bwd')"
   ]
  },
  {
   "cell_type": "code",
   "execution_count": 78,
   "metadata": {},
   "outputs": [],
   "source": [
    "data_clas = load_data(path, f'{lang}_textlist_class_bwd', bs=bs, num_workers=1, backwards=True)"
   ]
  },
  {
   "cell_type": "code",
   "execution_count": 79,
   "metadata": {},
   "outputs": [
    {
     "data": {
      "text/plain": [
       "(['business',\n",
       "  'china',\n",
       "  'entertainment',\n",
       "  'india',\n",
       "  'institutional',\n",
       "  'international',\n",
       "  'learningenglish',\n",
       "  'multimedia',\n",
       "  'news',\n",
       "  'pakistan',\n",
       "  'science',\n",
       "  'social',\n",
       "  'southasia',\n",
       "  'sport'],\n",
       " 14)"
      ]
     },
     "execution_count": 79,
     "metadata": {},
     "output_type": "execute_result"
    }
   ],
   "source": [
    "data_clas.classes, data_clas.c"
   ]
  },
  {
   "cell_type": "code",
   "execution_count": 13,
   "metadata": {},
   "outputs": [],
   "source": [
    "from sklearn.metrics import f1_score\n",
    "\n",
    "@np_func\n",
    "def f1(inp,targ): return f1_score(targ, np.argmax(inp, axis=-1), average='micro')\n",
    "\n",
    "mcc = MatthewsCorreff()"
   ]
  },
  {
   "cell_type": "code",
   "execution_count": 14,
   "metadata": {},
   "outputs": [],
   "source": [
    "learn_c = text_classifier_learner(data_clas, AWD_LSTM, drop_mult=0.5, metrics=[accuracy,f1, mcc]).to_fp16()\n",
    "learn_c.load_encoder(f'{lang}fine_tuned_enc_bwd')\n",
    "learn_c.freeze()"
   ]
  },
  {
   "cell_type": "code",
   "execution_count": 82,
   "metadata": {},
   "outputs": [],
   "source": [
    "lr=2e-2\n",
    "lr *= bs/48"
   ]
  },
  {
   "cell_type": "code",
   "execution_count": 83,
   "metadata": {},
   "outputs": [
    {
     "data": {
      "text/html": [
       "<table border=\"1\" class=\"dataframe\">\n",
       "  <thead>\n",
       "    <tr style=\"text-align: left;\">\n",
       "      <th>epoch</th>\n",
       "      <th>train_loss</th>\n",
       "      <th>valid_loss</th>\n",
       "      <th>accuracy</th>\n",
       "      <th>f1</th>\n",
       "      <th>matthews_correff</th>\n",
       "      <th>time</th>\n",
       "    </tr>\n",
       "  </thead>\n",
       "  <tbody>\n",
       "    <tr>\n",
       "      <td>0</td>\n",
       "      <td>1.252077</td>\n",
       "      <td>1.072506</td>\n",
       "      <td>0.682081</td>\n",
       "      <td>0.682081</td>\n",
       "      <td>0.563318</td>\n",
       "      <td>00:23</td>\n",
       "    </tr>\n",
       "    <tr>\n",
       "      <td>1</td>\n",
       "      <td>0.951820</td>\n",
       "      <td>0.857328</td>\n",
       "      <td>0.710983</td>\n",
       "      <td>0.708093</td>\n",
       "      <td>0.615012</td>\n",
       "      <td>00:22</td>\n",
       "    </tr>\n",
       "  </tbody>\n",
       "</table>"
      ],
      "text/plain": [
       "<IPython.core.display.HTML object>"
      ]
     },
     "metadata": {},
     "output_type": "display_data"
    }
   ],
   "source": [
    "learn_c.fit_one_cycle(2, lr, moms=(0.8,0.7))"
   ]
  },
  {
   "cell_type": "code",
   "execution_count": 84,
   "metadata": {},
   "outputs": [
    {
     "data": {
      "text/html": [
       "<table border=\"1\" class=\"dataframe\">\n",
       "  <thead>\n",
       "    <tr style=\"text-align: left;\">\n",
       "      <th>epoch</th>\n",
       "      <th>train_loss</th>\n",
       "      <th>valid_loss</th>\n",
       "      <th>accuracy</th>\n",
       "      <th>f1</th>\n",
       "      <th>matthews_correff</th>\n",
       "      <th>time</th>\n",
       "    </tr>\n",
       "  </thead>\n",
       "  <tbody>\n",
       "    <tr>\n",
       "      <td>0</td>\n",
       "      <td>0.788937</td>\n",
       "      <td>0.756339</td>\n",
       "      <td>0.751445</td>\n",
       "      <td>0.751445</td>\n",
       "      <td>0.673780</td>\n",
       "      <td>00:23</td>\n",
       "    </tr>\n",
       "    <tr>\n",
       "      <td>1</td>\n",
       "      <td>0.716446</td>\n",
       "      <td>0.625376</td>\n",
       "      <td>0.791907</td>\n",
       "      <td>0.791907</td>\n",
       "      <td>0.720667</td>\n",
       "      <td>00:22</td>\n",
       "    </tr>\n",
       "  </tbody>\n",
       "</table>"
      ],
      "text/plain": [
       "<IPython.core.display.HTML object>"
      ]
     },
     "metadata": {},
     "output_type": "display_data"
    }
   ],
   "source": [
    "learn_c.fit_one_cycle(2, lr, moms=(0.8,0.7))"
   ]
  },
  {
   "cell_type": "code",
   "execution_count": 85,
   "metadata": {},
   "outputs": [
    {
     "data": {
      "text/html": [
       "<table border=\"1\" class=\"dataframe\">\n",
       "  <thead>\n",
       "    <tr style=\"text-align: left;\">\n",
       "      <th>epoch</th>\n",
       "      <th>train_loss</th>\n",
       "      <th>valid_loss</th>\n",
       "      <th>accuracy</th>\n",
       "      <th>f1</th>\n",
       "      <th>matthews_correff</th>\n",
       "      <th>time</th>\n",
       "    </tr>\n",
       "  </thead>\n",
       "  <tbody>\n",
       "    <tr>\n",
       "      <td>0</td>\n",
       "      <td>0.739347</td>\n",
       "      <td>0.806878</td>\n",
       "      <td>0.765896</td>\n",
       "      <td>0.765896</td>\n",
       "      <td>0.684704</td>\n",
       "      <td>00:26</td>\n",
       "    </tr>\n",
       "    <tr>\n",
       "      <td>1</td>\n",
       "      <td>0.596376</td>\n",
       "      <td>0.655883</td>\n",
       "      <td>0.812139</td>\n",
       "      <td>0.812139</td>\n",
       "      <td>0.752108</td>\n",
       "      <td>00:24</td>\n",
       "    </tr>\n",
       "  </tbody>\n",
       "</table>"
      ],
      "text/plain": [
       "<IPython.core.display.HTML object>"
      ]
     },
     "metadata": {},
     "output_type": "display_data"
    }
   ],
   "source": [
    "learn_c.freeze_to(-2)\n",
    "learn_c.fit_one_cycle(2, slice(lr/(2.6**4),lr), moms=(0.8,0.7))"
   ]
  },
  {
   "cell_type": "code",
   "execution_count": 86,
   "metadata": {},
   "outputs": [
    {
     "data": {
      "text/html": [
       "<table border=\"1\" class=\"dataframe\">\n",
       "  <thead>\n",
       "    <tr style=\"text-align: left;\">\n",
       "      <th>epoch</th>\n",
       "      <th>train_loss</th>\n",
       "      <th>valid_loss</th>\n",
       "      <th>accuracy</th>\n",
       "      <th>f1</th>\n",
       "      <th>matthews_correff</th>\n",
       "      <th>time</th>\n",
       "    </tr>\n",
       "  </thead>\n",
       "  <tbody>\n",
       "    <tr>\n",
       "      <td>0</td>\n",
       "      <td>0.438991</td>\n",
       "      <td>0.711892</td>\n",
       "      <td>0.780347</td>\n",
       "      <td>0.780347</td>\n",
       "      <td>0.704294</td>\n",
       "      <td>00:38</td>\n",
       "    </tr>\n",
       "    <tr>\n",
       "      <td>1</td>\n",
       "      <td>0.358268</td>\n",
       "      <td>0.628176</td>\n",
       "      <td>0.823699</td>\n",
       "      <td>0.823699</td>\n",
       "      <td>0.766901</td>\n",
       "      <td>00:39</td>\n",
       "    </tr>\n",
       "  </tbody>\n",
       "</table>"
      ],
      "text/plain": [
       "<IPython.core.display.HTML object>"
      ]
     },
     "metadata": {},
     "output_type": "display_data"
    }
   ],
   "source": [
    "learn_c.freeze_to(-3)\n",
    "learn_c.fit_one_cycle(2, slice(lr/2/(2.6**4),lr/2), moms=(0.8,0.7))"
   ]
  },
  {
   "cell_type": "code",
   "execution_count": 87,
   "metadata": {},
   "outputs": [
    {
     "data": {
      "text/html": [
       "<table border=\"1\" class=\"dataframe\">\n",
       "  <thead>\n",
       "    <tr style=\"text-align: left;\">\n",
       "      <th>epoch</th>\n",
       "      <th>train_loss</th>\n",
       "      <th>valid_loss</th>\n",
       "      <th>accuracy</th>\n",
       "      <th>f1</th>\n",
       "      <th>matthews_correff</th>\n",
       "      <th>time</th>\n",
       "    </tr>\n",
       "  </thead>\n",
       "  <tbody>\n",
       "    <tr>\n",
       "      <td>0</td>\n",
       "      <td>0.229670</td>\n",
       "      <td>0.622310</td>\n",
       "      <td>0.809249</td>\n",
       "      <td>0.809249</td>\n",
       "      <td>0.745110</td>\n",
       "      <td>00:46</td>\n",
       "    </tr>\n",
       "    <tr>\n",
       "      <td>1</td>\n",
       "      <td>0.188292</td>\n",
       "      <td>0.629452</td>\n",
       "      <td>0.826590</td>\n",
       "      <td>0.826590</td>\n",
       "      <td>0.768872</td>\n",
       "      <td>00:44</td>\n",
       "    </tr>\n",
       "  </tbody>\n",
       "</table>"
      ],
      "text/plain": [
       "<IPython.core.display.HTML object>"
      ]
     },
     "metadata": {},
     "output_type": "display_data"
    }
   ],
   "source": [
    "learn_c.unfreeze()\n",
    "learn_c.fit_one_cycle(2, slice(lr/10/(2.6**4),lr/10), moms=(0.8,0.7))"
   ]
  },
  {
   "cell_type": "code",
   "execution_count": 88,
   "metadata": {},
   "outputs": [],
   "source": [
    "learn_c.save(f'{lang}clas_bwd')"
   ]
  },
  {
   "cell_type": "code",
   "execution_count": 15,
   "metadata": {},
   "outputs": [],
   "source": [
    "learn_c.load(f'{lang}clas_bwd');"
   ]
  },
  {
   "cell_type": "code",
   "execution_count": 16,
   "metadata": {},
   "outputs": [
    {
     "name": "stderr",
     "output_type": "stream",
     "text": [
      "/opt/anaconda3/lib/python3.7/site-packages/fastai/data_block.py:183: UserWarning: `no_split` is deprecated, please use `split_none`.\n",
      "  warn(\"`no_split` is deprecated, please use `split_none`.\")\n"
     ]
    },
    {
     "data": {
      "text/html": [],
      "text/plain": [
       "<IPython.core.display.HTML object>"
      ]
     },
     "metadata": {},
     "output_type": "display_data"
    },
    {
     "data": {
      "text/html": [],
      "text/plain": [
       "<IPython.core.display.HTML object>"
      ]
     },
     "metadata": {},
     "output_type": "display_data"
    }
   ],
   "source": [
    "data_valid = (TextList.from_df(test_df, path, vocab=data_lm.vocab, cols=1)\n",
    "    .no_split()\n",
    "    .label_from_df(cols=0)\n",
    "    .databunch(bs=bs, num_workers=1))"
   ]
  },
  {
   "cell_type": "code",
   "execution_count": 17,
   "metadata": {
    "collapsed": true,
    "jupyter": {
     "outputs_hidden": true
    }
   },
   "outputs": [
    {
     "data": {
      "text/plain": [
       "TextClasDataBunch;\n",
       "\n",
       "Train: LabelList (866 items)\n",
       "x: TextList\n",
       "xxbos बुधवार को राज्य सभा में विपक्ष के सवालों के जवाब में मनमोहन सिंह ने कहा , \" अगर किसी तरह की गड़बड़ी पाई जाती है , तो हम कड़ी से कड़ी कार्रवाई करेंगे . \"मंगलवार को संसद में भारत के नियंत्रक और महालेखा परीक्षक की रिपोर्ट पेश की गई है . किसानों के क़र्ज़ की माफ़ी स्कीम पर तैयार इस रिपोर्ट में कहा गया है कि पिछले वित्तीय वर्ष में जितने भी लोगों के क़र्ज़ बैंकों ने माफ़ किए थे , उनमें से 22 फ़ीसद मामले फर्ज़ी थे . रिपोर्ट में कहा गया है कि बैंक के कर्मचारियों ने फर्ज़ी खातों में कर्ज़ माफ़ किए हैं और वो सारी राशि ख़ुद xxunk ली है . विपक्ष ने मामले पर सरकार को घेरना शुरू कर दिया है . मुख्य विपक्षी दल भारतीय जनता पार्टी के प्रवक्ता प्रकाश जावडेकर ने कहा है कि इस तरह की गड़बड़ी इतने बड़े पैमाने पर सिर्फ़ तकनीकी कमियों की वजह से नहीं हो सकती है . विपक्ष और सरकार को समर्थन दे रहे xxunk जैसे समाजवादी पार्टी मामले को संसद में भी उठा रही है . लोकसभा में विपक्ष की नेता सुषमा स्वराज ने अध्यक्ष से मामले पर बहस करवाने की मांग की है . महालेखा परीक्षक की कोयला खदान आवंटन और टूजी स्पेक्ट्रम को बेचने में हुई गड़बड़ी को लेकर मनमोहन सिंह सरकार को परेशानियों का सामना करना पड़ा है .,xxbos लखनऊ स्थित पत्रकार xxunk मिश्र को बुलंदशहर के पुलिस अधीक्षक अनीस अहमद अंसारी ने बताया कि xxunk को उनके तीन साथियों को गिरफ्तार किया गया . इन गिरफ्तारियों के साथ ही इस मामले में गिरफ्तार अभियुक्तों की संख्या छह हो गई है . इस मामले के तीन अभियुक्तों को पुलिस ने पहले ही गिरफ्तार किया था , जो अभी न्यायिक हिरासत में हैं . दिल्ली से कानपुर जाने वाले राजमार्ग 95 पर 29 जुलाई को कुछ हथियारबंद बदमाशों ने एक कार में अपने परिवार के साथ जा रही मां - बेटी के साथ बुलंदशहर में सामूहिक बलात्कार किया था . इसके बाद यह मामला सुर्खियों में आ गया था . विपक्षी दलों ने उत्तर प्रदेश की समाजवादी पार्टी की सरकार में क़ानून - व्यवस्था फेल हो जाने का आरोप लगाया था . इसके बाद प्रदेश सरकार ने कार्रवाई करते हुए ज़िले के कई वरिष्ठ पुलिस अधिकारियों को निलंबित कर दिया था . इलाहाबाद हाई कोर्ट ने इस मामले का स्वत : संज्ञान लेते हुए प्रदेश सरकार पर मामले की सीबीआई जांच को लेकर जवाब दाखिल करने को कहा है.(बीबीसी हिन्दी के एंड्रॉएड ऐप के लिए \n",
       " \n",
       " \n",
       " \n",
       "  यहां क्लिक करें . आप हमें \n",
       " \n",
       " \n",
       " \n",
       "  फ़ेसबुक और \n",
       " \n",
       " \n",
       " \n",
       "  ट्विटर पर फ़ॉलो भी कर सकते हैं . ),xxbos लगभग 1300 हेक्टेयर ज़मीन का अधिग्रहण किया जा चुका है . और कुछ के अधिग्रहण का काम चल रहा है . जहाँ ज़मीन अधिग्रहित की जा चुकी हैं वहां बड़े बड़े xxunk ने इलाक़े का xxunk कर दिया है . अब सिंघीतेराई गाँव की बारी है . मगर अब यहाँ लोग इन संयंत्रों का विरोध कर रहे हैं . वह अपनी ज़मीन नहीं देना चाह रहे हैं . उनका कहना है कि इस इलाके में ज़्यादातर ज़मीन खेतिहर है इस लिए वह अपनी आजीविका के लिए इन खेतों पर ही आश्रित हैं . पीढ़ी दर पीढ़ी वह इन खेतों के सहारे अपना पेट पालते आ रहे हैं . पहले निजी कंपनियों ने औने पौने में ज़मीनों को खरीदा मगर अब छत्तीसगढ़ की सरकार ने ज़मीनों का खुद ही अधिग्रहण करना शुरू कर दिया है . अब सरकार ज़मीन अधिग्रहित कर उसे निजी कंपनियों को दे रही है . औद्योगिकीकरण की xxunk का तर्क है कि पहले xxunk औने पौने में ज़मीन खरीदा करती थीं . सरकार की नई भूमि अधिग्रहण और पुनर्वास नीति के तहत किसानों को साल में दो फसल देने वाली खेतिहर ज़मीन के प्रति एकड़ दस लाख रूपए देने का प्रावधान किया गया है . कहा जा सकता है कि छत्तीसगढ़ में औद्योगिकीकरण की आंधी चल रही है . राज्य सरकार ने सूबे में इस्पात और विद्युत संयंत्रों के लिए कई सौ कंपनियों के साथ xxunk यानी साझा करार पर हस्ताक्षर किए हैं . इनमें ज़्यादातर इस्पात और xxunk संयंत्र राज्य के रायपुर , रायगढ़ , कोरबा और xxunk - xxunk जिले में या तो स्थापित किए जा चुके हैं या फिर प्रस्तावित हैं . जहाँ यह संयंत्र लगे हैं वहां भी ज़मीन के अधिग्रहण को लेकर काफ़ी विवाद चल रहा है . सरकार की पुनर्वास नीति के बावजूद ग्रामीण अधिग्रहण का विरोध कर रहे हैं . उनका कहना है कि खेतिहर ज़मीन पर उद्योग नहीं लगने चाहिए . सिंघीतेराई के xxunk जयसवाल का कहना , \" कंपनियों ने करार के बाहर जाते हुए आवश्यकता से अधिक ज़मीन का अधिग्रहण करना शुरू कर दिया है . मिसाल के तौर पर उन्होंने बताया कि एक 1400 मेगावाट की बिजली इकाई के लिए एक कंपनी ने सरकार के साथ करार किया . करार के तहत यह संयंत्र सिर्फ दो जगहों की ज़मीन पर खोला जाना था . यह इलाके हैं xxunk के xxunk और xxunk . मगर कंपनी ने xxunk xxunk रिपोर्ट के बाहर जाते हुए xxunk , xxunk , xxunk और xxunk में भी ज़मीन का अधिग्रहण किया है . यह इकाई xxunk करोड़ रूपए की लागत से बनाई जा रही है . xxunk ज़मीन पर बने xxunk बताते हैं कि कंपनी ने जो करार सरकार के साथ किया था वह मात्र 1200 मेगावाट की इकाई के लिए था . इस इकाई की वजह से xxunk परिवार प्रभावित हो रहे हैं . जायसवाल कहते हैं , “ कुछ लोगों ने पैसा लिया और उनकी ज़मीन का अधिग्रहण हुआ . मगर कुछ गाँव वालों ने इसको लेकर अदालत का दरवाज़ा भी खटखटाया है . हमें सुरक्षा चाहिए . जो लोग ज़मीन नहीं देना चाहते हैं उन्हें आतंकित किया जा रहा है . \" वहीं इलाके के जाने माने समाज xxunk एपी जोशी का कहना है कि शुरू में पैसों के लालच में कुछ ग्रामीणों ने अपनी ज़मीन बेची मगर बाद में जब उनके पैसे ख़त्म हुए तो उनकी आँखें खुली . बीबीसी से बात करते हुए वह कहते हैं : \" पैसे आते ही इन ग्रामीणों ने महंगी कार खरीदी . मगर यह कुछ ही दिनों तक रहा . पैसे तो पेट्रोल की तरह उड़ गए . अब इनकी आँख खुली . xxunk और उनके साथ इस इलाके के सैकड़ों ग्रामीण जो सिंघीतेराई की चौपाल में जमा थे कहते हैं की खेतिहर ज़मीन उनकी जीविका का एक मात्र सहारा है . कई पीढ़ियों से यह लोग इसी पर निर्भर हैं . गाँव के सरपंच का कहना है कि सरकार को चाहिए कि xxunk ज़मीनों को ही सिर्फ़ उद्योगों को दे ना की खेतिहर ज़मीन . यही वजह है कि अब यह लोग सामूहिक रूप से ज़मीन अधिग्रहण का विरोध कर रहे हैं . जयसवाल कहते xxunk पैसे नहीं चाहिए . पैसे किसी के पास नहीं xxunk . ज़मीन हमारी सुरक्षा है . ज़मीन हमारा सहारा है . उद्योग xxunk मगर खेती वाली ज़मीन पर नहीं . \",xxbos हालांकि उनके अंगरक्षकों को बमों को जाम करने वाली तकनीक मुहैया करवाई गई है जिससे इलेक्ट्रॉनिक xxunk को ब्लॉक किया जा सकता है . स्थानीय मीडिया की ख़बरों में यह कहा गया है . सिसली प्रांत की राजधानी xxunk में चल रहे एक मुकदमे के मुख्य जज xxunk दि मैट्टेओ ने यह प्रस्ताव इसलिए ठुकरा दिया क्योंकि वह नहीं चाहते थे कि वह शहर में एक सैन्य वाहन को चलाते हुए दिखें . xxunk xxunk xxunk अख़बार को उन्होने कहा , \" बिल्कुल नहीं , xxunk के रिहाइशी इलाक़ों में मैं एक बख़्तरबंद वाहन में नहीं घूम सकता . कृपया मुझसे ऐसा करने के लिए पूछें भी न . \"जिस गाड़ी की बात की जा रही है वह xxunk सामरिक वाहन है जिसे इटली की कंपनी xxunk बनाती है . इससे प्रेरित xxunk नाम के वाहन को ब्रितानी सशस्त्र बल इस्तेमाल करते हैं . इस दौरान कथित रूप से दि मैट्टेओ के अंगरक्षकों ने मोबाइल बम को जाम करने वाले उपकरण ले लिए हैं . ला xxunk न्यूज़ वेबसाइट के अनुसार यह xxunk रिमोट से विस्फ़ोटक को xxunk करने से रोक सकते हैं . दरअसल प्रशासन इस मामले को बेहद गंभीरता से ले रहा है . जेल में बंद \" सरदारों का सरदार \" कहे जाने वाले xxunk \" xxunk \" xxunk के अपने साथी कैदियों से सुनवाई के बारे में बातचीत की गुप्त रिकॉर्डिंग से दि मैट्टेओ को जान के ख़तरे के बारे में पता लगा . इस सुनवाई में माफ़िया सरदारों और इटली के उच्च सरकारी अधिकारियों के बीच 1990 की शुरुआत में जानलेवा बम हमलों के सिलसिले को रोकने के लिए किए गए एक गुप्त समझौते के दावों की जांच की जा रही है . गृहमंत्री xxunk xxunk ने \" उन लोगों को बचाने के लिए जो हमें माफ़िया से बचाते हैं \" , हर कदम उठाने का वायदा किया है . एक xxunk ( xxunk ) को यह कहते हुए उद्धृत किया गया है कि \" एक सफ़ल हमला इटली को 20 साल पहले पहुंचा सकता है . \"(बीबीसी हिन्दी के एंड्रॉएड ऐप के लिए \n",
       " \n",
       " \n",
       " \n",
       "  यहां क्लिक करें . आप हमें \n",
       " \n",
       " \n",
       " \n",
       "  फ़ेसबुक और \n",
       " \n",
       " \n",
       " \n",
       "  ट्विटर पर भी फ़ॉलो कर सकते हैं . ),xxbos आयोग का कहना है कि इस तरह के परीक्षण से महिलाओं को मानसिक परेशानी पहुंचती हैं . आयोग ने इसे यौन हिंसा की श्रेणी में रखा है . वर्जिनिटी टेस्ट के दौरान यह जांचा जाता है कि महिलाओं का xxunk बरकरार है या नहीं . मानवाधिकार संगठनों का कहना है कि अफ़ग़ानिस्तान में पुलिस अक्सर उन महिलाओं को वर्जिनिटी टेस्ट के लिए भेजती है , जो अपने साथी के साथ चली जाती हैं . कार्यकर्ताओं का कहना है कि इस परीक्षण से गुजरने वाली महिलाओं को सामाजिक कलंक समझा जाता है . इस महिला के वीडियो पर हंगामा है क्यों xxunk आयोग की इस मांग पर पुलिस ने किसी भी तरह की प्रतिक्रिया देने से इनकार किया है . अफ़ग़ानिस्तान में वर्जिनिटी टेस्ट से उन सभी महिलाओं को गुजरना होता है जो किसी भी तरह के अनैतिक बर्ताव के आरोप में गिरफ्तार की जाती हैं . आयोग का तर्क है कि वर्जिनिटी टेस्ट महिलाओं की मर्जी के ख़िलाफ़ किया जाता है , इसलिए यह किसी यौन शोषण से कम नहीं है . आयोग इसे मानवाधिकार हनन के रूप में भी देखता है . आयोग ने यह भी कहा है कि चिकित्सकीय दृष्टिकोण से xxunk का बरकरार रहना महिलाओं के कौमार्य होने का सबूत नहीं हो सकता . यह विभिन्न कारणों से नष्ट हो सकता है . अफ़ग़ानिस्तान में ' सुनती हो ' के ख़िलाफ़ फूटा xxunk ने एक सर्वे में इस तरह के परीक्षण से गुजरने वाली महिलाओं से बात की , जिसमें उन्होंने इसे अपमानित करने वाली प्रक्रिया बताया . महिलाओं ने इस क़ानून को मानसिक प्रताड़ना देने वाला बताया है . आयोग ने इस परीक्षण को अंतरराष्ट्रीय नीति के ख़िलाफ़ भी बताया है . संस्थान का कहना है कि वर्जिनिटी टेस्ट अक्सर पुरुष सुरक्षाकर्मी की मौजूदगी में किया जाता है.(बीबीसी हिन्दी के एंड्रॉएड ऐप के लिए आप यहां क्लिक कर सकते हैं . आप हमें फ़ेसबुक और ट्विटर पर फ़ॉलो भी कर सकते हैं . )\n",
       "y: CategoryList\n",
       "india,india,india,international,india\n",
       "Path: /home/jupyter/.fastai/data/hiwiki;\n",
       "\n",
       "Valid: LabelList (0 items)\n",
       "x: TextList\n",
       "\n",
       "y: CategoryList\n",
       "\n",
       "Path: /home/jupyter/.fastai/data/hiwiki;\n",
       "\n",
       "Test: None"
      ]
     },
     "execution_count": 17,
     "metadata": {},
     "output_type": "execute_result"
    }
   ],
   "source": [
    "data_valid"
   ]
  },
  {
   "cell_type": "code",
   "execution_count": 18,
   "metadata": {},
   "outputs": [
    {
     "name": "stdout",
     "output_type": "stream",
     "text": [
      "CPU times: user 2min, sys: 12.6 s, total: 2min 12s\n",
      "Wall time: 1min 59s\n"
     ]
    },
    {
     "data": {
      "text/html": [
       "<div>\n",
       "<style scoped>\n",
       "    .dataframe tbody tr th:only-of-type {\n",
       "        vertical-align: middle;\n",
       "    }\n",
       "\n",
       "    .dataframe tbody tr th {\n",
       "        vertical-align: top;\n",
       "    }\n",
       "\n",
       "    .dataframe thead th {\n",
       "        text-align: right;\n",
       "    }\n",
       "</style>\n",
       "<table border=\"1\" class=\"dataframe\">\n",
       "  <thead>\n",
       "    <tr style=\"text-align: right;\">\n",
       "      <th></th>\n",
       "      <th>query</th>\n",
       "      <th>actual_label</th>\n",
       "      <th>predicted_label</th>\n",
       "      <th>institutional</th>\n",
       "      <th>sport</th>\n",
       "      <th>southasia</th>\n",
       "      <th>international</th>\n",
       "      <th>multimedia</th>\n",
       "      <th>china</th>\n",
       "      <th>science</th>\n",
       "      <th>social</th>\n",
       "      <th>business</th>\n",
       "      <th>entertainment</th>\n",
       "      <th>news</th>\n",
       "      <th>india</th>\n",
       "      <th>pakistan</th>\n",
       "      <th>learningenglish</th>\n",
       "    </tr>\n",
       "  </thead>\n",
       "  <tbody>\n",
       "    <tr>\n",
       "      <th>0</th>\n",
       "      <td>बुधवार को राज्य सभा में विपक्ष के सवालों के जव...</td>\n",
       "      <td>india</td>\n",
       "      <td>india</td>\n",
       "      <td>9.90869e-07</td>\n",
       "      <td>2.25081e-05</td>\n",
       "      <td>1.89537e-05</td>\n",
       "      <td>5.9292e-06</td>\n",
       "      <td>9.41948e-06</td>\n",
       "      <td>1.93653e-05</td>\n",
       "      <td>9.62404e-06</td>\n",
       "      <td>9.56639e-07</td>\n",
       "      <td>0.000185502</td>\n",
       "      <td>1.38107e-06</td>\n",
       "      <td>0.000185853</td>\n",
       "      <td>0.999535</td>\n",
       "      <td>4.39761e-06</td>\n",
       "      <td>1.20206e-07</td>\n",
       "    </tr>\n",
       "    <tr>\n",
       "      <th>1</th>\n",
       "      <td>लखनऊ स्थित पत्रकार समीरात्मज मिश्र को बुलंदशहर...</td>\n",
       "      <td>india</td>\n",
       "      <td>india</td>\n",
       "      <td>1.07988e-08</td>\n",
       "      <td>8.56306e-06</td>\n",
       "      <td>6.10689e-07</td>\n",
       "      <td>6.73537e-05</td>\n",
       "      <td>6.15479e-07</td>\n",
       "      <td>4.61804e-08</td>\n",
       "      <td>4.06867e-06</td>\n",
       "      <td>9.79698e-07</td>\n",
       "      <td>1.44182e-08</td>\n",
       "      <td>1.46189e-07</td>\n",
       "      <td>1.9332e-06</td>\n",
       "      <td>0.999916</td>\n",
       "      <td>3.981e-08</td>\n",
       "      <td>1.97786e-10</td>\n",
       "    </tr>\n",
       "    <tr>\n",
       "      <th>2</th>\n",
       "      <td>लगभग 1300 हेक्टेयर ज़मीन का अधिग्रहण किया जा च...</td>\n",
       "      <td>india</td>\n",
       "      <td>india</td>\n",
       "      <td>1.06525e-07</td>\n",
       "      <td>4.28014e-06</td>\n",
       "      <td>6.64218e-06</td>\n",
       "      <td>2.29358e-05</td>\n",
       "      <td>6.75997e-06</td>\n",
       "      <td>4.85952e-06</td>\n",
       "      <td>7.12708e-05</td>\n",
       "      <td>2.13962e-06</td>\n",
       "      <td>1.52338e-05</td>\n",
       "      <td>1.88085e-06</td>\n",
       "      <td>5.85685e-05</td>\n",
       "      <td>0.999804</td>\n",
       "      <td>8.91926e-07</td>\n",
       "      <td>2.28584e-08</td>\n",
       "    </tr>\n",
       "    <tr>\n",
       "      <th>3</th>\n",
       "      <td>हालांकि उनके अंगरक्षकों को बमों को जाम करने वा...</td>\n",
       "      <td>international</td>\n",
       "      <td>international</td>\n",
       "      <td>3.38236e-05</td>\n",
       "      <td>6.26285e-06</td>\n",
       "      <td>1.60216e-06</td>\n",
       "      <td>0.999593</td>\n",
       "      <td>0.000213016</td>\n",
       "      <td>5.12082e-07</td>\n",
       "      <td>1.76678e-05</td>\n",
       "      <td>1.12523e-05</td>\n",
       "      <td>2.51526e-07</td>\n",
       "      <td>4.85849e-06</td>\n",
       "      <td>6.43646e-06</td>\n",
       "      <td>9.86394e-05</td>\n",
       "      <td>1.43315e-07</td>\n",
       "      <td>1.23582e-05</td>\n",
       "    </tr>\n",
       "    <tr>\n",
       "      <th>4</th>\n",
       "      <td>आयोग का कहना है कि इस तरह के परीक्षण से महिलाओ...</td>\n",
       "      <td>india</td>\n",
       "      <td>international</td>\n",
       "      <td>9.22305e-06</td>\n",
       "      <td>0.000115362</td>\n",
       "      <td>2.78595e-05</td>\n",
       "      <td>0.992164</td>\n",
       "      <td>0.000121846</td>\n",
       "      <td>1.85947e-05</td>\n",
       "      <td>6.24156e-05</td>\n",
       "      <td>0.00110607</td>\n",
       "      <td>4.99344e-08</td>\n",
       "      <td>3.59123e-05</td>\n",
       "      <td>4.82238e-06</td>\n",
       "      <td>0.00631702</td>\n",
       "      <td>1.00115e-05</td>\n",
       "      <td>7.23926e-06</td>\n",
       "    </tr>\n",
       "  </tbody>\n",
       "</table>\n",
       "</div>"
      ],
      "text/plain": [
       "                                               query   actual_label  \\\n",
       "0  बुधवार को राज्य सभा में विपक्ष के सवालों के जव...          india   \n",
       "1  लखनऊ स्थित पत्रकार समीरात्मज मिश्र को बुलंदशहर...          india   \n",
       "2  लगभग 1300 हेक्टेयर ज़मीन का अधिग्रहण किया जा च...          india   \n",
       "3  हालांकि उनके अंगरक्षकों को बमों को जाम करने वा...  international   \n",
       "4  आयोग का कहना है कि इस तरह के परीक्षण से महिलाओ...          india   \n",
       "\n",
       "  predicted_label institutional        sport    southasia international  \\\n",
       "0           india   9.90869e-07  2.25081e-05  1.89537e-05    5.9292e-06   \n",
       "1           india   1.07988e-08  8.56306e-06  6.10689e-07   6.73537e-05   \n",
       "2           india   1.06525e-07  4.28014e-06  6.64218e-06   2.29358e-05   \n",
       "3   international   3.38236e-05  6.26285e-06  1.60216e-06      0.999593   \n",
       "4   international   9.22305e-06  0.000115362  2.78595e-05      0.992164   \n",
       "\n",
       "    multimedia        china      science       social     business  \\\n",
       "0  9.41948e-06  1.93653e-05  9.62404e-06  9.56639e-07  0.000185502   \n",
       "1  6.15479e-07  4.61804e-08  4.06867e-06  9.79698e-07  1.44182e-08   \n",
       "2  6.75997e-06  4.85952e-06  7.12708e-05  2.13962e-06  1.52338e-05   \n",
       "3  0.000213016  5.12082e-07  1.76678e-05  1.12523e-05  2.51526e-07   \n",
       "4  0.000121846  1.85947e-05  6.24156e-05   0.00110607  4.99344e-08   \n",
       "\n",
       "  entertainment         news        india     pakistan learningenglish  \n",
       "0   1.38107e-06  0.000185853     0.999535  4.39761e-06     1.20206e-07  \n",
       "1   1.46189e-07   1.9332e-06     0.999916    3.981e-08     1.97786e-10  \n",
       "2   1.88085e-06  5.85685e-05     0.999804  8.91926e-07     2.28584e-08  \n",
       "3   4.85849e-06  6.43646e-06  9.86394e-05  1.43315e-07     1.23582e-05  \n",
       "4   3.59123e-05  4.82238e-06   0.00631702  1.00115e-05     7.23926e-06  "
      ]
     },
     "execution_count": 18,
     "metadata": {},
     "output_type": "execute_result"
    }
   ],
   "source": [
    "%%time\n",
    "from sklearn.metrics import accuracy_score, matthews_corrcoef\n",
    "df_dict = {'query': list(test_df[1]), 'actual_label': list(test_df[0]), 'predicted_label': ['']*test_df.shape[0]}\n",
    "all_nodes = list(set(train_df[0]))\n",
    "for node in all_nodes:\n",
    "    df_dict[node] = ['']*test_df.shape[0]\n",
    "    \n",
    "i2c = {}\n",
    "for key, value in learn_c.data.c2i.items():\n",
    "    i2c[value] = key\n",
    "    \n",
    "df_result = pd.DataFrame(df_dict)\n",
    "for index, row in df_result.iterrows():\n",
    "    pred = learn_c.predict(data_valid.train_ds[index])\n",
    "    for node in all_nodes:\n",
    "        row[node] = pred[2][learn_c.data.c2i[node]].item()\n",
    "    row['predicted_label'] = i2c[pred[0].data.item()]\n",
    "df_result.head()"
   ]
  },
  {
   "cell_type": "code",
   "execution_count": 19,
   "metadata": {},
   "outputs": [
    {
     "name": "stdout",
     "output_type": "stream",
     "text": [
      "<class 'pandas.core.frame.DataFrame'>\n",
      "RangeIndex: 866 entries, 0 to 865\n",
      "Data columns (total 17 columns):\n",
      "query              866 non-null object\n",
      "actual_label       866 non-null object\n",
      "predicted_label    866 non-null object\n",
      "institutional      866 non-null object\n",
      "sport              866 non-null object\n",
      "southasia          866 non-null object\n",
      "international      866 non-null object\n",
      "multimedia         866 non-null object\n",
      "china              866 non-null object\n",
      "science            866 non-null object\n",
      "social             866 non-null object\n",
      "business           866 non-null object\n",
      "entertainment      866 non-null object\n",
      "news               866 non-null object\n",
      "india              866 non-null object\n",
      "pakistan           866 non-null object\n",
      "learningenglish    866 non-null object\n",
      "dtypes: object(17)\n",
      "memory usage: 115.1+ KB\n"
     ]
    }
   ],
   "source": [
    "df_result.info()"
   ]
  },
  {
   "cell_type": "code",
   "execution_count": 20,
   "metadata": {},
   "outputs": [
    {
     "data": {
      "text/plain": [
       "0.7875288683602771"
      ]
     },
     "execution_count": 20,
     "metadata": {},
     "output_type": "execute_result"
    }
   ],
   "source": [
    "accuracy_score(df_result['actual_label'], df_result['predicted_label'])"
   ]
  },
  {
   "cell_type": "code",
   "execution_count": 21,
   "metadata": {},
   "outputs": [
    {
     "data": {
      "text/plain": [
       "0.7114524040323768"
      ]
     },
     "execution_count": 21,
     "metadata": {},
     "output_type": "execute_result"
    }
   ],
   "source": [
    "matthews_corrcoef(df_result['actual_label'], df_result['predicted_label'])"
   ]
  },
  {
   "cell_type": "code",
   "execution_count": 22,
   "metadata": {},
   "outputs": [
    {
     "data": {
      "text/plain": [
       "0.7875288683602771"
      ]
     },
     "execution_count": 22,
     "metadata": {},
     "output_type": "execute_result"
    }
   ],
   "source": [
    "f1_score(df_result['actual_label'], df_result['predicted_label'], average='micro')"
   ]
  },
  {
   "cell_type": "markdown",
   "metadata": {},
   "source": [
    "Similary, create a bwd model for the other two datasets."
   ]
  },
  {
   "cell_type": "markdown",
   "metadata": {},
   "source": [
    "## IIT-P Product Reviews"
   ]
  },
  {
   "cell_type": "code",
   "execution_count": 23,
   "metadata": {},
   "outputs": [
    {
     "data": {
      "text/html": [
       "<div>\n",
       "<style scoped>\n",
       "    .dataframe tbody tr th:only-of-type {\n",
       "        vertical-align: middle;\n",
       "    }\n",
       "\n",
       "    .dataframe tbody tr th {\n",
       "        vertical-align: top;\n",
       "    }\n",
       "\n",
       "    .dataframe thead th {\n",
       "        text-align: right;\n",
       "    }\n",
       "</style>\n",
       "<table border=\"1\" class=\"dataframe\">\n",
       "  <thead>\n",
       "    <tr style=\"text-align: right;\">\n",
       "      <th></th>\n",
       "      <th>0</th>\n",
       "      <th>1</th>\n",
       "    </tr>\n",
       "  </thead>\n",
       "  <tbody>\n",
       "    <tr>\n",
       "      <th>0</th>\n",
       "      <td>negative</td>\n",
       "      <td>एंडराॅयड के मामले में यह थोड़ा पीछे है ।</td>\n",
       "    </tr>\n",
       "    <tr>\n",
       "      <th>1</th>\n",
       "      <td>neutral</td>\n",
       "      <td>यह एस्पेक्ट रेशो का ईश्यू है और हम आशा करते है...</td>\n",
       "    </tr>\n",
       "    <tr>\n",
       "      <th>2</th>\n",
       "      <td>positive</td>\n",
       "      <td>लेकिन इस तरह के एक मॉडल के एक घर कंप्यूटर के ल...</td>\n",
       "    </tr>\n",
       "    <tr>\n",
       "      <th>3</th>\n",
       "      <td>positive</td>\n",
       "      <td>गिर वन राष्ट्रीय उद्यान बाघ संरक्षित क्षेत्र ह...</td>\n",
       "    </tr>\n",
       "    <tr>\n",
       "      <th>4</th>\n",
       "      <td>neutral</td>\n",
       "      <td>और हां , इस फिल्म में हर किरदार भारद्वाज को भर...</td>\n",
       "    </tr>\n",
       "  </tbody>\n",
       "</table>\n",
       "</div>"
      ],
      "text/plain": [
       "          0                                                  1\n",
       "0  negative           एंडराॅयड के मामले में यह थोड़ा पीछे है ।\n",
       "1   neutral  यह एस्पेक्ट रेशो का ईश्यू है और हम आशा करते है...\n",
       "2  positive  लेकिन इस तरह के एक मॉडल के एक घर कंप्यूटर के ल...\n",
       "3  positive  गिर वन राष्ट्रीय उद्यान बाघ संरक्षित क्षेत्र ह...\n",
       "4   neutral  और हां , इस फिल्म में हर किरदार भारद्वाज को भर..."
      ]
     },
     "execution_count": 23,
     "metadata": {},
     "output_type": "execute_result"
    }
   ],
   "source": [
    "train_df = pd.read_csv('data/iitp-product-reviews/hi-train.csv', header=None)\n",
    "train_df.head()"
   ]
  },
  {
   "cell_type": "code",
   "execution_count": 24,
   "metadata": {},
   "outputs": [
    {
     "data": {
      "text/html": [
       "<div>\n",
       "<style scoped>\n",
       "    .dataframe tbody tr th:only-of-type {\n",
       "        vertical-align: middle;\n",
       "    }\n",
       "\n",
       "    .dataframe tbody tr th {\n",
       "        vertical-align: top;\n",
       "    }\n",
       "\n",
       "    .dataframe thead th {\n",
       "        text-align: right;\n",
       "    }\n",
       "</style>\n",
       "<table border=\"1\" class=\"dataframe\">\n",
       "  <thead>\n",
       "    <tr style=\"text-align: right;\">\n",
       "      <th></th>\n",
       "      <th>0</th>\n",
       "      <th>1</th>\n",
       "    </tr>\n",
       "  </thead>\n",
       "  <tbody>\n",
       "    <tr>\n",
       "      <th>0</th>\n",
       "      <td>positive</td>\n",
       "      <td>एक ऐसा भी जानवर है , जिसे आप पसंद तो करते होंग...</td>\n",
       "    </tr>\n",
       "    <tr>\n",
       "      <th>1</th>\n",
       "      <td>neutral</td>\n",
       "      <td>इतना नहीं बल्कि यहां पर कंपनी अपना पहला फाइव स...</td>\n",
       "    </tr>\n",
       "    <tr>\n",
       "      <th>2</th>\n",
       "      <td>neutral</td>\n",
       "      <td>डिजिफलीप प्रो XT811 , 1200 x 800 P और 8 इंच डि...</td>\n",
       "    </tr>\n",
       "    <tr>\n",
       "      <th>3</th>\n",
       "      <td>positive</td>\n",
       "      <td>निकोन डी810 कैमरे की सबसे खास बात ये है कि इसम...</td>\n",
       "    </tr>\n",
       "    <tr>\n",
       "      <th>4</th>\n",
       "      <td>positive</td>\n",
       "      <td>इसमें विंडोज 8 64-बिट ऑपरेटिंग सिस्टम है , लेक...</td>\n",
       "    </tr>\n",
       "  </tbody>\n",
       "</table>\n",
       "</div>"
      ],
      "text/plain": [
       "          0                                                  1\n",
       "0  positive  एक ऐसा भी जानवर है , जिसे आप पसंद तो करते होंग...\n",
       "1   neutral  इतना नहीं बल्कि यहां पर कंपनी अपना पहला फाइव स...\n",
       "2   neutral  डिजिफलीप प्रो XT811 , 1200 x 800 P और 8 इंच डि...\n",
       "3  positive  निकोन डी810 कैमरे की सबसे खास बात ये है कि इसम...\n",
       "4  positive  इसमें विंडोज 8 64-बिट ऑपरेटिंग सिस्टम है , लेक..."
      ]
     },
     "execution_count": 24,
     "metadata": {},
     "output_type": "execute_result"
    }
   ],
   "source": [
    "valid_df = pd.read_csv('data/iitp-product-reviews/hi-valid.csv', header=None)\n",
    "valid_df.head()"
   ]
  },
  {
   "cell_type": "code",
   "execution_count": 25,
   "metadata": {},
   "outputs": [
    {
     "data": {
      "text/html": [
       "<div>\n",
       "<style scoped>\n",
       "    .dataframe tbody tr th:only-of-type {\n",
       "        vertical-align: middle;\n",
       "    }\n",
       "\n",
       "    .dataframe tbody tr th {\n",
       "        vertical-align: top;\n",
       "    }\n",
       "\n",
       "    .dataframe thead th {\n",
       "        text-align: right;\n",
       "    }\n",
       "</style>\n",
       "<table border=\"1\" class=\"dataframe\">\n",
       "  <thead>\n",
       "    <tr style=\"text-align: right;\">\n",
       "      <th></th>\n",
       "      <th>0</th>\n",
       "      <th>1</th>\n",
       "    </tr>\n",
       "  </thead>\n",
       "  <tbody>\n",
       "    <tr>\n",
       "      <th>0</th>\n",
       "      <td>neutral</td>\n",
       "      <td>मगर , इस तरफ कोई ध्यान नहीं दिया जा रहा ।</td>\n",
       "    </tr>\n",
       "    <tr>\n",
       "      <th>1</th>\n",
       "      <td>negative</td>\n",
       "      <td>गेम कई बार मुश्किल मालूम देता है ।</td>\n",
       "    </tr>\n",
       "    <tr>\n",
       "      <th>2</th>\n",
       "      <td>negative</td>\n",
       "      <td>मल्टीप्लेयर में छोटी स्टोरीलाइन है ।</td>\n",
       "    </tr>\n",
       "    <tr>\n",
       "      <th>3</th>\n",
       "      <td>positive</td>\n",
       "      <td>हाई - एंड एचपी नोटबुक्स की लुक्स हमेशा बेहतरीन...</td>\n",
       "    </tr>\n",
       "    <tr>\n",
       "      <th>4</th>\n",
       "      <td>positive</td>\n",
       "      <td>कैमरे बनाने वाली कंपनी निकोन अपनी 1 सीरीज कैमर...</td>\n",
       "    </tr>\n",
       "  </tbody>\n",
       "</table>\n",
       "</div>"
      ],
      "text/plain": [
       "          0                                                  1\n",
       "0   neutral          मगर , इस तरफ कोई ध्यान नहीं दिया जा रहा ।\n",
       "1  negative                 गेम कई बार मुश्किल मालूम देता है ।\n",
       "2  negative               मल्टीप्लेयर में छोटी स्टोरीलाइन है ।\n",
       "3  positive  हाई - एंड एचपी नोटबुक्स की लुक्स हमेशा बेहतरीन...\n",
       "4  positive  कैमरे बनाने वाली कंपनी निकोन अपनी 1 सीरीज कैमर..."
      ]
     },
     "execution_count": 25,
     "metadata": {},
     "output_type": "execute_result"
    }
   ],
   "source": [
    "test_df = pd.read_csv('data/iitp-product-reviews/hi-test.csv', header=None)\n",
    "test_df.head()"
   ]
  },
  {
   "cell_type": "code",
   "execution_count": 26,
   "metadata": {},
   "outputs": [],
   "source": [
    "df = pd.concat([train_df,test_df, valid_df], sort=False)"
   ]
  },
  {
   "cell_type": "code",
   "execution_count": 27,
   "metadata": {},
   "outputs": [
    {
     "data": {
      "text/html": [],
      "text/plain": [
       "<IPython.core.display.HTML object>"
      ]
     },
     "metadata": {},
     "output_type": "display_data"
    },
    {
     "data": {
      "text/html": [],
      "text/plain": [
       "<IPython.core.display.HTML object>"
      ]
     },
     "metadata": {},
     "output_type": "display_data"
    }
   ],
   "source": [
    "data_lm = (TextList.from_df(df, path, cols=1)\n",
    "    .split_by_rand_pct(0.1, seed=42)\n",
    "    .label_for_lm()           \n",
    "    .databunch(bs=bs, num_workers=1, backwards=True))"
   ]
  },
  {
   "cell_type": "code",
   "execution_count": 28,
   "metadata": {},
   "outputs": [],
   "source": [
    "learn_lm = language_model_learner(data_lm, AWD_LSTM, pretrained_fnames=lm_fns, drop_mult=1.0)"
   ]
  },
  {
   "cell_type": "code",
   "execution_count": 29,
   "metadata": {},
   "outputs": [],
   "source": [
    "lr = 1e-3\n",
    "lr *= bs/48"
   ]
  },
  {
   "cell_type": "code",
   "execution_count": 30,
   "metadata": {},
   "outputs": [
    {
     "data": {
      "text/html": [
       "<table border=\"1\" class=\"dataframe\">\n",
       "  <thead>\n",
       "    <tr style=\"text-align: left;\">\n",
       "      <th>epoch</th>\n",
       "      <th>train_loss</th>\n",
       "      <th>valid_loss</th>\n",
       "      <th>accuracy</th>\n",
       "      <th>time</th>\n",
       "    </tr>\n",
       "  </thead>\n",
       "  <tbody>\n",
       "    <tr>\n",
       "      <td>0</td>\n",
       "      <td>4.950140</td>\n",
       "      <td>4.135259</td>\n",
       "      <td>0.288170</td>\n",
       "      <td>00:02</td>\n",
       "    </tr>\n",
       "    <tr>\n",
       "      <td>1</td>\n",
       "      <td>4.510882</td>\n",
       "      <td>3.899812</td>\n",
       "      <td>0.299944</td>\n",
       "      <td>00:02</td>\n",
       "    </tr>\n",
       "  </tbody>\n",
       "</table>"
      ],
      "text/plain": [
       "<IPython.core.display.HTML object>"
      ]
     },
     "metadata": {},
     "output_type": "display_data"
    }
   ],
   "source": [
    "# finetuning the language model\n",
    "learn_lm.fit_one_cycle(2, lr*10, moms=(0.8,0.7))"
   ]
  },
  {
   "cell_type": "code",
   "execution_count": 31,
   "metadata": {},
   "outputs": [
    {
     "data": {
      "text/html": [
       "<table border=\"1\" class=\"dataframe\">\n",
       "  <thead>\n",
       "    <tr style=\"text-align: left;\">\n",
       "      <th>epoch</th>\n",
       "      <th>train_loss</th>\n",
       "      <th>valid_loss</th>\n",
       "      <th>accuracy</th>\n",
       "      <th>time</th>\n",
       "    </tr>\n",
       "  </thead>\n",
       "  <tbody>\n",
       "    <tr>\n",
       "      <td>0</td>\n",
       "      <td>4.029308</td>\n",
       "      <td>3.835566</td>\n",
       "      <td>0.304074</td>\n",
       "      <td>00:02</td>\n",
       "    </tr>\n",
       "    <tr>\n",
       "      <td>1</td>\n",
       "      <td>3.966516</td>\n",
       "      <td>3.714226</td>\n",
       "      <td>0.322489</td>\n",
       "      <td>00:02</td>\n",
       "    </tr>\n",
       "    <tr>\n",
       "      <td>2</td>\n",
       "      <td>3.890238</td>\n",
       "      <td>3.638484</td>\n",
       "      <td>0.328292</td>\n",
       "      <td>00:02</td>\n",
       "    </tr>\n",
       "    <tr>\n",
       "      <td>3</td>\n",
       "      <td>3.820797</td>\n",
       "      <td>3.592114</td>\n",
       "      <td>0.331696</td>\n",
       "      <td>00:02</td>\n",
       "    </tr>\n",
       "    <tr>\n",
       "      <td>4</td>\n",
       "      <td>3.762119</td>\n",
       "      <td>3.564978</td>\n",
       "      <td>0.331752</td>\n",
       "      <td>00:02</td>\n",
       "    </tr>\n",
       "    <tr>\n",
       "      <td>5</td>\n",
       "      <td>3.723857</td>\n",
       "      <td>3.551371</td>\n",
       "      <td>0.331473</td>\n",
       "      <td>00:02</td>\n",
       "    </tr>\n",
       "    <tr>\n",
       "      <td>6</td>\n",
       "      <td>3.692766</td>\n",
       "      <td>3.544807</td>\n",
       "      <td>0.331250</td>\n",
       "      <td>00:02</td>\n",
       "    </tr>\n",
       "    <tr>\n",
       "      <td>7</td>\n",
       "      <td>3.655950</td>\n",
       "      <td>3.546231</td>\n",
       "      <td>0.331808</td>\n",
       "      <td>00:02</td>\n",
       "    </tr>\n",
       "  </tbody>\n",
       "</table>"
      ],
      "text/plain": [
       "<IPython.core.display.HTML object>"
      ]
     },
     "metadata": {},
     "output_type": "display_data"
    }
   ],
   "source": [
    "learn_lm.unfreeze()\n",
    "learn_lm.fit_one_cycle(8, lr, moms=(0.8,0.7))"
   ]
  },
  {
   "cell_type": "code",
   "execution_count": 32,
   "metadata": {},
   "outputs": [],
   "source": [
    "learn_lm.save(f'{lang}fine_tuned_product_reviews_bwd')\n",
    "learn_lm.save_encoder(f'{lang}fine_tuned_enc_product_reviews_bwd')"
   ]
  },
  {
   "cell_type": "code",
   "execution_count": 33,
   "metadata": {},
   "outputs": [
    {
     "data": {
      "text/plain": [
       "100"
      ]
     },
     "execution_count": 33,
     "metadata": {},
     "output_type": "execute_result"
    }
   ],
   "source": [
    "learn_lm = None\n",
    "learn = None\n",
    "gc.collect()"
   ]
  },
  {
   "cell_type": "markdown",
   "metadata": {},
   "source": [
    "### Classifier"
   ]
  },
  {
   "cell_type": "code",
   "execution_count": 34,
   "metadata": {},
   "outputs": [],
   "source": [
    "product_reviews = pd.concat([train_df,valid_df], sort=False)"
   ]
  },
  {
   "cell_type": "code",
   "execution_count": 35,
   "metadata": {},
   "outputs": [
    {
     "data": {
      "text/html": [],
      "text/plain": [
       "<IPython.core.display.HTML object>"
      ]
     },
     "metadata": {},
     "output_type": "display_data"
    },
    {
     "data": {
      "text/html": [],
      "text/plain": [
       "<IPython.core.display.HTML object>"
      ]
     },
     "metadata": {},
     "output_type": "display_data"
    }
   ],
   "source": [
    "data_clas = (TextList.from_df(product_reviews, path, vocab=data_lm.vocab, cols=1)\n",
    "    .split_by_rand_pct(0.1, seed=42)\n",
    "    .label_from_df(cols=0)\n",
    "    .databunch(bs=bs, num_workers=1, backwards=True))\n",
    "\n",
    "data_clas.save(f'{lang}_textlist_class_product_reviews_bwd')"
   ]
  },
  {
   "cell_type": "code",
   "execution_count": 36,
   "metadata": {},
   "outputs": [],
   "source": [
    "data_clas = load_data(path, f'{lang}_textlist_class_product_reviews_bwd', bs=bs, num_workers=1, backwards=True)"
   ]
  },
  {
   "cell_type": "code",
   "execution_count": 37,
   "metadata": {},
   "outputs": [
    {
     "data": {
      "text/plain": [
       "(['negative', 'neutral', 'positive'], 3)"
      ]
     },
     "execution_count": 37,
     "metadata": {},
     "output_type": "execute_result"
    }
   ],
   "source": [
    "data_clas.classes, data_clas.c"
   ]
  },
  {
   "cell_type": "code",
   "execution_count": 38,
   "metadata": {},
   "outputs": [],
   "source": [
    "from sklearn.metrics import f1_score\n",
    "\n",
    "@np_func\n",
    "def f1(inp,targ): return f1_score(targ, np.argmax(inp, axis=-1), average='micro')\n",
    "\n",
    "mcc = MatthewsCorreff()"
   ]
  },
  {
   "cell_type": "code",
   "execution_count": 39,
   "metadata": {},
   "outputs": [],
   "source": [
    "learn_c = text_classifier_learner(data_clas, AWD_LSTM, drop_mult=0.5, metrics=[accuracy,f1, mcc]).to_fp16()\n",
    "learn_c.load_encoder(f'{lang}fine_tuned_enc_product_reviews_bwd')\n",
    "learn_c.freeze()"
   ]
  },
  {
   "cell_type": "code",
   "execution_count": 40,
   "metadata": {},
   "outputs": [],
   "source": [
    "lr=2e-2\n",
    "lr *= bs/48"
   ]
  },
  {
   "cell_type": "code",
   "execution_count": 41,
   "metadata": {},
   "outputs": [
    {
     "data": {
      "text/html": [
       "<table border=\"1\" class=\"dataframe\">\n",
       "  <thead>\n",
       "    <tr style=\"text-align: left;\">\n",
       "      <th>epoch</th>\n",
       "      <th>train_loss</th>\n",
       "      <th>valid_loss</th>\n",
       "      <th>accuracy</th>\n",
       "      <th>f1</th>\n",
       "      <th>matthews_correff</th>\n",
       "      <th>time</th>\n",
       "    </tr>\n",
       "  </thead>\n",
       "  <tbody>\n",
       "    <tr>\n",
       "      <td>0</td>\n",
       "      <td>0.881692</td>\n",
       "      <td>0.851152</td>\n",
       "      <td>0.548936</td>\n",
       "      <td>0.548936</td>\n",
       "      <td>0.241555</td>\n",
       "      <td>00:01</td>\n",
       "    </tr>\n",
       "    <tr>\n",
       "      <td>1</td>\n",
       "      <td>0.797685</td>\n",
       "      <td>0.697554</td>\n",
       "      <td>0.693617</td>\n",
       "      <td>0.693617</td>\n",
       "      <td>0.475431</td>\n",
       "      <td>00:01</td>\n",
       "    </tr>\n",
       "  </tbody>\n",
       "</table>"
      ],
      "text/plain": [
       "<IPython.core.display.HTML object>"
      ]
     },
     "metadata": {},
     "output_type": "display_data"
    }
   ],
   "source": [
    "learn_c.fit_one_cycle(2, lr, moms=(0.8,0.7))"
   ]
  },
  {
   "cell_type": "code",
   "execution_count": 42,
   "metadata": {},
   "outputs": [
    {
     "data": {
      "text/html": [
       "<table border=\"1\" class=\"dataframe\">\n",
       "  <thead>\n",
       "    <tr style=\"text-align: left;\">\n",
       "      <th>epoch</th>\n",
       "      <th>train_loss</th>\n",
       "      <th>valid_loss</th>\n",
       "      <th>accuracy</th>\n",
       "      <th>f1</th>\n",
       "      <th>matthews_correff</th>\n",
       "      <th>time</th>\n",
       "    </tr>\n",
       "  </thead>\n",
       "  <tbody>\n",
       "    <tr>\n",
       "      <td>0</td>\n",
       "      <td>0.775430</td>\n",
       "      <td>0.737605</td>\n",
       "      <td>0.661702</td>\n",
       "      <td>0.661702</td>\n",
       "      <td>0.420812</td>\n",
       "      <td>00:01</td>\n",
       "    </tr>\n",
       "    <tr>\n",
       "      <td>1</td>\n",
       "      <td>0.741524</td>\n",
       "      <td>0.790249</td>\n",
       "      <td>0.651064</td>\n",
       "      <td>0.651064</td>\n",
       "      <td>0.418962</td>\n",
       "      <td>00:01</td>\n",
       "    </tr>\n",
       "  </tbody>\n",
       "</table>"
      ],
      "text/plain": [
       "<IPython.core.display.HTML object>"
      ]
     },
     "metadata": {},
     "output_type": "display_data"
    }
   ],
   "source": [
    "learn_c.fit_one_cycle(2, lr, moms=(0.8,0.7))"
   ]
  },
  {
   "cell_type": "code",
   "execution_count": 43,
   "metadata": {},
   "outputs": [
    {
     "data": {
      "text/html": [
       "<table border=\"1\" class=\"dataframe\">\n",
       "  <thead>\n",
       "    <tr style=\"text-align: left;\">\n",
       "      <th>epoch</th>\n",
       "      <th>train_loss</th>\n",
       "      <th>valid_loss</th>\n",
       "      <th>accuracy</th>\n",
       "      <th>f1</th>\n",
       "      <th>matthews_correff</th>\n",
       "      <th>time</th>\n",
       "    </tr>\n",
       "  </thead>\n",
       "  <tbody>\n",
       "    <tr>\n",
       "      <td>0</td>\n",
       "      <td>0.746863</td>\n",
       "      <td>0.775865</td>\n",
       "      <td>0.672340</td>\n",
       "      <td>0.672340</td>\n",
       "      <td>0.442657</td>\n",
       "      <td>00:01</td>\n",
       "    </tr>\n",
       "    <tr>\n",
       "      <td>1</td>\n",
       "      <td>0.640803</td>\n",
       "      <td>0.648860</td>\n",
       "      <td>0.719149</td>\n",
       "      <td>0.719149</td>\n",
       "      <td>0.531514</td>\n",
       "      <td>00:01</td>\n",
       "    </tr>\n",
       "  </tbody>\n",
       "</table>"
      ],
      "text/plain": [
       "<IPython.core.display.HTML object>"
      ]
     },
     "metadata": {},
     "output_type": "display_data"
    }
   ],
   "source": [
    "learn_c.freeze_to(-2)\n",
    "learn_c.fit_one_cycle(2, slice(lr/(2.6**4),lr), moms=(0.8,0.7))"
   ]
  },
  {
   "cell_type": "code",
   "execution_count": 44,
   "metadata": {},
   "outputs": [
    {
     "data": {
      "text/html": [
       "<table border=\"1\" class=\"dataframe\">\n",
       "  <thead>\n",
       "    <tr style=\"text-align: left;\">\n",
       "      <th>epoch</th>\n",
       "      <th>train_loss</th>\n",
       "      <th>valid_loss</th>\n",
       "      <th>accuracy</th>\n",
       "      <th>f1</th>\n",
       "      <th>matthews_correff</th>\n",
       "      <th>time</th>\n",
       "    </tr>\n",
       "  </thead>\n",
       "  <tbody>\n",
       "    <tr>\n",
       "      <td>0</td>\n",
       "      <td>0.524273</td>\n",
       "      <td>0.788469</td>\n",
       "      <td>0.676596</td>\n",
       "      <td>0.676596</td>\n",
       "      <td>0.474974</td>\n",
       "      <td>00:01</td>\n",
       "    </tr>\n",
       "    <tr>\n",
       "      <td>1</td>\n",
       "      <td>0.433442</td>\n",
       "      <td>0.678182</td>\n",
       "      <td>0.727660</td>\n",
       "      <td>0.727660</td>\n",
       "      <td>0.546638</td>\n",
       "      <td>00:01</td>\n",
       "    </tr>\n",
       "  </tbody>\n",
       "</table>"
      ],
      "text/plain": [
       "<IPython.core.display.HTML object>"
      ]
     },
     "metadata": {},
     "output_type": "display_data"
    }
   ],
   "source": [
    "learn_c.freeze_to(-3)\n",
    "learn_c.fit_one_cycle(2, slice(lr/2/(2.6**4),lr/2), moms=(0.8,0.7))"
   ]
  },
  {
   "cell_type": "code",
   "execution_count": 45,
   "metadata": {},
   "outputs": [
    {
     "data": {
      "text/html": [
       "<table border=\"1\" class=\"dataframe\">\n",
       "  <thead>\n",
       "    <tr style=\"text-align: left;\">\n",
       "      <th>epoch</th>\n",
       "      <th>train_loss</th>\n",
       "      <th>valid_loss</th>\n",
       "      <th>accuracy</th>\n",
       "      <th>f1</th>\n",
       "      <th>matthews_correff</th>\n",
       "      <th>time</th>\n",
       "    </tr>\n",
       "  </thead>\n",
       "  <tbody>\n",
       "    <tr>\n",
       "      <td>0</td>\n",
       "      <td>0.282072</td>\n",
       "      <td>0.729670</td>\n",
       "      <td>0.731915</td>\n",
       "      <td>0.731915</td>\n",
       "      <td>0.552680</td>\n",
       "      <td>00:02</td>\n",
       "    </tr>\n",
       "    <tr>\n",
       "      <td>1</td>\n",
       "      <td>0.265053</td>\n",
       "      <td>0.768575</td>\n",
       "      <td>0.731915</td>\n",
       "      <td>0.731915</td>\n",
       "      <td>0.550103</td>\n",
       "      <td>00:02</td>\n",
       "    </tr>\n",
       "  </tbody>\n",
       "</table>"
      ],
      "text/plain": [
       "<IPython.core.display.HTML object>"
      ]
     },
     "metadata": {},
     "output_type": "display_data"
    }
   ],
   "source": [
    "learn_c.unfreeze()\n",
    "learn_c.fit_one_cycle(2, slice(lr/10/(2.6**4),lr/10), moms=(0.8,0.7))"
   ]
  },
  {
   "cell_type": "code",
   "execution_count": 46,
   "metadata": {},
   "outputs": [],
   "source": [
    "learn_c.save(f'{lang}clas_product_reviews_bwd')"
   ]
  },
  {
   "cell_type": "code",
   "execution_count": 47,
   "metadata": {},
   "outputs": [],
   "source": [
    "learn_c.load(f'{lang}clas_product_reviews_bwd');"
   ]
  },
  {
   "cell_type": "code",
   "execution_count": 48,
   "metadata": {},
   "outputs": [
    {
     "data": {
      "text/html": [],
      "text/plain": [
       "<IPython.core.display.HTML object>"
      ]
     },
     "metadata": {},
     "output_type": "display_data"
    },
    {
     "data": {
      "text/html": [],
      "text/plain": [
       "<IPython.core.display.HTML object>"
      ]
     },
     "metadata": {},
     "output_type": "display_data"
    }
   ],
   "source": [
    "data_valid = (TextList.from_df(test_df, path, vocab=data_lm.vocab, cols=1)\n",
    "    .split_none()\n",
    "    .label_from_df(cols=0)\n",
    "    .databunch(bs=bs, num_workers=1, backwards=True))"
   ]
  },
  {
   "cell_type": "code",
   "execution_count": 49,
   "metadata": {},
   "outputs": [
    {
     "data": {
      "text/plain": [
       "TextClasDataBunch;\n",
       "\n",
       "Train: LabelList (523 items)\n",
       "x: TextList\n",
       "xxbos मगर , इस तरफ कोई ध्यान नहीं दिया जा रहा ।,xxbos गेम कई बार मुश्किल मालूम देता है ।,xxbos xxunk में छोटी xxunk है ।,xxbos हाई - एंड एचपी नोटबुक्स की लुक्स हमेशा बेहतरीन होती है – अत्याधुनिक और xxunk लुक जो हर किसी को xxunk हैं ।,xxbos कैमरे बनाने वाली कंपनी निकोन अपनी 1 सीरीज कैमरों में xxunk करते हुए इस सीरीज का सबसे शानदार कैमरा लेकर आई है ।\n",
       "y: CategoryList\n",
       "neutral,negative,negative,positive,positive\n",
       "Path: /home/jupyter/.fastai/data/hiwiki;\n",
       "\n",
       "Valid: LabelList (0 items)\n",
       "x: TextList\n",
       "\n",
       "y: CategoryList\n",
       "\n",
       "Path: /home/jupyter/.fastai/data/hiwiki;\n",
       "\n",
       "Test: None"
      ]
     },
     "execution_count": 49,
     "metadata": {},
     "output_type": "execute_result"
    }
   ],
   "source": [
    "data_valid"
   ]
  },
  {
   "cell_type": "code",
   "execution_count": 50,
   "metadata": {},
   "outputs": [
    {
     "name": "stdout",
     "output_type": "stream",
     "text": [
      "CPU times: user 26.1 s, sys: 116 ms, total: 26.2 s\n",
      "Wall time: 25.7 s\n"
     ]
    },
    {
     "data": {
      "text/html": [
       "<div>\n",
       "<style scoped>\n",
       "    .dataframe tbody tr th:only-of-type {\n",
       "        vertical-align: middle;\n",
       "    }\n",
       "\n",
       "    .dataframe tbody tr th {\n",
       "        vertical-align: top;\n",
       "    }\n",
       "\n",
       "    .dataframe thead th {\n",
       "        text-align: right;\n",
       "    }\n",
       "</style>\n",
       "<table border=\"1\" class=\"dataframe\">\n",
       "  <thead>\n",
       "    <tr style=\"text-align: right;\">\n",
       "      <th></th>\n",
       "      <th>query</th>\n",
       "      <th>actual_label</th>\n",
       "      <th>predicted_label</th>\n",
       "      <th>positive</th>\n",
       "      <th>neutral</th>\n",
       "      <th>negative</th>\n",
       "    </tr>\n",
       "  </thead>\n",
       "  <tbody>\n",
       "    <tr>\n",
       "      <th>0</th>\n",
       "      <td>मगर , इस तरफ कोई ध्यान नहीं दिया जा रहा ।</td>\n",
       "      <td>neutral</td>\n",
       "      <td>neutral</td>\n",
       "      <td>0.00866491</td>\n",
       "      <td>0.514536</td>\n",
       "      <td>0.476799</td>\n",
       "    </tr>\n",
       "    <tr>\n",
       "      <th>1</th>\n",
       "      <td>गेम कई बार मुश्किल मालूम देता है ।</td>\n",
       "      <td>negative</td>\n",
       "      <td>positive</td>\n",
       "      <td>0.984325</td>\n",
       "      <td>0.00596845</td>\n",
       "      <td>0.00970669</td>\n",
       "    </tr>\n",
       "    <tr>\n",
       "      <th>2</th>\n",
       "      <td>मल्टीप्लेयर में छोटी स्टोरीलाइन है ।</td>\n",
       "      <td>negative</td>\n",
       "      <td>negative</td>\n",
       "      <td>0.211786</td>\n",
       "      <td>0.11343</td>\n",
       "      <td>0.674783</td>\n",
       "    </tr>\n",
       "    <tr>\n",
       "      <th>3</th>\n",
       "      <td>हाई - एंड एचपी नोटबुक्स की लुक्स हमेशा बेहतरीन...</td>\n",
       "      <td>positive</td>\n",
       "      <td>positive</td>\n",
       "      <td>0.998921</td>\n",
       "      <td>0.00069841</td>\n",
       "      <td>0.000380461</td>\n",
       "    </tr>\n",
       "    <tr>\n",
       "      <th>4</th>\n",
       "      <td>कैमरे बनाने वाली कंपनी निकोन अपनी 1 सीरीज कैमर...</td>\n",
       "      <td>positive</td>\n",
       "      <td>positive</td>\n",
       "      <td>0.991544</td>\n",
       "      <td>0.00837572</td>\n",
       "      <td>8.04066e-05</td>\n",
       "    </tr>\n",
       "  </tbody>\n",
       "</table>\n",
       "</div>"
      ],
      "text/plain": [
       "                                               query actual_label  \\\n",
       "0          मगर , इस तरफ कोई ध्यान नहीं दिया जा रहा ।      neutral   \n",
       "1                 गेम कई बार मुश्किल मालूम देता है ।     negative   \n",
       "2               मल्टीप्लेयर में छोटी स्टोरीलाइन है ।     negative   \n",
       "3  हाई - एंड एचपी नोटबुक्स की लुक्स हमेशा बेहतरीन...     positive   \n",
       "4  कैमरे बनाने वाली कंपनी निकोन अपनी 1 सीरीज कैमर...     positive   \n",
       "\n",
       "  predicted_label    positive     neutral     negative  \n",
       "0         neutral  0.00866491    0.514536     0.476799  \n",
       "1        positive    0.984325  0.00596845   0.00970669  \n",
       "2        negative    0.211786     0.11343     0.674783  \n",
       "3        positive    0.998921  0.00069841  0.000380461  \n",
       "4        positive    0.991544  0.00837572  8.04066e-05  "
      ]
     },
     "execution_count": 50,
     "metadata": {},
     "output_type": "execute_result"
    }
   ],
   "source": [
    "%%time\n",
    "from sklearn.metrics import accuracy_score, matthews_corrcoef\n",
    "df_dict = {'query': list(test_df[1]), 'actual_label': list(test_df[0]), 'predicted_label': ['']*test_df.shape[0]}\n",
    "all_nodes = list(set(train_df[0]))\n",
    "for node in all_nodes:\n",
    "    df_dict[node] = ['']*test_df.shape[0]\n",
    "    \n",
    "i2c = {}\n",
    "for key, value in learn_c.data.c2i.items():\n",
    "    i2c[value] = key\n",
    "    \n",
    "df_result = pd.DataFrame(df_dict)\n",
    "for index, row in df_result.iterrows():\n",
    "    pred = learn_c.predict(data_valid.train_ds[index])\n",
    "    for node in all_nodes:\n",
    "        row[node] = pred[2][learn_c.data.c2i[node]].item()\n",
    "    row['predicted_label'] = i2c[pred[0].data.item()]\n",
    "df_result.head()"
   ]
  },
  {
   "cell_type": "code",
   "execution_count": 51,
   "metadata": {},
   "outputs": [
    {
     "name": "stdout",
     "output_type": "stream",
     "text": [
      "<class 'pandas.core.frame.DataFrame'>\n",
      "RangeIndex: 523 entries, 0 to 522\n",
      "Data columns (total 6 columns):\n",
      "query              523 non-null object\n",
      "actual_label       523 non-null object\n",
      "predicted_label    523 non-null object\n",
      "positive           523 non-null object\n",
      "neutral            523 non-null object\n",
      "negative           523 non-null object\n",
      "dtypes: object(6)\n",
      "memory usage: 24.6+ KB\n"
     ]
    }
   ],
   "source": [
    "df_result.info()"
   ]
  },
  {
   "cell_type": "code",
   "execution_count": 52,
   "metadata": {},
   "outputs": [
    {
     "data": {
      "text/plain": [
       "0.7590822179732314"
      ]
     },
     "execution_count": 52,
     "metadata": {},
     "output_type": "execute_result"
    }
   ],
   "source": [
    "accuracy_score(df_result['actual_label'], df_result['predicted_label'])"
   ]
  },
  {
   "cell_type": "code",
   "execution_count": 53,
   "metadata": {},
   "outputs": [
    {
     "data": {
      "text/plain": [
       "0.5982714991368793"
      ]
     },
     "execution_count": 53,
     "metadata": {},
     "output_type": "execute_result"
    }
   ],
   "source": [
    "matthews_corrcoef(df_result['actual_label'], df_result['predicted_label'])"
   ]
  },
  {
   "cell_type": "code",
   "execution_count": 54,
   "metadata": {},
   "outputs": [
    {
     "data": {
      "text/plain": [
       "0.7590822179732314"
      ]
     },
     "execution_count": 54,
     "metadata": {},
     "output_type": "execute_result"
    }
   ],
   "source": [
    "f1_score(df_result['actual_label'], df_result['predicted_label'], average='micro')"
   ]
  },
  {
   "cell_type": "markdown",
   "metadata": {},
   "source": [
    "## IIT-P movie reviews"
   ]
  },
  {
   "cell_type": "code",
   "execution_count": 55,
   "metadata": {},
   "outputs": [
    {
     "data": {
      "text/html": [
       "<div>\n",
       "<style scoped>\n",
       "    .dataframe tbody tr th:only-of-type {\n",
       "        vertical-align: middle;\n",
       "    }\n",
       "\n",
       "    .dataframe tbody tr th {\n",
       "        vertical-align: top;\n",
       "    }\n",
       "\n",
       "    .dataframe thead th {\n",
       "        text-align: right;\n",
       "    }\n",
       "</style>\n",
       "<table border=\"1\" class=\"dataframe\">\n",
       "  <thead>\n",
       "    <tr style=\"text-align: right;\">\n",
       "      <th></th>\n",
       "      <th>0</th>\n",
       "      <th>1</th>\n",
       "    </tr>\n",
       "  </thead>\n",
       "  <tbody>\n",
       "    <tr>\n",
       "      <th>0</th>\n",
       "      <td>neutral</td>\n",
       "      <td>निर्माता :\\nशीतल विनोद तलवार, मधु‍ मैंटेना\\n\\n...</td>\n",
       "    </tr>\n",
       "    <tr>\n",
       "      <th>1</th>\n",
       "      <td>positive</td>\n",
       "      <td>’उड़ान’ से विक्रमादित्य\\nमोटवाने\\nने अच्छे सिन...</td>\n",
       "    </tr>\n",
       "    <tr>\n",
       "      <th>2</th>\n",
       "      <td>neutral</td>\n",
       "      <td>फिल्म में गानों के दृश्य में अनुष्का को माइक क...</td>\n",
       "    </tr>\n",
       "    <tr>\n",
       "      <th>3</th>\n",
       "      <td>neutral</td>\n",
       "      <td>फांसी चढ़ने से पहले वह पाकिस्तान के सदर से खास...</td>\n",
       "    </tr>\n",
       "    <tr>\n",
       "      <th>4</th>\n",
       "      <td>positive</td>\n",
       "      <td>राज कुमार हिरानी ने इस मूवी में भी अपने डायरेक...</td>\n",
       "    </tr>\n",
       "  </tbody>\n",
       "</table>\n",
       "</div>"
      ],
      "text/plain": [
       "          0                                                  1\n",
       "0   neutral  निर्माता :\\nशीतल विनोद तलवार, मधु‍ मैंटेना\\n\\n...\n",
       "1  positive  ’उड़ान’ से विक्रमादित्य\\nमोटवाने\\nने अच्छे सिन...\n",
       "2   neutral  फिल्म में गानों के दृश्य में अनुष्का को माइक क...\n",
       "3   neutral  फांसी चढ़ने से पहले वह पाकिस्तान के सदर से खास...\n",
       "4  positive  राज कुमार हिरानी ने इस मूवी में भी अपने डायरेक..."
      ]
     },
     "execution_count": 55,
     "metadata": {},
     "output_type": "execute_result"
    }
   ],
   "source": [
    "train_df = pd.read_csv('data/iit-p-movie-reviews/hi-train.csv', header=None)\n",
    "train_df.head()"
   ]
  },
  {
   "cell_type": "code",
   "execution_count": 56,
   "metadata": {},
   "outputs": [
    {
     "data": {
      "text/html": [
       "<div>\n",
       "<style scoped>\n",
       "    .dataframe tbody tr th:only-of-type {\n",
       "        vertical-align: middle;\n",
       "    }\n",
       "\n",
       "    .dataframe tbody tr th {\n",
       "        vertical-align: top;\n",
       "    }\n",
       "\n",
       "    .dataframe thead th {\n",
       "        text-align: right;\n",
       "    }\n",
       "</style>\n",
       "<table border=\"1\" class=\"dataframe\">\n",
       "  <thead>\n",
       "    <tr style=\"text-align: right;\">\n",
       "      <th></th>\n",
       "      <th>0</th>\n",
       "      <th>1</th>\n",
       "    </tr>\n",
       "  </thead>\n",
       "  <tbody>\n",
       "    <tr>\n",
       "      <th>0</th>\n",
       "      <td>negative</td>\n",
       "      <td>ये फगली-फगली क्या है, ये फगली-फगली? इस बात का ...</td>\n",
       "    </tr>\n",
       "    <tr>\n",
       "      <th>1</th>\n",
       "      <td>neutral</td>\n",
       "      <td>निर्माता :\\nआदित्य चोपड़ा\\n\\nनिर्देशक :\\nहबीब ...</td>\n",
       "    </tr>\n",
       "    <tr>\n",
       "      <th>2</th>\n",
       "      <td>positive</td>\n",
       "      <td>इस कसौटी पर करण काफी हद तक खरे भी उतरे हैं।</td>\n",
       "    </tr>\n",
       "    <tr>\n",
       "      <th>3</th>\n",
       "      <td>positive</td>\n",
       "      <td>छोटे शहर की गालियां, छतें और विहंगम दृश्य मोहक...</td>\n",
       "    </tr>\n",
       "    <tr>\n",
       "      <th>4</th>\n",
       "      <td>positive</td>\n",
       "      <td>मनीष और जिशान का काम भी लोगों को याद रहेगा।</td>\n",
       "    </tr>\n",
       "  </tbody>\n",
       "</table>\n",
       "</div>"
      ],
      "text/plain": [
       "          0                                                  1\n",
       "0  negative  ये फगली-फगली क्या है, ये फगली-फगली? इस बात का ...\n",
       "1   neutral  निर्माता :\\nआदित्य चोपड़ा\\n\\nनिर्देशक :\\nहबीब ...\n",
       "2  positive        इस कसौटी पर करण काफी हद तक खरे भी उतरे हैं।\n",
       "3  positive  छोटे शहर की गालियां, छतें और विहंगम दृश्य मोहक...\n",
       "4  positive        मनीष और जिशान का काम भी लोगों को याद रहेगा।"
      ]
     },
     "execution_count": 56,
     "metadata": {},
     "output_type": "execute_result"
    }
   ],
   "source": [
    "valid_df = pd.read_csv('data/iit-p-movie-reviews/hi-valid.csv', header=None)\n",
    "valid_df.head()"
   ]
  },
  {
   "cell_type": "code",
   "execution_count": 57,
   "metadata": {},
   "outputs": [
    {
     "data": {
      "text/html": [
       "<div>\n",
       "<style scoped>\n",
       "    .dataframe tbody tr th:only-of-type {\n",
       "        vertical-align: middle;\n",
       "    }\n",
       "\n",
       "    .dataframe tbody tr th {\n",
       "        vertical-align: top;\n",
       "    }\n",
       "\n",
       "    .dataframe thead th {\n",
       "        text-align: right;\n",
       "    }\n",
       "</style>\n",
       "<table border=\"1\" class=\"dataframe\">\n",
       "  <thead>\n",
       "    <tr style=\"text-align: right;\">\n",
       "      <th></th>\n",
       "      <th>0</th>\n",
       "      <th>1</th>\n",
       "    </tr>\n",
       "  </thead>\n",
       "  <tbody>\n",
       "    <tr>\n",
       "      <th>0</th>\n",
       "      <td>negative</td>\n",
       "      <td>काव्या अपनी खुन्नस और जिद में सिद्धार्थ को तबा...</td>\n",
       "    </tr>\n",
       "    <tr>\n",
       "      <th>1</th>\n",
       "      <td>negative</td>\n",
       "      <td>निर्माता :\\nफरहान अख्तर, रितेश सिधवानी\\n\\nनिर्...</td>\n",
       "    </tr>\n",
       "    <tr>\n",
       "      <th>2</th>\n",
       "      <td>positive</td>\n",
       "      <td>असमर्पित रिश्ते में यकीन रखने वाले दोनों मौज-म...</td>\n",
       "    </tr>\n",
       "    <tr>\n",
       "      <th>3</th>\n",
       "      <td>neutral</td>\n",
       "      <td>बेवकूफियां को हबीब फैज़ल ने लिखा है, जिनका नाम...</td>\n",
       "    </tr>\n",
       "    <tr>\n",
       "      <th>4</th>\n",
       "      <td>neutral</td>\n",
       "      <td>तब वह मोटी थी और जेरी  ने उस पर ध्यान नहीं दिय...</td>\n",
       "    </tr>\n",
       "  </tbody>\n",
       "</table>\n",
       "</div>"
      ],
      "text/plain": [
       "          0                                                  1\n",
       "0  negative  काव्या अपनी खुन्नस और जिद में सिद्धार्थ को तबा...\n",
       "1  negative  निर्माता :\\nफरहान अख्तर, रितेश सिधवानी\\n\\nनिर्...\n",
       "2  positive  असमर्पित रिश्ते में यकीन रखने वाले दोनों मौज-म...\n",
       "3   neutral  बेवकूफियां को हबीब फैज़ल ने लिखा है, जिनका नाम...\n",
       "4   neutral  तब वह मोटी थी और जेरी  ने उस पर ध्यान नहीं दिय..."
      ]
     },
     "execution_count": 57,
     "metadata": {},
     "output_type": "execute_result"
    }
   ],
   "source": [
    "test_df = pd.read_csv('data/iit-p-movie-reviews/hi-test.csv', header=None)\n",
    "test_df.head()"
   ]
  },
  {
   "cell_type": "code",
   "execution_count": 58,
   "metadata": {},
   "outputs": [],
   "source": [
    "df = pd.concat([train_df,test_df, valid_df], sort=False)"
   ]
  },
  {
   "cell_type": "code",
   "execution_count": 59,
   "metadata": {},
   "outputs": [
    {
     "data": {
      "text/html": [],
      "text/plain": [
       "<IPython.core.display.HTML object>"
      ]
     },
     "metadata": {},
     "output_type": "display_data"
    },
    {
     "data": {
      "text/html": [],
      "text/plain": [
       "<IPython.core.display.HTML object>"
      ]
     },
     "metadata": {},
     "output_type": "display_data"
    }
   ],
   "source": [
    "data_lm = (TextList.from_df(df, path, cols=1)\n",
    "    .split_by_rand_pct(0.1, seed=42)\n",
    "    .label_for_lm()           \n",
    "    .databunch(bs=bs, num_workers=1, backwards=True))"
   ]
  },
  {
   "cell_type": "code",
   "execution_count": 60,
   "metadata": {},
   "outputs": [],
   "source": [
    "learn_lm = language_model_learner(data_lm, AWD_LSTM, pretrained_fnames=lm_fns, drop_mult=1.0)"
   ]
  },
  {
   "cell_type": "code",
   "execution_count": 61,
   "metadata": {},
   "outputs": [],
   "source": [
    "lr = 1e-3\n",
    "lr *= bs/48"
   ]
  },
  {
   "cell_type": "code",
   "execution_count": 62,
   "metadata": {},
   "outputs": [
    {
     "data": {
      "text/html": [
       "<table border=\"1\" class=\"dataframe\">\n",
       "  <thead>\n",
       "    <tr style=\"text-align: left;\">\n",
       "      <th>epoch</th>\n",
       "      <th>train_loss</th>\n",
       "      <th>valid_loss</th>\n",
       "      <th>accuracy</th>\n",
       "      <th>time</th>\n",
       "    </tr>\n",
       "  </thead>\n",
       "  <tbody>\n",
       "    <tr>\n",
       "      <td>0</td>\n",
       "      <td>4.504690</td>\n",
       "      <td>3.950453</td>\n",
       "      <td>0.294615</td>\n",
       "      <td>00:16</td>\n",
       "    </tr>\n",
       "    <tr>\n",
       "      <td>1</td>\n",
       "      <td>4.103548</td>\n",
       "      <td>3.837047</td>\n",
       "      <td>0.305636</td>\n",
       "      <td>00:16</td>\n",
       "    </tr>\n",
       "  </tbody>\n",
       "</table>"
      ],
      "text/plain": [
       "<IPython.core.display.HTML object>"
      ]
     },
     "metadata": {},
     "output_type": "display_data"
    }
   ],
   "source": [
    "# finetuning the language model\n",
    "learn_lm.fit_one_cycle(2, lr*10, moms=(0.8,0.7))"
   ]
  },
  {
   "cell_type": "code",
   "execution_count": 63,
   "metadata": {},
   "outputs": [
    {
     "data": {
      "text/html": [
       "<table border=\"1\" class=\"dataframe\">\n",
       "  <thead>\n",
       "    <tr style=\"text-align: left;\">\n",
       "      <th>epoch</th>\n",
       "      <th>train_loss</th>\n",
       "      <th>valid_loss</th>\n",
       "      <th>accuracy</th>\n",
       "      <th>time</th>\n",
       "    </tr>\n",
       "  </thead>\n",
       "  <tbody>\n",
       "    <tr>\n",
       "      <td>0</td>\n",
       "      <td>3.865649</td>\n",
       "      <td>3.805204</td>\n",
       "      <td>0.308943</td>\n",
       "      <td>00:16</td>\n",
       "    </tr>\n",
       "    <tr>\n",
       "      <td>1</td>\n",
       "      <td>3.810568</td>\n",
       "      <td>3.741849</td>\n",
       "      <td>0.316211</td>\n",
       "      <td>00:16</td>\n",
       "    </tr>\n",
       "    <tr>\n",
       "      <td>2</td>\n",
       "      <td>3.736273</td>\n",
       "      <td>3.694241</td>\n",
       "      <td>0.321722</td>\n",
       "      <td>00:16</td>\n",
       "    </tr>\n",
       "    <tr>\n",
       "      <td>3</td>\n",
       "      <td>3.655913</td>\n",
       "      <td>3.656527</td>\n",
       "      <td>0.325893</td>\n",
       "      <td>00:16</td>\n",
       "    </tr>\n",
       "    <tr>\n",
       "      <td>4</td>\n",
       "      <td>3.576299</td>\n",
       "      <td>3.636308</td>\n",
       "      <td>0.329325</td>\n",
       "      <td>00:16</td>\n",
       "    </tr>\n",
       "    <tr>\n",
       "      <td>5</td>\n",
       "      <td>3.521190</td>\n",
       "      <td>3.626308</td>\n",
       "      <td>0.331152</td>\n",
       "      <td>00:16</td>\n",
       "    </tr>\n",
       "    <tr>\n",
       "      <td>6</td>\n",
       "      <td>3.477987</td>\n",
       "      <td>3.620083</td>\n",
       "      <td>0.331710</td>\n",
       "      <td>00:16</td>\n",
       "    </tr>\n",
       "    <tr>\n",
       "      <td>7</td>\n",
       "      <td>3.454979</td>\n",
       "      <td>3.621893</td>\n",
       "      <td>0.331376</td>\n",
       "      <td>00:16</td>\n",
       "    </tr>\n",
       "  </tbody>\n",
       "</table>"
      ],
      "text/plain": [
       "<IPython.core.display.HTML object>"
      ]
     },
     "metadata": {},
     "output_type": "display_data"
    }
   ],
   "source": [
    "learn_lm.unfreeze()\n",
    "learn_lm.fit_one_cycle(8, lr, moms=(0.8,0.7))"
   ]
  },
  {
   "cell_type": "code",
   "execution_count": 64,
   "metadata": {},
   "outputs": [],
   "source": [
    "learn_lm.save(f'{lang}fine_tuned_movie_reviews_bwd')\n",
    "learn_lm.save_encoder(f'{lang}fine_tuned_enc_movie_reviews_bwd')"
   ]
  },
  {
   "cell_type": "code",
   "execution_count": 65,
   "metadata": {},
   "outputs": [
    {
     "data": {
      "text/plain": [
       "78"
      ]
     },
     "execution_count": 65,
     "metadata": {},
     "output_type": "execute_result"
    }
   ],
   "source": [
    "learn_lm = None\n",
    "learn = None\n",
    "gc.collect()"
   ]
  },
  {
   "cell_type": "markdown",
   "metadata": {},
   "source": [
    "### Classifier"
   ]
  },
  {
   "cell_type": "code",
   "execution_count": 66,
   "metadata": {},
   "outputs": [
    {
     "data": {
      "text/html": [],
      "text/plain": [
       "<IPython.core.display.HTML object>"
      ]
     },
     "metadata": {},
     "output_type": "display_data"
    },
    {
     "data": {
      "text/html": [],
      "text/plain": [
       "<IPython.core.display.HTML object>"
      ]
     },
     "metadata": {},
     "output_type": "display_data"
    }
   ],
   "source": [
    "data_clas = (TextList.from_df(train_df, path, vocab=data_lm.vocab, cols=1)\n",
    "    .split_by_rand_pct(0.1, seed=42)\n",
    "    .label_from_df(cols=0)\n",
    "    .databunch(bs=bs, num_workers=1, backwards=True))\n",
    "\n",
    "data_clas.save(f'{lang}_textlist_class_movie_reviews_bwd')"
   ]
  },
  {
   "cell_type": "code",
   "execution_count": 67,
   "metadata": {},
   "outputs": [],
   "source": [
    "data_clas = load_data(path, f'{lang}_textlist_class_movie_reviews_bwd', bs=bs, num_workers=1, backwards=True)"
   ]
  },
  {
   "cell_type": "code",
   "execution_count": 68,
   "metadata": {},
   "outputs": [
    {
     "data": {
      "text/plain": [
       "(['negative', 'neutral', 'positive'], 3)"
      ]
     },
     "execution_count": 68,
     "metadata": {},
     "output_type": "execute_result"
    }
   ],
   "source": [
    "data_clas.classes, data_clas.c"
   ]
  },
  {
   "cell_type": "code",
   "execution_count": 69,
   "metadata": {},
   "outputs": [],
   "source": [
    "from sklearn.metrics import f1_score\n",
    "\n",
    "@np_func\n",
    "def f1(inp,targ): return f1_score(targ, np.argmax(inp, axis=-1), average='micro')\n",
    "\n",
    "mcc = MatthewsCorreff()"
   ]
  },
  {
   "cell_type": "code",
   "execution_count": 70,
   "metadata": {},
   "outputs": [],
   "source": [
    "learn_c = text_classifier_learner(data_clas, AWD_LSTM, drop_mult=0.5, metrics=[accuracy,f1, mcc]).to_fp16()\n",
    "learn_c.load_encoder(f'{lang}fine_tuned_enc_movie_reviews_bwd')\n",
    "learn_c.freeze()"
   ]
  },
  {
   "cell_type": "code",
   "execution_count": 71,
   "metadata": {},
   "outputs": [],
   "source": [
    "lr=2e-2\n",
    "lr *= bs/48"
   ]
  },
  {
   "cell_type": "code",
   "execution_count": 72,
   "metadata": {},
   "outputs": [
    {
     "data": {
      "text/html": [
       "<table border=\"1\" class=\"dataframe\">\n",
       "  <thead>\n",
       "    <tr style=\"text-align: left;\">\n",
       "      <th>epoch</th>\n",
       "      <th>train_loss</th>\n",
       "      <th>valid_loss</th>\n",
       "      <th>accuracy</th>\n",
       "      <th>f1</th>\n",
       "      <th>matthews_correff</th>\n",
       "      <th>time</th>\n",
       "    </tr>\n",
       "  </thead>\n",
       "  <tbody>\n",
       "    <tr>\n",
       "      <td>0</td>\n",
       "      <td>1.052091</td>\n",
       "      <td>1.150976</td>\n",
       "      <td>0.395161</td>\n",
       "      <td>0.395161</td>\n",
       "      <td>0.039934</td>\n",
       "      <td>00:07</td>\n",
       "    </tr>\n",
       "    <tr>\n",
       "      <td>1</td>\n",
       "      <td>0.995788</td>\n",
       "      <td>0.979934</td>\n",
       "      <td>0.451613</td>\n",
       "      <td>0.451613</td>\n",
       "      <td>0.157064</td>\n",
       "      <td>00:07</td>\n",
       "    </tr>\n",
       "  </tbody>\n",
       "</table>"
      ],
      "text/plain": [
       "<IPython.core.display.HTML object>"
      ]
     },
     "metadata": {},
     "output_type": "display_data"
    }
   ],
   "source": [
    "learn_c.fit_one_cycle(2, lr, moms=(0.8,0.7))"
   ]
  },
  {
   "cell_type": "code",
   "execution_count": 73,
   "metadata": {},
   "outputs": [
    {
     "data": {
      "text/html": [
       "<table border=\"1\" class=\"dataframe\">\n",
       "  <thead>\n",
       "    <tr style=\"text-align: left;\">\n",
       "      <th>epoch</th>\n",
       "      <th>train_loss</th>\n",
       "      <th>valid_loss</th>\n",
       "      <th>accuracy</th>\n",
       "      <th>f1</th>\n",
       "      <th>matthews_correff</th>\n",
       "      <th>time</th>\n",
       "    </tr>\n",
       "  </thead>\n",
       "  <tbody>\n",
       "    <tr>\n",
       "      <td>0</td>\n",
       "      <td>0.977321</td>\n",
       "      <td>0.966408</td>\n",
       "      <td>0.556452</td>\n",
       "      <td>0.556452</td>\n",
       "      <td>0.317506</td>\n",
       "      <td>00:07</td>\n",
       "    </tr>\n",
       "    <tr>\n",
       "      <td>1</td>\n",
       "      <td>0.937606</td>\n",
       "      <td>0.879384</td>\n",
       "      <td>0.604839</td>\n",
       "      <td>0.604839</td>\n",
       "      <td>0.417594</td>\n",
       "      <td>00:06</td>\n",
       "    </tr>\n",
       "  </tbody>\n",
       "</table>"
      ],
      "text/plain": [
       "<IPython.core.display.HTML object>"
      ]
     },
     "metadata": {},
     "output_type": "display_data"
    }
   ],
   "source": [
    "learn_c.fit_one_cycle(2, lr, moms=(0.8,0.7))"
   ]
  },
  {
   "cell_type": "code",
   "execution_count": 74,
   "metadata": {},
   "outputs": [
    {
     "data": {
      "text/html": [
       "<table border=\"1\" class=\"dataframe\">\n",
       "  <thead>\n",
       "    <tr style=\"text-align: left;\">\n",
       "      <th>epoch</th>\n",
       "      <th>train_loss</th>\n",
       "      <th>valid_loss</th>\n",
       "      <th>accuracy</th>\n",
       "      <th>f1</th>\n",
       "      <th>matthews_correff</th>\n",
       "      <th>time</th>\n",
       "    </tr>\n",
       "  </thead>\n",
       "  <tbody>\n",
       "    <tr>\n",
       "      <td>0</td>\n",
       "      <td>0.922581</td>\n",
       "      <td>0.986960</td>\n",
       "      <td>0.544355</td>\n",
       "      <td>0.544355</td>\n",
       "      <td>0.323410</td>\n",
       "      <td>00:09</td>\n",
       "    </tr>\n",
       "    <tr>\n",
       "      <td>1</td>\n",
       "      <td>0.833586</td>\n",
       "      <td>0.869632</td>\n",
       "      <td>0.629032</td>\n",
       "      <td>0.629032</td>\n",
       "      <td>0.439736</td>\n",
       "      <td>00:08</td>\n",
       "    </tr>\n",
       "  </tbody>\n",
       "</table>"
      ],
      "text/plain": [
       "<IPython.core.display.HTML object>"
      ]
     },
     "metadata": {},
     "output_type": "display_data"
    }
   ],
   "source": [
    "learn_c.freeze_to(-2)\n",
    "learn_c.fit_one_cycle(2, slice(lr/(2.6**4),lr), moms=(0.8,0.7))"
   ]
  },
  {
   "cell_type": "code",
   "execution_count": 75,
   "metadata": {},
   "outputs": [
    {
     "data": {
      "text/html": [
       "<table border=\"1\" class=\"dataframe\">\n",
       "  <thead>\n",
       "    <tr style=\"text-align: left;\">\n",
       "      <th>epoch</th>\n",
       "      <th>train_loss</th>\n",
       "      <th>valid_loss</th>\n",
       "      <th>accuracy</th>\n",
       "      <th>f1</th>\n",
       "      <th>matthews_correff</th>\n",
       "      <th>time</th>\n",
       "    </tr>\n",
       "  </thead>\n",
       "  <tbody>\n",
       "    <tr>\n",
       "      <td>0</td>\n",
       "      <td>0.653352</td>\n",
       "      <td>1.386287</td>\n",
       "      <td>0.463710</td>\n",
       "      <td>0.463710</td>\n",
       "      <td>0.248490</td>\n",
       "      <td>00:11</td>\n",
       "    </tr>\n",
       "    <tr>\n",
       "      <td>1</td>\n",
       "      <td>0.586420</td>\n",
       "      <td>0.890083</td>\n",
       "      <td>0.596774</td>\n",
       "      <td>0.596774</td>\n",
       "      <td>0.384688</td>\n",
       "      <td>00:15</td>\n",
       "    </tr>\n",
       "  </tbody>\n",
       "</table>"
      ],
      "text/plain": [
       "<IPython.core.display.HTML object>"
      ]
     },
     "metadata": {},
     "output_type": "display_data"
    }
   ],
   "source": [
    "learn_c.freeze_to(-3)\n",
    "learn_c.fit_one_cycle(2, slice(lr/2/(2.6**4),lr/2), moms=(0.8,0.7))"
   ]
  },
  {
   "cell_type": "code",
   "execution_count": 76,
   "metadata": {},
   "outputs": [
    {
     "data": {
      "text/html": [
       "<table border=\"1\" class=\"dataframe\">\n",
       "  <thead>\n",
       "    <tr style=\"text-align: left;\">\n",
       "      <th>epoch</th>\n",
       "      <th>train_loss</th>\n",
       "      <th>valid_loss</th>\n",
       "      <th>accuracy</th>\n",
       "      <th>f1</th>\n",
       "      <th>matthews_correff</th>\n",
       "      <th>time</th>\n",
       "    </tr>\n",
       "  </thead>\n",
       "  <tbody>\n",
       "    <tr>\n",
       "      <td>0</td>\n",
       "      <td>0.395189</td>\n",
       "      <td>0.982499</td>\n",
       "      <td>0.608871</td>\n",
       "      <td>0.608871</td>\n",
       "      <td>0.417089</td>\n",
       "      <td>00:16</td>\n",
       "    </tr>\n",
       "    <tr>\n",
       "      <td>1</td>\n",
       "      <td>0.362088</td>\n",
       "      <td>1.021848</td>\n",
       "      <td>0.596774</td>\n",
       "      <td>0.596774</td>\n",
       "      <td>0.396894</td>\n",
       "      <td>00:13</td>\n",
       "    </tr>\n",
       "  </tbody>\n",
       "</table>"
      ],
      "text/plain": [
       "<IPython.core.display.HTML object>"
      ]
     },
     "metadata": {},
     "output_type": "display_data"
    }
   ],
   "source": [
    "learn_c.unfreeze()\n",
    "learn_c.fit_one_cycle(2, slice(lr/10/(2.6**4),lr/10), moms=(0.8,0.7))"
   ]
  },
  {
   "cell_type": "code",
   "execution_count": 77,
   "metadata": {},
   "outputs": [],
   "source": [
    "learn_c.save(f'{lang}clas_movie_reviews_bwd')"
   ]
  },
  {
   "cell_type": "code",
   "execution_count": 78,
   "metadata": {},
   "outputs": [],
   "source": [
    "learn_c.load(f'{lang}clas_movie_reviews_bwd');"
   ]
  },
  {
   "cell_type": "code",
   "execution_count": 79,
   "metadata": {},
   "outputs": [
    {
     "data": {
      "text/html": [],
      "text/plain": [
       "<IPython.core.display.HTML object>"
      ]
     },
     "metadata": {},
     "output_type": "display_data"
    },
    {
     "data": {
      "text/html": [],
      "text/plain": [
       "<IPython.core.display.HTML object>"
      ]
     },
     "metadata": {},
     "output_type": "display_data"
    }
   ],
   "source": [
    "data_valid = (TextList.from_df(test_df, path, vocab=data_lm.vocab, cols=1)\n",
    "    .split_none()\n",
    "    .label_from_df(cols=0)\n",
    "    .databunch(bs=bs, num_workers=1, backwards=True))"
   ]
  },
  {
   "cell_type": "code",
   "execution_count": 80,
   "metadata": {},
   "outputs": [
    {
     "data": {
      "text/plain": [
       "TextClasDataBunch;\n",
       "\n",
       "Train: LabelList (310 items)\n",
       "x: TextList\n",
       "xxbos काव्या अपनी xxunk और जिद में सिद्धार्थ को तबाह करने के लिए जिस्म को हथियार बनाती है ।,xxbos निर्माता : \n",
       "  फरहान अख्तर , रितेश सिधवानी \n",
       " \n",
       "  निर्देशक : \n",
       "  अभिनय देव \n",
       " \n",
       "  संगीत : \n",
       "  शंकर - अहसान - लॉय \n",
       " \n",
       "  कलाकार : \n",
       "  अभिषेक बच्चन , कंगना , xxunk जेन xxunk , जिमी शेरगिल , गौहर खान , शहाना गोस्वामी , बोमन ईरानी , अनुपम खेर \n",
       " \n",
       "  सेंसर सर्टिफिकेट : यू / ए * 2 घंटे 10 मिनट \n",
       " \n",
       " \n",
       " \n",
       "  थ्रिलर और मर्डर मिस्ट्री फिल्म बनाना हर किसी के बस की बात नहीं है । राज खुलने तक दर्शक को बाँधकर रखना और कातिल के चेहरे से परदा xxunk के बाद दर्शक को संतुष्ट करना कठिन काम है क्योंकि सभी को अपने प्रश्नों का ठोस उत्तर xxunk । इसके लिए कसी हुई स्क्रिप्ट और चुस्त निर्देशन की आवश्यकता होती है । \n",
       " \n",
       "  ‘ गेम ’ इन xxunk पर खरी नहीं उतरती और एक उबाऊ फिल्म के रूप में सामने आती है । हैरत इस बात की होती है कि इस फिल्म से फरहान अख्तर का नाम जुड़ा है जिनका बैनर अच्छी फिल्मों के लिए जाना जाता है । \n",
       " \n",
       "  फिल्म से जुड़े सारे लोगों का ध्यान केवल स्टाइलिश फिल्म बनाने की ओर रहा । सारे कलाकार स्टाइलिश नजर आते हैं , हत्या के बाद हत्यारे की खोज आधुनिक तरीकों से की जाती है , पाँच देशों की शानदार लोकेशन पर xxunk - भाग होती है , लेकिन ठोस कहानी और स्क्रीनप्ले के अभाव में ये सभी चीजें खोखली नजर आती हैं । \n",
       " \n",
       "  कबीर मल्होत्रा ( अनुपम खेर ) अपने प्राइवेट आयलैंड पर xxunk रामसे ( बोमन ईरानी ) , नील मेनन ( अभिषेक बच्चन ) , xxunk खन्ना ( शहाना गोस्वामी ) और विक्रम कपूर ( जिम्मी शेरगिल ) को बुलाता है । इनमें से एक नेता है , दूसरा xxunk मालिक है , तीसरा पत्रकार है और चौथा फिल्म स्टार । \n",
       " \n",
       "  कबीर की एक नाजायज बेटी थी जिसकी जिंदगी को बरबाद करने में इन चारों का हाथ है । वह इनसे अपना बदला लेना चाहता है । लेकिन इसके पहले ही एक ऐसी घटना घटती है और एक ऐसा राज खुलता है जिसका असर सभी की xxunk पर होता है । सिया ( कंगना ) नामक ऑफिसर इस मामले की जाँच करती है । \n",
       " \n",
       "  लगता है कि फिल्म की स्क्रिप्ट एक बार लिखकर ही फाइनल कर दी गई है । इतने सारे अगर - मगर हैं , प्रश्न हैं , जिनका जवाब देने की कोई जरूरत नहीं समझी गई है । कबीर गहरी छानबीन कर इन चारों को अपने आयलैंड पर बुलाता है , लेकिन एक व्यक्ति के बारे में वह यह नहीं जान पाता कि वह पुलिस इंसपेक्टर है और उसकी बेटी को चाहता था । \n",
       " \n",
       "  पुलिस इंसपेक्टर अपनी पहचान क्यों छिपाकर रखता है यह भी समझ से परे है । साथ ही मामले की पड़ताल के दौरान वह अपने अधिकारों का दुरुपयोग करते हुए अपना बदला भी लेता है । कई सवाल ऐसे हैं , जिनके बारे में यहाँ बात की गई तो कहानी के राज खुल सकते हैं । फिल्म का अंत बेहद खराब है और एकदम फिल्मी है । \n",
       " \n",
       "  निर्देशक अभिनय देव ने कहानी के बजाय शॉट्स कैसे फिल्माए जाए , फिल्म को रिच लुक कैसे दिया जाए , इन्हीं बातों पर गौर किया है । कहानी का उन्होंने इस तरह फिल्मांकन किया है उससे दर्शक कभी जुड़ नहीं पाता है । \n",
       " \n",
       "  मनोरंजक दृश्यों की फिल्म में कमी है और एक भी ऐसा सीन नहीं है कि दर्शकों में रोमांच पैदा हो । ‍फिल्म में दो - तीन गाने भी हैं , जिनकी न धुन अच्छी है और न ही फिल्मांकन । \n",
       " \n",
       "  लगता है कि सारे कलाकारों को भी स्क्रिप्ट समझ में नहीं आई , जिसका असर उनके अभिनय पर दिखता है । अभिषेक बच्चन भावहीन ( एक्सप्रेशन xxunk ) रहे , हालाँकि ये उनके किरदार पर सूट करता है । \n",
       " \n",
       "  बोमन ईरानी ने ओवर एक्टिंग की है । जिमी शेरगिल और शहाना गोस्वामी जैसे कलाकार भी रंग में नजर नहीं आए । पहली फिल्म में xxunk जेन xxunk प्रभावित नहीं कर पाईं । कंगना को तुरंत हिंदी और अँग्रेजी के उच्चारण सीखने की की जरूरत है । उनका अभिनय भी बनावटी है । इनकी तुलना में अनुपम खेर का अभिनय ठीक है । \n",
       " \n",
       "  कुल मिलाकर इस गेम को ना खेलना ही बेहतर है ।,xxbos xxunk रिश्ते में यकीन रखने वाले दोनों मौज - मस्ती के लिए साथ रहने लगते हैं ।,xxbos बेवकूफियां को हबीब xxunk ने लिखा है , जिनका नाम बैंड बाजा बारात और दो xxunk चार जैसी फिल्मों से जुड़ा है । ' बेवकूफियां ' में हबीब की कहानी निराश करती है । हबीब ने बॉलीवुड की हजारों बार दोहराई गई कहानी को थोड़े परिवर्तन और आधुनिक किरदारों के साथ पेश किया है । लड़का - लड़की राजी हैं , लेकिन पिता बीच में दीवार है । पिता का मानना है कि प्यार ही सब कुछ नहीं होता , पैसा भी अहम होता है । \n",
       " \n",
       "  इस कहानी को आर्थिक मंदी , क्रेडिट कार्ड xxunk कपल और पैसों को लेकर बदलते समीकरण के इर्दगिर्द बुना गया है । फिल्म जिस तरीके से शुरू होती है और एक अच्छी फिल्म की संभावना बनती हैं , वो फिल्म के खत्म होने के पहले ही दम तोड़ देती हैं । अच्छी बात यह है कि पूरा ड्रामा हल्का - फुल्का रखा गया है और कहानी में दम नहीं होने के बावजूद हास्य का स्तर फिल्म में रूचि बनाए रखता है । \n",
       " \n",
       "  मोहित ( आयुष्मान खुराना ) और मायरा ( सोनम कपूर ) एक यंग मिडिल क्लास कॉरपोरेट कपल है । मोहित 65 हजार रुपये xxunk कमाता है , लेकिन मायरा के आईएएस अफसर पिता विनोद सहगल ( ऋषि कपूर ) को यह कम लगता है । उनका मानना है कि पैसों के अभाव में मायरा की वे कई xxunk पूरी नहीं कर पाए हैं , इसलिए मायरा को शादी करोड़पति से करना चाहिए । \n",
       " \n",
       "  मायरा की जिद के आगे सहगल साहब थोड़ा xxunk हैं और मोहित को xxunk का फैसला करते हैं । इसी बीच आर्थिक मंदी के कारण मोहित की नौकरी चली जाती है । मोहित और मायरा यह बात पिता सहगल से छिपाते हैं । मोहित तीन महीने बेकार बैठा रहता है और पैसों की कमी से जूझता है । इसका असर मायरा के साथ उसके रिश्तों पर भी होता है और दोनों में ब्रेक अप हो जाता है । दूसरी ओर मायरा के पिता शादी के लिए राजी हो जाते हैं । कैसे स्थिति सुलझती है , यह फिल्म में ड्रामेटिक तरीके से दिखाया गया है । \n",
       " \n",
       "  फिल्म की कहानी बेहद सरल है , लेकिन बजाय आर्थिक मंदी से दो प्रेमियों के बिगड़ते रिश्ते पर फोकस करने और दो जनरेशन के बीच के गैप को xxunk करने के सारा ध्यान मोहित की परीक्षा लेने में लगाया गया है , जिससे कहानी बेहद रूटीन हो गई है । मोहित के जॉब छूटने के बाद उसका नौकरी खोजने में लंबा समय वक्त बरबाद करना और फिर कॉफी शॉप में अपनी योग्यता से छोटा काम करने वाला ट्रेक कहानी में फिट नहीं होता । मायरा और मोहित को प्रेम में डूबा बताया गया है , लेकिन छोटी - सी बात पर उनका ब्रेक - अप करना तर्कसंगत नहीं लगता । फिल्म का क्लाइमेक्स भी सुविधानुसार लिखा गया है । \n",
       " \n",
       "  कहानी में दम नहीं होने के बावजूद दिलचस्प किरदार , उनके बीच होने वाले संवाद तथा निर्देशक का हल्का - फुल्का ट्रीटमेंट फिल्म में दिलचस्पी बनाए रखता है । निर्देशक xxunk xxunk का प्रस्तुतिकरण उम्दा है , हालांकि कहानी से उन्हें विशेष मदद नहीं मिली है । फिल्म का संगीत एक और नकारात्मक पाइंट है । गीतों को लिखा तो अच्छा गया है , लेकिन धुनों में दम नहीं होने से वे असर नहीं छोड़ते । कुछ गानों की फिल्म में सिचुएशन भी ठीक से नहीं बनाई गई है । \n",
       " \n",
       "  ऋषि कपूर फिल्म की जान हैं और उम्र के इस मोड़ पर उन्हें दिलचस्प भूमिकाएं निभाने को मिल रही हैं । ऊपर से कड़क और भीतर से नरम इंसान की भूमिका उन्होंने खूब निभाई है । आयुष्मान खुराना की एक्टिंग में वैरायटी नहीं दिखी । पूरी फिल्म में वे एक - सा चेहरा लिए घूमते रहे । xxunk कपूर और उनकी केमिस्ट्री फीकी रही । सोनम कपूर बेहद स्टाइलिश दिखी , लेकिन अभिनय के मामले में अभी भी वे कच्ची साबित होती हैं । \n",
       " \n",
       "  बेवकूफियां में एक अच्छी फिल्म की संभावनाएं थीं , लेकिन उनका दोहन नहीं हो सका । \n",
       " \n",
       " \n",
       "  बैनर : \n",
       "  यशराज फिल्म्स \n",
       " \n",
       "  निर्माता : \n",
       "  आदित्य चोपड़ा \n",
       " \n",
       "  निर्देशक : \n",
       "  xxunk xxunk \n",
       " \n",
       "  संगीत : \n",
       "  रघु दीक्षित \n",
       " \n",
       "  कलाकार : \n",
       "  आयुष्मान खुराना , सोनम कपूर , ऋषि कपूर \n",
       " \n",
       "  सेंसर सर्टिफिकेट : यूए * 1 घंटा 59 मिनट,xxbos तब वह मोटी थी और जेरी    ने उस पर ध्यान नहीं दिया था ।\n",
       "y: CategoryList\n",
       "negative,negative,positive,neutral,neutral\n",
       "Path: /home/jupyter/.fastai/data/hiwiki;\n",
       "\n",
       "Valid: LabelList (0 items)\n",
       "x: TextList\n",
       "\n",
       "y: CategoryList\n",
       "\n",
       "Path: /home/jupyter/.fastai/data/hiwiki;\n",
       "\n",
       "Test: None"
      ]
     },
     "execution_count": 80,
     "metadata": {},
     "output_type": "execute_result"
    }
   ],
   "source": [
    "data_valid"
   ]
  },
  {
   "cell_type": "code",
   "execution_count": 81,
   "metadata": {},
   "outputs": [
    {
     "name": "stdout",
     "output_type": "stream",
     "text": [
      "CPU times: user 25.2 s, sys: 1.6 s, total: 26.8 s\n",
      "Wall time: 24.6 s\n"
     ]
    },
    {
     "data": {
      "text/html": [
       "<div>\n",
       "<style scoped>\n",
       "    .dataframe tbody tr th:only-of-type {\n",
       "        vertical-align: middle;\n",
       "    }\n",
       "\n",
       "    .dataframe tbody tr th {\n",
       "        vertical-align: top;\n",
       "    }\n",
       "\n",
       "    .dataframe thead th {\n",
       "        text-align: right;\n",
       "    }\n",
       "</style>\n",
       "<table border=\"1\" class=\"dataframe\">\n",
       "  <thead>\n",
       "    <tr style=\"text-align: right;\">\n",
       "      <th></th>\n",
       "      <th>query</th>\n",
       "      <th>actual_label</th>\n",
       "      <th>predicted_label</th>\n",
       "      <th>positive</th>\n",
       "      <th>neutral</th>\n",
       "      <th>negative</th>\n",
       "    </tr>\n",
       "  </thead>\n",
       "  <tbody>\n",
       "    <tr>\n",
       "      <th>0</th>\n",
       "      <td>काव्या अपनी खुन्नस और जिद में सिद्धार्थ को तबा...</td>\n",
       "      <td>negative</td>\n",
       "      <td>positive</td>\n",
       "      <td>0.724467</td>\n",
       "      <td>0.0532027</td>\n",
       "      <td>0.22233</td>\n",
       "    </tr>\n",
       "    <tr>\n",
       "      <th>1</th>\n",
       "      <td>निर्माता :\\nफरहान अख्तर, रितेश सिधवानी\\n\\nनिर्...</td>\n",
       "      <td>negative</td>\n",
       "      <td>negative</td>\n",
       "      <td>0.0010258</td>\n",
       "      <td>0.0754391</td>\n",
       "      <td>0.923535</td>\n",
       "    </tr>\n",
       "    <tr>\n",
       "      <th>2</th>\n",
       "      <td>असमर्पित रिश्ते में यकीन रखने वाले दोनों मौज-म...</td>\n",
       "      <td>positive</td>\n",
       "      <td>negative</td>\n",
       "      <td>0.221458</td>\n",
       "      <td>0.277527</td>\n",
       "      <td>0.501016</td>\n",
       "    </tr>\n",
       "    <tr>\n",
       "      <th>3</th>\n",
       "      <td>बेवकूफियां को हबीब फैज़ल ने लिखा है, जिनका नाम...</td>\n",
       "      <td>neutral</td>\n",
       "      <td>negative</td>\n",
       "      <td>0.0394158</td>\n",
       "      <td>0.412733</td>\n",
       "      <td>0.547851</td>\n",
       "    </tr>\n",
       "    <tr>\n",
       "      <th>4</th>\n",
       "      <td>तब वह मोटी थी और जेरी  ने उस पर ध्यान नहीं दिय...</td>\n",
       "      <td>neutral</td>\n",
       "      <td>negative</td>\n",
       "      <td>0.198066</td>\n",
       "      <td>0.0112672</td>\n",
       "      <td>0.790667</td>\n",
       "    </tr>\n",
       "  </tbody>\n",
       "</table>\n",
       "</div>"
      ],
      "text/plain": [
       "                                               query actual_label  \\\n",
       "0  काव्या अपनी खुन्नस और जिद में सिद्धार्थ को तबा...     negative   \n",
       "1  निर्माता :\\nफरहान अख्तर, रितेश सिधवानी\\n\\nनिर्...     negative   \n",
       "2  असमर्पित रिश्ते में यकीन रखने वाले दोनों मौज-म...     positive   \n",
       "3  बेवकूफियां को हबीब फैज़ल ने लिखा है, जिनका नाम...      neutral   \n",
       "4  तब वह मोटी थी और जेरी  ने उस पर ध्यान नहीं दिय...      neutral   \n",
       "\n",
       "  predicted_label   positive    neutral  negative  \n",
       "0        positive   0.724467  0.0532027   0.22233  \n",
       "1        negative  0.0010258  0.0754391  0.923535  \n",
       "2        negative   0.221458   0.277527  0.501016  \n",
       "3        negative  0.0394158   0.412733  0.547851  \n",
       "4        negative   0.198066  0.0112672  0.790667  "
      ]
     },
     "execution_count": 81,
     "metadata": {},
     "output_type": "execute_result"
    }
   ],
   "source": [
    "%%time\n",
    "from sklearn.metrics import accuracy_score, matthews_corrcoef\n",
    "df_dict = {'query': list(test_df[1]), 'actual_label': list(test_df[0]), 'predicted_label': ['']*test_df.shape[0]}\n",
    "all_nodes = list(set(train_df[0]))\n",
    "for node in all_nodes:\n",
    "    df_dict[node] = ['']*test_df.shape[0]\n",
    "    \n",
    "i2c = {}\n",
    "for key, value in learn_c.data.c2i.items():\n",
    "    i2c[value] = key\n",
    "    \n",
    "df_result = pd.DataFrame(df_dict)\n",
    "for index, row in df_result.iterrows():\n",
    "    pred = learn_c.predict(data_valid.train_ds[index])\n",
    "    for node in all_nodes:\n",
    "        row[node] = pred[2][learn_c.data.c2i[node]].item()\n",
    "    row['predicted_label'] = i2c[pred[0].data.item()]\n",
    "df_result.head()"
   ]
  },
  {
   "cell_type": "code",
   "execution_count": 82,
   "metadata": {},
   "outputs": [
    {
     "name": "stdout",
     "output_type": "stream",
     "text": [
      "<class 'pandas.core.frame.DataFrame'>\n",
      "RangeIndex: 310 entries, 0 to 309\n",
      "Data columns (total 6 columns):\n",
      "query              310 non-null object\n",
      "actual_label       310 non-null object\n",
      "predicted_label    310 non-null object\n",
      "positive           310 non-null object\n",
      "neutral            310 non-null object\n",
      "negative           310 non-null object\n",
      "dtypes: object(6)\n",
      "memory usage: 14.7+ KB\n"
     ]
    }
   ],
   "source": [
    "df_result.info()"
   ]
  },
  {
   "cell_type": "code",
   "execution_count": 83,
   "metadata": {},
   "outputs": [
    {
     "data": {
      "text/plain": [
       "0.6193548387096774"
      ]
     },
     "execution_count": 83,
     "metadata": {},
     "output_type": "execute_result"
    }
   ],
   "source": [
    "accuracy_score(df_result['actual_label'], df_result['predicted_label'])"
   ]
  },
  {
   "cell_type": "code",
   "execution_count": 84,
   "metadata": {},
   "outputs": [
    {
     "data": {
      "text/plain": [
       "0.43682187918253335"
      ]
     },
     "execution_count": 84,
     "metadata": {},
     "output_type": "execute_result"
    }
   ],
   "source": [
    "matthews_corrcoef(df_result['actual_label'], df_result['predicted_label'])"
   ]
  },
  {
   "cell_type": "code",
   "execution_count": 85,
   "metadata": {},
   "outputs": [
    {
     "data": {
      "text/plain": [
       "0.6193548387096774"
      ]
     },
     "execution_count": 85,
     "metadata": {},
     "output_type": "execute_result"
    }
   ],
   "source": [
    "f1_score(df_result['actual_label'], df_result['predicted_label'], average='micro')"
   ]
  },
  {
   "cell_type": "code",
   "execution_count": null,
   "metadata": {},
   "outputs": [],
   "source": []
  }
 ],
 "metadata": {
  "kernelspec": {
   "display_name": "Python 3",
   "language": "python",
   "name": "python3"
  },
  "language_info": {
   "codemirror_mode": {
    "name": "ipython",
    "version": 3
   },
   "file_extension": ".py",
   "mimetype": "text/x-python",
   "name": "python",
   "nbconvert_exporter": "python",
   "pygments_lexer": "ipython3",
   "version": "3.7.4"
  }
 },
 "nbformat": 4,
 "nbformat_minor": 4
}
