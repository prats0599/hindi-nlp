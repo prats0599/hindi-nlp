{
 "cells": [
  {
   "cell_type": "markdown",
   "metadata": {},
   "source": [
    "## Hindi ULMFiT from scratch"
   ]
  },
  {
   "cell_type": "code",
   "execution_count": 1,
   "metadata": {},
   "outputs": [
    {
     "name": "stdout",
     "output_type": "stream",
     "text": [
      "Fri Oct 16 13:27:19 2020       \n",
      "+-----------------------------------------------------------------------------+\n",
      "| NVIDIA-SMI 418.87.01    Driver Version: 418.87.01    CUDA Version: 10.1     |\n",
      "|-------------------------------+----------------------+----------------------+\n",
      "| GPU  Name        Persistence-M| Bus-Id        Disp.A | Volatile Uncorr. ECC |\n",
      "| Fan  Temp  Perf  Pwr:Usage/Cap|         Memory-Usage | GPU-Util  Compute M. |\n",
      "|===============================+======================+======================|\n",
      "|   0  Tesla P100-PCIE...  Off  | 00000000:00:04.0 Off |                    0 |\n",
      "| N/A   54C    P0    31W / 250W |      0MiB / 16280MiB |      0%      Default |\n",
      "+-------------------------------+----------------------+----------------------+\n",
      "                                                                               \n",
      "+-----------------------------------------------------------------------------+\n",
      "| Processes:                                                       GPU Memory |\n",
      "|  GPU       PID   Type   Process name                             Usage      |\n",
      "|=============================================================================|\n",
      "|  No running processes found                                                 |\n",
      "+-----------------------------------------------------------------------------+\n"
     ]
    }
   ],
   "source": [
    "!nvidia-smi"
   ]
  },
  {
   "cell_type": "code",
   "execution_count": 2,
   "metadata": {},
   "outputs": [],
   "source": [
    "%reload_ext autoreload\n",
    "%autoreload 2\n",
    "%matplotlib inline\n",
    "\n",
    "from fastai import *\n",
    "\n",
    "from fastai.text import *"
   ]
  },
  {
   "cell_type": "code",
   "execution_count": 3,
   "metadata": {},
   "outputs": [],
   "source": [
    "bs = 128"
   ]
  },
  {
   "cell_type": "code",
   "execution_count": 4,
   "metadata": {},
   "outputs": [],
   "source": [
    "torch.cuda.set_device(0)"
   ]
  },
  {
   "cell_type": "code",
   "execution_count": 5,
   "metadata": {},
   "outputs": [
    {
     "data": {
      "text/plain": [
       "PosixPath('/home/jupyter/.fastai/data')"
      ]
     },
     "execution_count": 5,
     "metadata": {},
     "output_type": "execute_result"
    }
   ],
   "source": [
    "data_path = Config.data_path(); data_path"
   ]
  },
  {
   "cell_type": "markdown",
   "metadata": {},
   "source": [
    "This will create a `hiwiki` folder, containing a `hiwiki` file with the wikipedia contents.(For other languages replace `hi` with the appropriate code from [list of wikipedias](https://meta.wikimedia.org/wiki/List_of_Wikipedias))"
   ]
  },
  {
   "cell_type": "code",
   "execution_count": 6,
   "metadata": {},
   "outputs": [],
   "source": [
    "lang = 'hi'"
   ]
  },
  {
   "cell_type": "code",
   "execution_count": 7,
   "metadata": {},
   "outputs": [],
   "source": [
    "name = f'{lang}wiki'\n",
    "path = data_path/name\n",
    "path.mkdir(exist_ok=True, parents=True)\n",
    "lm_fns = [f'{lang}_wt', f'{lang}_wt_vocab']"
   ]
  },
  {
   "cell_type": "code",
   "execution_count": 8,
   "metadata": {},
   "outputs": [
    {
     "data": {
      "text/plain": [
       "[PosixPath('/home/jupyter/.fastai/data/hiwiki/hiwiki'),\n",
       " PosixPath('/home/jupyter/.fastai/data/hiwiki/hi_textlist_class'),\n",
       " PosixPath('/home/jupyter/.fastai/data/hiwiki/log'),\n",
       " PosixPath('/home/jupyter/.fastai/data/hiwiki/docs'),\n",
       " PosixPath('/home/jupyter/.fastai/data/hiwiki/models'),\n",
       " PosixPath('/home/jupyter/.fastai/data/hiwiki/hiwiki-latest-pages-articles.xml'),\n",
       " PosixPath('/home/jupyter/.fastai/data/hiwiki/hiwiki-latest-pages-articles.xml.bz2')]"
      ]
     },
     "execution_count": 8,
     "metadata": {},
     "output_type": "execute_result"
    }
   ],
   "source": [
    "path.ls()"
   ]
  },
  {
   "cell_type": "code",
   "execution_count": 9,
   "metadata": {},
   "outputs": [],
   "source": [
    "# shutil.rmtree(path)"
   ]
  },
  {
   "cell_type": "code",
   "execution_count": 10,
   "metadata": {},
   "outputs": [],
   "source": [
    "# shutil.rmtree(path/'wikiextractor/')"
   ]
  },
  {
   "cell_type": "code",
   "execution_count": 11,
   "metadata": {},
   "outputs": [],
   "source": [
    "# shutil.move(str(path/'wikiextractor/'), str('/home/jupyter/wikiextractor/'))"
   ]
  },
  {
   "cell_type": "code",
   "execution_count": 12,
   "metadata": {},
   "outputs": [],
   "source": [
    "# shutil.move(str('/home/jupyter/wikiextractor/'), str(path/'wikiextractor/'))"
   ]
  },
  {
   "cell_type": "markdown",
   "metadata": {},
   "source": [
    "### Hindi Wikipedia Model"
   ]
  },
  {
   "cell_type": "markdown",
   "metadata": {},
   "source": [
    "#### Download Data"
   ]
  },
  {
   "cell_type": "code",
   "execution_count": 13,
   "metadata": {},
   "outputs": [],
   "source": [
    "# !pip install wikiextractor # version==0.1"
   ]
  },
  {
   "cell_type": "code",
   "execution_count": 9,
   "metadata": {},
   "outputs": [],
   "source": [
    "from nlputils import split_wiki, get_wiki"
   ]
  },
  {
   "cell_type": "code",
   "execution_count": 10,
   "metadata": {},
   "outputs": [
    {
     "name": "stdout",
     "output_type": "stream",
     "text": [
      "/home/jupyter/.fastai/data/hiwiki/hiwiki already exists; not downloading\n"
     ]
    }
   ],
   "source": [
    "get_wiki(path, lang)"
   ]
  },
  {
   "cell_type": "code",
   "execution_count": 11,
   "metadata": {},
   "outputs": [],
   "source": [
    "# import shutil\n",
    "# shutil.rmtree(path/'wikiextractor')"
   ]
  },
  {
   "cell_type": "code",
   "execution_count": 12,
   "metadata": {},
   "outputs": [
    {
     "data": {
      "text/plain": [
       "[PosixPath('/home/jupyter/.fastai/data/hiwiki/hiwiki'),\n",
       " PosixPath('/home/jupyter/.fastai/data/hiwiki/log'),\n",
       " PosixPath('/home/jupyter/.fastai/data/hiwiki/docs'),\n",
       " PosixPath('/home/jupyter/.fastai/data/hiwiki/models'),\n",
       " PosixPath('/home/jupyter/.fastai/data/hiwiki/hiwiki-latest-pages-articles.xml'),\n",
       " PosixPath('/home/jupyter/.fastai/data/hiwiki/hiwiki-latest-pages-articles.xml.bz2')]"
      ]
     },
     "execution_count": 12,
     "metadata": {},
     "output_type": "execute_result"
    }
   ],
   "source": [
    "path.ls()"
   ]
  },
  {
   "cell_type": "code",
   "execution_count": 13,
   "metadata": {},
   "outputs": [
    {
     "name": "stdout",
     "output_type": "stream",
     "text": [
      "<doc id=\"14\" url=\"https://hi.wikipedia.org/wiki?curid=14\" title=\"दैनिक पूजा\">\n",
      "दैनिक पूजा\n",
      "\n",
      "दैनिक पूजा विधि हिन्दू धर्म की कई उपासना पद्धतियों में से एक है। ये एक दैनिक कर्म है। विभिन्न देवताओं को प्रसन्न करने के लिये कई मन्त्र बताये गये हैं, जो लगभग सभी पुराणों से हैं। वैदिक मन्त्र यज्ञ और हवन के लिये होते हैं।\n"
     ]
    }
   ],
   "source": [
    "!head -n4 {path}/{name}"
   ]
  },
  {
   "cell_type": "code",
   "execution_count": 14,
   "metadata": {},
   "outputs": [
    {
     "name": "stdout",
     "output_type": "stream",
     "text": [
      "/home/jupyter/.fastai/data/hiwiki/docs already exists; not splitting\n"
     ]
    }
   ],
   "source": [
    "# this function splits the single wikipedia into a seperate file per article\n",
    "dest = split_wiki(path, lang)"
   ]
  },
  {
   "cell_type": "code",
   "execution_count": 15,
   "metadata": {},
   "outputs": [
    {
     "data": {
      "text/plain": [
       "[PosixPath('/home/jupyter/.fastai/data/hiwiki/docs/उभयउपांग-कुशलता.txt'),\n",
       " PosixPath('/home/jupyter/.fastai/data/hiwiki/docs/लस्ट स्टोरीज़.txt'),\n",
       " PosixPath('/home/jupyter/.fastai/data/hiwiki/docs/ज़ूम वीडियो संचार.txt'),\n",
       " PosixPath('/home/jupyter/.fastai/data/hiwiki/docs/ओज़ियास मार्क.txt'),\n",
       " PosixPath('/home/jupyter/.fastai/data/hiwiki/docs/भारत के 500 और 1000 रुपये के नोटों का विमुद्रीकरण.txt')]"
      ]
     },
     "execution_count": 15,
     "metadata": {},
     "output_type": "execute_result"
    }
   ],
   "source": [
    "dest.ls()[:5]"
   ]
  },
  {
   "cell_type": "code",
   "execution_count": 16,
   "metadata": {},
   "outputs": [
    {
     "data": {
      "text/plain": [
       "19138"
      ]
     },
     "execution_count": 16,
     "metadata": {},
     "output_type": "execute_result"
    }
   ],
   "source": [
    "len(dest.ls())"
   ]
  },
  {
   "cell_type": "markdown",
   "metadata": {},
   "source": [
    "### Create Pretrained language model"
   ]
  },
  {
   "cell_type": "code",
   "execution_count": 16,
   "metadata": {},
   "outputs": [
    {
     "data": {
      "text/html": [],
      "text/plain": [
       "<IPython.core.display.HTML object>"
      ]
     },
     "metadata": {},
     "output_type": "display_data"
    },
    {
     "data": {
      "text/html": [],
      "text/plain": [
       "<IPython.core.display.HTML object>"
      ]
     },
     "metadata": {},
     "output_type": "display_data"
    },
    {
     "name": "stdout",
     "output_type": "stream",
     "text": [
      "CPU times: user 23 s, sys: 4.8 s, total: 27.8 s\n",
      "Wall time: 5min 1s\n"
     ]
    },
    {
     "data": {
      "text/plain": [
       "(60000, 17222)"
      ]
     },
     "execution_count": 16,
     "metadata": {},
     "output_type": "execute_result"
    }
   ],
   "source": [
    "%%time\n",
    "data = (TextList.from_folder(dest)\n",
    "       .split_by_rand_pct(0.1, seed=42)\n",
    "       .label_for_lm()\n",
    "       .databunch(bs=bs, num_workers=1))\n",
    "data.save(f'{lang}_databunch')\n",
    "len(data.vocab.itos), len(data.train_ds)"
   ]
  },
  {
   "cell_type": "code",
   "execution_count": 17,
   "metadata": {},
   "outputs": [],
   "source": [
    "data = load_data(dest, f'{lang}_databunch', bs=bs)"
   ]
  },
  {
   "cell_type": "code",
   "execution_count": 18,
   "metadata": {},
   "outputs": [],
   "source": [
    "learn = language_model_learner(data, AWD_LSTM, drop_mult=0.5, pretrained=False).to_fp16()"
   ]
  },
  {
   "cell_type": "code",
   "execution_count": 24,
   "metadata": {},
   "outputs": [],
   "source": [
    "lr = 1e-2\n",
    "lr *= bs/48 # scale LR by batch size"
   ]
  },
  {
   "cell_type": "code",
   "execution_count": 25,
   "metadata": {},
   "outputs": [
    {
     "data": {
      "text/html": [
       "<table border=\"1\" class=\"dataframe\">\n",
       "  <thead>\n",
       "    <tr style=\"text-align: left;\">\n",
       "      <th>epoch</th>\n",
       "      <th>train_loss</th>\n",
       "      <th>valid_loss</th>\n",
       "      <th>accuracy</th>\n",
       "      <th>time</th>\n",
       "    </tr>\n",
       "  </thead>\n",
       "  <tbody>\n",
       "    <tr>\n",
       "      <td>0</td>\n",
       "      <td>4.526816</td>\n",
       "      <td>4.547369</td>\n",
       "      <td>0.268907</td>\n",
       "      <td>20:07</td>\n",
       "    </tr>\n",
       "    <tr>\n",
       "      <td>1</td>\n",
       "      <td>4.530737</td>\n",
       "      <td>4.546282</td>\n",
       "      <td>0.266188</td>\n",
       "      <td>20:02</td>\n",
       "    </tr>\n",
       "    <tr>\n",
       "      <td>2</td>\n",
       "      <td>4.519947</td>\n",
       "      <td>4.529232</td>\n",
       "      <td>0.265388</td>\n",
       "      <td>19:59</td>\n",
       "    </tr>\n",
       "    <tr>\n",
       "      <td>3</td>\n",
       "      <td>4.469093</td>\n",
       "      <td>4.469402</td>\n",
       "      <td>0.271336</td>\n",
       "      <td>20:00</td>\n",
       "    </tr>\n",
       "    <tr>\n",
       "      <td>4</td>\n",
       "      <td>4.403118</td>\n",
       "      <td>4.403347</td>\n",
       "      <td>0.276319</td>\n",
       "      <td>20:00</td>\n",
       "    </tr>\n",
       "    <tr>\n",
       "      <td>5</td>\n",
       "      <td>4.298845</td>\n",
       "      <td>4.307361</td>\n",
       "      <td>0.283679</td>\n",
       "      <td>19:59</td>\n",
       "    </tr>\n",
       "    <tr>\n",
       "      <td>6</td>\n",
       "      <td>4.218951</td>\n",
       "      <td>4.211671</td>\n",
       "      <td>0.291808</td>\n",
       "      <td>20:00</td>\n",
       "    </tr>\n",
       "    <tr>\n",
       "      <td>7</td>\n",
       "      <td>4.117718</td>\n",
       "      <td>4.123117</td>\n",
       "      <td>0.299414</td>\n",
       "      <td>20:00</td>\n",
       "    </tr>\n",
       "    <tr>\n",
       "      <td>8</td>\n",
       "      <td>4.017510</td>\n",
       "      <td>4.066140</td>\n",
       "      <td>0.305068</td>\n",
       "      <td>20:00</td>\n",
       "    </tr>\n",
       "    <tr>\n",
       "      <td>9</td>\n",
       "      <td>3.940540</td>\n",
       "      <td>4.053691</td>\n",
       "      <td>0.306698</td>\n",
       "      <td>19:59</td>\n",
       "    </tr>\n",
       "  </tbody>\n",
       "</table>"
      ],
      "text/plain": [
       "<IPython.core.display.HTML object>"
      ]
     },
     "metadata": {},
     "output_type": "display_data"
    }
   ],
   "source": [
    "learn.unfreeze()\n",
    "learn.fit_one_cycle(10, lr, moms=(0.8, 0.7))"
   ]
  },
  {
   "cell_type": "markdown",
   "metadata": {},
   "source": [
    "Save the pretrained model and vocab:"
   ]
  },
  {
   "cell_type": "code",
   "execution_count": 25,
   "metadata": {},
   "outputs": [
    {
     "data": {
      "text/plain": [
       "['hi_wt', 'hi_wt_vocab']"
      ]
     },
     "execution_count": 25,
     "metadata": {},
     "output_type": "execute_result"
    }
   ],
   "source": [
    "lm_fns"
   ]
  },
  {
   "cell_type": "code",
   "execution_count": 31,
   "metadata": {},
   "outputs": [],
   "source": [
    "mdl_path = path/'models'\n",
    "mdl_path.mkdir(exist_ok=True)\n",
    "learn.to_fp32().save(mdl_path/lm_fns[0], with_opt=False)\n",
    "learn.data.vocab.save(mdl_path/(lm_fns[1] + '.pkl'))"
   ]
  },
  {
   "cell_type": "code",
   "execution_count": 21,
   "metadata": {},
   "outputs": [
    {
     "data": {
      "text/plain": [
       "[PosixPath('/home/jupyter/.fastai/data/hiwiki/models/20epoch_hi_vocab.pkl'),\n",
       " PosixPath('/home/jupyter/.fastai/data/hiwiki/models/hi_wt.pth'),\n",
       " PosixPath('/home/jupyter/.fastai/data/hiwiki/models/20epoch_hi_wt.pth'),\n",
       " PosixPath('/home/jupyter/.fastai/data/hiwiki/models/hi_wt_vocab.pkl')]"
      ]
     },
     "execution_count": 21,
     "metadata": {},
     "output_type": "execute_result"
    }
   ],
   "source": [
    "(path/'models').ls()"
   ]
  },
  {
   "cell_type": "code",
   "execution_count": 27,
   "metadata": {},
   "outputs": [],
   "source": [
    "# learn.model.load_state_dict(torch.load(path/'models/20epoch_hi_wt.pth'))"
   ]
  },
  {
   "cell_type": "code",
   "execution_count": 22,
   "metadata": {},
   "outputs": [
    {
     "data": {
      "text/plain": [
       "<All keys matched successfully>"
      ]
     },
     "execution_count": 22,
     "metadata": {},
     "output_type": "execute_result"
    }
   ],
   "source": [
    "# learn.model.load_state_dict(torch.load(path/'models/hi_wt.pth'))"
   ]
  },
  {
   "cell_type": "code",
   "execution_count": 20,
   "metadata": {},
   "outputs": [],
   "source": [
    "# learn.load(path/'models/hi_wt');\n",
    "# loading a saved model:https://forums.fast.ai/t/load-model-from-pth-file/37440"
   ]
  },
  {
   "cell_type": "code",
   "execution_count": 19,
   "metadata": {},
   "outputs": [
    {
     "data": {
      "text/html": [
       "<table border=\"1\" class=\"dataframe\">\n",
       "  <thead>\n",
       "    <tr style=\"text-align: right;\">\n",
       "      <th>idx</th>\n",
       "      <th>text</th>\n",
       "    </tr>\n",
       "  </thead>\n",
       "  <tbody>\n",
       "    <tr>\n",
       "      <td>0</td>\n",
       "      <td>सिर्फ एक ही व्यक्ति सव्यसाची हुआ करता है । प्रत्येक हाथ की चपलता की अवस्था आम तौर पर एक व्यक्ति की उभय - xxunk निर्धारित करने का गुणात्मक कारक होती है । \\n \\n  आधुनिक समय में , उभय - xxunk माने जाने वाले व्यक्तियों को पाया जाना अधिक आम बात हो गयी है , जो मूलतः बाएं - हाथ वाले होते हैं , लेकिन जो जानबूझकर उभय -</td>\n",
       "    </tr>\n",
       "    <tr>\n",
       "      <td>1</td>\n",
       "      <td>, पुर्तगाल , रोमानिया , रूस , xxunk , xxunk , दक्षिण अफ्रीका , दक्षिण कोरिया , स्पेन , स्वीडन , xxunk , तुर्की , यूक्रेन और अमरीका । \\n \\n \\n \\n \\n  &lt; / doc &gt; \\n  xxbos गोरी तेरे प्यार में \\n \\n  गोरी तेरे प्यार में पुनीत मल्होत्रा द्वारा लिखित एवं निर्देशित २०१३ की भारतीय रोमांटिक हास्य फ़िल्म है । फ़िल्म का निर्माण</td>\n",
       "    </tr>\n",
       "    <tr>\n",
       "      <td>2</td>\n",
       "      <td>तथा बिहार शरीफ जाने के लिए सबसे अच्‍छा साधन ट्रेन है । इन स्‍थानों को xxunk के लिए भारतीय रेलवे द्वारा एक विशेष ट्रेन बौद्ध परिक्रमा चलाई जाती है । इस ट्रेन के अलावे कई अन्‍य ट्रेन जैसे श्रमजीवी एक्‍सप्रेस , पटना राजगीर xxunk एक्‍सप्रेस तथा पटना राजगीर xxunk ट्रेन भी इन स्‍थानों का जाती है । इसके अलावे सड़क मार्ग द्वारा भी यहां जाया जा सकता है । \\n</td>\n",
       "    </tr>\n",
       "    <tr>\n",
       "      <td>3</td>\n",
       "      <td>में जल्द सूख जाता है । \\n \\n  शकरकंद की तीन जातियाँ , पीली , श्वेत और लाल , ही साधारणतया उगाई जाती हैं । पीली जाति के गूदे में पानी का अंश कम रहता है और विटामिन \" ए ' की मात्रा अधिक रहती है । श्वेत जातियों में जल की मात्रा अधिक रहती है । लाल जातियाँ साधारणतया xxunk होती है , पर भूमि के दृष्टिकोण से</td>\n",
       "    </tr>\n",
       "    <tr>\n",
       "      <td>4</td>\n",
       "      <td>में- ‘ ‘ xxunk घुमक्कड़ का एकमात्र दृष्टिकोण है और आत्मीयता उसके हरेक बर्ताव का सार । ’ ’ यही कारण था कि सारे संसार को अपना घर समझने वाले राहुल सन् १९१० में घर छोड़ने के पश्चात पुन : सन् १९४३ में ही अपने ननिहाल xxunk पहुँचे । वस्तुत : बचपन में अपने घुमक्कड़ी स्वभाव के कारण पिताजी से मिली xxunk के पश्चात् उन्होंने प्रण लिया था कि वे</td>\n",
       "    </tr>\n",
       "  </tbody>\n",
       "</table>"
      ],
      "text/plain": [
       "<IPython.core.display.HTML object>"
      ]
     },
     "metadata": {},
     "output_type": "display_data"
    }
   ],
   "source": [
    "data.show_batch()"
   ]
  },
  {
   "cell_type": "code",
   "execution_count": 20,
   "metadata": {},
   "outputs": [
    {
     "data": {
      "text/plain": [
       "SequentialRNN(\n",
       "  (0): AWD_LSTM(\n",
       "    (encoder): Embedding(60000, 400, padding_idx=1)\n",
       "    (encoder_dp): EmbeddingDropout(\n",
       "      (emb): Embedding(60000, 400, padding_idx=1)\n",
       "    )\n",
       "    (rnns): ModuleList(\n",
       "      (0): WeightDropout(\n",
       "        (module): LSTM(400, 1152, batch_first=True)\n",
       "      )\n",
       "      (1): WeightDropout(\n",
       "        (module): LSTM(1152, 1152, batch_first=True)\n",
       "      )\n",
       "      (2): WeightDropout(\n",
       "        (module): LSTM(1152, 400, batch_first=True)\n",
       "      )\n",
       "    )\n",
       "    (input_dp): RNNDropout()\n",
       "    (hidden_dps): ModuleList(\n",
       "      (0): RNNDropout()\n",
       "      (1): RNNDropout()\n",
       "      (2): RNNDropout()\n",
       "    )\n",
       "  )\n",
       "  (1): LinearDecoder(\n",
       "    (decoder): Linear(in_features=400, out_features=60000, bias=True)\n",
       "    (output_dp): RNNDropout()\n",
       "  )\n",
       ")"
      ]
     },
     "execution_count": 20,
     "metadata": {},
     "output_type": "execute_result"
    }
   ],
   "source": [
    "learn.model"
   ]
  },
  {
   "cell_type": "code",
   "execution_count": 24,
   "metadata": {},
   "outputs": [],
   "source": [
    "# learn.to_fp16();"
   ]
  },
  {
   "cell_type": "code",
   "execution_count": 27,
   "metadata": {},
   "outputs": [
    {
     "data": {
      "text/html": [
       "\n",
       "    <div>\n",
       "        <style>\n",
       "            /* Turns off some styling */\n",
       "            progress {\n",
       "                /* gets rid of default border in Firefox and Opera. */\n",
       "                border: none;\n",
       "                /* Needs to be in here for Safari polyfill so background images work as expected. */\n",
       "                background-size: auto;\n",
       "            }\n",
       "            .progress-bar-interrupted, .progress-bar-interrupted::-webkit-progress-bar {\n",
       "                background: #F44336;\n",
       "            }\n",
       "        </style>\n",
       "      <progress value='0' class='' max='1', style='width:300px; height:20px; vertical-align: middle;'></progress>\n",
       "      0.00% [0/1 00:00<00:00]\n",
       "    </div>\n",
       "    \n",
       "<table border=\"1\" class=\"dataframe\">\n",
       "  <thead>\n",
       "    <tr style=\"text-align: left;\">\n",
       "      <th>epoch</th>\n",
       "      <th>train_loss</th>\n",
       "      <th>valid_loss</th>\n",
       "      <th>accuracy</th>\n",
       "      <th>time</th>\n",
       "    </tr>\n",
       "  </thead>\n",
       "  <tbody>\n",
       "  </tbody>\n",
       "</table><p>\n",
       "\n",
       "    <div>\n",
       "        <style>\n",
       "            /* Turns off some styling */\n",
       "            progress {\n",
       "                /* gets rid of default border in Firefox and Opera. */\n",
       "                border: none;\n",
       "                /* Needs to be in here for Safari polyfill so background images work as expected. */\n",
       "                background-size: auto;\n",
       "            }\n",
       "            .progress-bar-interrupted, .progress-bar-interrupted::-webkit-progress-bar {\n",
       "                background: #F44336;\n",
       "            }\n",
       "        </style>\n",
       "      <progress value='93' class='' max='2785', style='width:300px; height:20px; vertical-align: middle;'></progress>\n",
       "      3.34% [93/2785 00:38<18:46 31.5186]\n",
       "    </div>\n",
       "    "
      ],
      "text/plain": [
       "<IPython.core.display.HTML object>"
      ]
     },
     "metadata": {},
     "output_type": "display_data"
    },
    {
     "name": "stdout",
     "output_type": "stream",
     "text": [
      "LR Finder is complete, type {learner_name}.recorder.plot() to see the graph.\n"
     ]
    },
    {
     "data": {
      "image/png": "[encoded data removed]",
      "text/plain": [
       "<Figure size 432x288 with 1 Axes>"
      ]
     },
     "metadata": {
      "needs_background": "light"
     },
     "output_type": "display_data"
    }
   ],
   "source": [
    "learn.lr_find()\n",
    "learn.recorder.plot()"
   ]
  },
  {
   "cell_type": "code",
   "execution_count": 29,
   "metadata": {},
   "outputs": [
    {
     "data": {
      "text/plain": [
       "0.026666666666666665"
      ]
     },
     "execution_count": 29,
     "metadata": {},
     "output_type": "execute_result"
    }
   ],
   "source": [
    "lr"
   ]
  },
  {
   "cell_type": "code",
   "execution_count": null,
   "metadata": {},
   "outputs": [
    {
     "data": {
      "text/html": [
       "\n",
       "    <div>\n",
       "        <style>\n",
       "            /* Turns off some styling */\n",
       "            progress {\n",
       "                /* gets rid of default border in Firefox and Opera. */\n",
       "                border: none;\n",
       "                /* Needs to be in here for Safari polyfill so background images work as expected. */\n",
       "                background-size: auto;\n",
       "            }\n",
       "            .progress-bar-interrupted, .progress-bar-interrupted::-webkit-progress-bar {\n",
       "                background: #F44336;\n",
       "            }\n",
       "        </style>\n",
       "      <progress value='16' class='' max='20', style='width:300px; height:20px; vertical-align: middle;'></progress>\n",
       "      80.00% [16/20 5:21:11<1:20:17]\n",
       "    </div>\n",
       "    \n",
       "<table border=\"1\" class=\"dataframe\">\n",
       "  <thead>\n",
       "    <tr style=\"text-align: left;\">\n",
       "      <th>epoch</th>\n",
       "      <th>train_loss</th>\n",
       "      <th>valid_loss</th>\n",
       "      <th>accuracy</th>\n",
       "      <th>time</th>\n",
       "    </tr>\n",
       "  </thead>\n",
       "  <tbody>\n",
       "    <tr>\n",
       "      <td>0</td>\n",
       "      <td>4.596952</td>\n",
       "      <td>4.561115</td>\n",
       "      <td>0.270675</td>\n",
       "      <td>20:04</td>\n",
       "    </tr>\n",
       "    <tr>\n",
       "      <td>1</td>\n",
       "      <td>4.383838</td>\n",
       "      <td>4.382571</td>\n",
       "      <td>0.281346</td>\n",
       "      <td>20:03</td>\n",
       "    </tr>\n",
       "    <tr>\n",
       "      <td>2</td>\n",
       "      <td>4.410350</td>\n",
       "      <td>4.410259</td>\n",
       "      <td>0.277289</td>\n",
       "      <td>20:04</td>\n",
       "    </tr>\n",
       "    <tr>\n",
       "      <td>3</td>\n",
       "      <td>4.425513</td>\n",
       "      <td>4.443115</td>\n",
       "      <td>0.274180</td>\n",
       "      <td>20:04</td>\n",
       "    </tr>\n",
       "    <tr>\n",
       "      <td>4</td>\n",
       "      <td>4.456727</td>\n",
       "      <td>4.464992</td>\n",
       "      <td>0.271799</td>\n",
       "      <td>20:03</td>\n",
       "    </tr>\n",
       "    <tr>\n",
       "      <td>5</td>\n",
       "      <td>4.460025</td>\n",
       "      <td>4.457753</td>\n",
       "      <td>0.271660</td>\n",
       "      <td>20:03</td>\n",
       "    </tr>\n",
       "    <tr>\n",
       "      <td>6</td>\n",
       "      <td>4.411688</td>\n",
       "      <td>4.432618</td>\n",
       "      <td>0.273121</td>\n",
       "      <td>20:04</td>\n",
       "    </tr>\n",
       "    <tr>\n",
       "      <td>7</td>\n",
       "      <td>4.395292</td>\n",
       "      <td>4.421016</td>\n",
       "      <td>0.273847</td>\n",
       "      <td>20:03</td>\n",
       "    </tr>\n",
       "    <tr>\n",
       "      <td>8</td>\n",
       "      <td>4.366452</td>\n",
       "      <td>4.385614</td>\n",
       "      <td>0.276654</td>\n",
       "      <td>20:03</td>\n",
       "    </tr>\n",
       "    <tr>\n",
       "      <td>9</td>\n",
       "      <td>4.335859</td>\n",
       "      <td>4.354411</td>\n",
       "      <td>0.279353</td>\n",
       "      <td>20:04</td>\n",
       "    </tr>\n",
       "    <tr>\n",
       "      <td>10</td>\n",
       "      <td>4.276951</td>\n",
       "      <td>4.318527</td>\n",
       "      <td>0.281918</td>\n",
       "      <td>20:03</td>\n",
       "    </tr>\n",
       "    <tr>\n",
       "      <td>11</td>\n",
       "      <td>4.275836</td>\n",
       "      <td>4.276809</td>\n",
       "      <td>0.285714</td>\n",
       "      <td>20:03</td>\n",
       "    </tr>\n",
       "    <tr>\n",
       "      <td>12</td>\n",
       "      <td>4.237116</td>\n",
       "      <td>4.232442</td>\n",
       "      <td>0.289169</td>\n",
       "      <td>20:02</td>\n",
       "    </tr>\n",
       "    <tr>\n",
       "      <td>13</td>\n",
       "      <td>4.169482</td>\n",
       "      <td>4.182636</td>\n",
       "      <td>0.293586</td>\n",
       "      <td>20:02</td>\n",
       "    </tr>\n",
       "    <tr>\n",
       "      <td>14</td>\n",
       "      <td>4.093750</td>\n",
       "      <td>4.133738</td>\n",
       "      <td>0.297425</td>\n",
       "      <td>20:05</td>\n",
       "    </tr>\n",
       "    <tr>\n",
       "      <td>15</td>\n",
       "      <td>4.052595</td>\n",
       "      <td>4.091087</td>\n",
       "      <td>0.301763</td>\n",
       "      <td>20:02</td>\n",
       "    </tr>\n",
       "  </tbody>\n",
       "</table><p>\n",
       "\n",
       "    <div>\n",
       "        <style>\n",
       "            /* Turns off some styling */\n",
       "            progress {\n",
       "                /* gets rid of default border in Firefox and Opera. */\n",
       "                border: none;\n",
       "                /* Needs to be in here for Safari polyfill so background images work as expected. */\n",
       "                background-size: auto;\n",
       "            }\n",
       "            .progress-bar-interrupted, .progress-bar-interrupted::-webkit-progress-bar {\n",
       "                background: #F44336;\n",
       "            }\n",
       "        </style>\n",
       "      <progress value='757' class='' max='2785', style='width:300px; height:20px; vertical-align: middle;'></progress>\n",
       "      27.18% [757/2785 05:14<14:01 3.9371]\n",
       "    </div>\n",
       "    "
      ],
      "text/plain": [
       "<IPython.core.display.HTML object>"
      ]
     },
     "metadata": {},
     "output_type": "display_data"
    },
    {
     "name": "stdout",
     "output_type": "stream",
     "text": [
      "Better model found at epoch 0 with accuracy value: 0.27067533135414124.\n",
      "Better model found at epoch 1 with accuracy value: 0.2813456952571869.\n",
      "Better model found at epoch 10 with accuracy value: 0.28191810846328735.\n",
      "Better model found at epoch 11 with accuracy value: 0.2857142686843872.\n",
      "Better model found at epoch 12 with accuracy value: 0.2891688644886017.\n",
      "Better model found at epoch 13 with accuracy value: 0.2935861349105835.\n",
      "Better model found at epoch 14 with accuracy value: 0.29742497205734253.\n",
      "Better model found at epoch 15 with accuracy value: 0.3017626702785492.\n"
     ]
    }
   ],
   "source": [
    "learn.unfreeze()\n",
    "learn.fit_one_cycle(20, lr, moms=(0.8,0.7), callbacks=[callbacks.SaveModelCallback(learn, every='improvement', monitor='accuracy', name='model')])"
   ]
  },
  {
   "cell_type": "code",
   "execution_count": null,
   "metadata": {},
   "outputs": [
    {
     "data": {
      "text/html": [
       "\n",
       "    <div>\n",
       "        <style>\n",
       "            /* Turns off some styling */\n",
       "            progress {\n",
       "                /* gets rid of default border in Firefox and Opera. */\n",
       "                border: none;\n",
       "                /* Needs to be in here for Safari polyfill so background images work as expected. */\n",
       "                background-size: auto;\n",
       "            }\n",
       "            .progress-bar-interrupted, .progress-bar-interrupted::-webkit-progress-bar {\n",
       "                background: #F44336;\n",
       "            }\n",
       "        </style>\n",
       "      <progress value='2' class='' max='10', style='width:300px; height:20px; vertical-align: middle;'></progress>\n",
       "      20.00% [2/10 40:09<2:40:37]\n",
       "    </div>\n",
       "    \n",
       "<table border=\"1\" class=\"dataframe\">\n",
       "  <thead>\n",
       "    <tr style=\"text-align: left;\">\n",
       "      <th>epoch</th>\n",
       "      <th>train_loss</th>\n",
       "      <th>valid_loss</th>\n",
       "      <th>accuracy</th>\n",
       "      <th>time</th>\n",
       "    </tr>\n",
       "  </thead>\n",
       "  <tbody>\n",
       "    <tr>\n",
       "      <td>0</td>\n",
       "      <td>4.033121</td>\n",
       "      <td>4.135418</td>\n",
       "      <td>0.298549</td>\n",
       "      <td>20:03</td>\n",
       "    </tr>\n",
       "    <tr>\n",
       "      <td>1</td>\n",
       "      <td>4.275217</td>\n",
       "      <td>4.313124</td>\n",
       "      <td>0.283684</td>\n",
       "      <td>20:02</td>\n",
       "    </tr>\n",
       "  </tbody>\n",
       "</table><p>\n",
       "\n",
       "    <div>\n",
       "        <style>\n",
       "            /* Turns off some styling */\n",
       "            progress {\n",
       "                /* gets rid of default border in Firefox and Opera. */\n",
       "                border: none;\n",
       "                /* Needs to be in here for Safari polyfill so background images work as expected. */\n",
       "                background-size: auto;\n",
       "            }\n",
       "            .progress-bar-interrupted, .progress-bar-interrupted::-webkit-progress-bar {\n",
       "                background: #F44336;\n",
       "            }\n",
       "        </style>\n",
       "      <progress value='507' class='' max='2785', style='width:300px; height:20px; vertical-align: middle;'></progress>\n",
       "      18.20% [507/2785 03:30<15:44 4.2487]\n",
       "    </div>\n",
       "    "
      ],
      "text/plain": [
       "<IPython.core.display.HTML object>"
      ]
     },
     "metadata": {},
     "output_type": "display_data"
    },
    {
     "name": "stdout",
     "output_type": "stream",
     "text": [
      "Better model found at epoch 0 with accuracy value: 0.29854872822761536.\n"
     ]
    }
   ],
   "source": [
    "learn.unfreeze()\n",
    "learn.fit_one_cycle(10, lr, moms=(0.8,0.7), callbacks=[callbacks.SaveModelCallback(learn, every='improvement', monitor='accuracy', name='model')])"
   ]
  },
  {
   "cell_type": "code",
   "execution_count": null,
   "metadata": {},
   "outputs": [],
   "source": [
    "mdl_path = path/'models'\n",
    "mdl_path.mkdir(exist_ok=True)\n",
    "learn.to_fp32().save(mdl_path/'20epoch_hi_wt', with_opt=False)"
   ]
  },
  {
   "cell_type": "code",
   "execution_count": null,
   "metadata": {},
   "outputs": [],
   "source": [
    "learn.data.vocab.save(mdl_path/('20epoch_hi_vocab' + '.pkl'))"
   ]
  },
  {
   "cell_type": "markdown",
   "metadata": {},
   "source": [
    "### Hindi Sentiment Analysis"
   ]
  },
  {
   "cell_type": "markdown",
   "metadata": {},
   "source": [
    "## BBC Articles(Hindi)"
   ]
  },
  {
   "cell_type": "markdown",
   "metadata": {},
   "source": [
    "#### Language Model"
   ]
  },
  {
   "cell_type": "markdown",
   "metadata": {},
   "source": [
    "We are gonna perform sentiment analysis on 2 datasets: BBC news articles,IIT-P movie reviews and IIT-P product reviews. The datasets can be found [here](https://github.com/AI4Bharat/indicnlp_corpus#publicly-available-classification-datasets)."
   ]
  },
  {
   "cell_type": "code",
   "execution_count": 27,
   "metadata": {},
   "outputs": [
    {
     "data": {
      "text/html": [
       "<div>\n",
       "<style scoped>\n",
       "    .dataframe tbody tr th:only-of-type {\n",
       "        vertical-align: middle;\n",
       "    }\n",
       "\n",
       "    .dataframe tbody tr th {\n",
       "        vertical-align: top;\n",
       "    }\n",
       "\n",
       "    .dataframe thead th {\n",
       "        text-align: right;\n",
       "    }\n",
       "</style>\n",
       "<table border=\"1\" class=\"dataframe\">\n",
       "  <thead>\n",
       "    <tr style=\"text-align: right;\">\n",
       "      <th></th>\n",
       "      <th>0</th>\n",
       "      <th>1</th>\n",
       "    </tr>\n",
       "  </thead>\n",
       "  <tbody>\n",
       "    <tr>\n",
       "      <th>0</th>\n",
       "      <td>india</td>\n",
       "      <td>मेट्रो की इस लाइन के चलने से दक्षिणी दिल्ली से...</td>\n",
       "    </tr>\n",
       "    <tr>\n",
       "      <th>1</th>\n",
       "      <td>pakistan</td>\n",
       "      <td>नेटिजन यानि इंटरनेट पर सक्रिय नागरिक अब ट्विटर...</td>\n",
       "    </tr>\n",
       "    <tr>\n",
       "      <th>2</th>\n",
       "      <td>news</td>\n",
       "      <td>इसमें एक फ़्लाइट एटेनडेंट की मदद की गुहार है औ...</td>\n",
       "    </tr>\n",
       "    <tr>\n",
       "      <th>3</th>\n",
       "      <td>india</td>\n",
       "      <td>प्रतीक खुलेपन का, आज़ाद ख्याली का और भीड़ से अ...</td>\n",
       "    </tr>\n",
       "    <tr>\n",
       "      <th>4</th>\n",
       "      <td>india</td>\n",
       "      <td>ख़ासकर पिछले 10 साल तक प्रधानमंत्री रहे मनमोहन...</td>\n",
       "    </tr>\n",
       "  </tbody>\n",
       "</table>\n",
       "</div>"
      ],
      "text/plain": [
       "          0                                                  1\n",
       "0     india  मेट्रो की इस लाइन के चलने से दक्षिणी दिल्ली से...\n",
       "1  pakistan  नेटिजन यानि इंटरनेट पर सक्रिय नागरिक अब ट्विटर...\n",
       "2      news  इसमें एक फ़्लाइट एटेनडेंट की मदद की गुहार है औ...\n",
       "3     india  प्रतीक खुलेपन का, आज़ाद ख्याली का और भीड़ से अ...\n",
       "4     india  ख़ासकर पिछले 10 साल तक प्रधानमंत्री रहे मनमोहन..."
      ]
     },
     "execution_count": 27,
     "metadata": {},
     "output_type": "execute_result"
    }
   ],
   "source": [
    "train_df = pd.read_csv('data/bbc-articles-hi/hi-train.csv', header=None)\n",
    "train_df.head()"
   ]
  },
  {
   "cell_type": "code",
   "execution_count": 28,
   "metadata": {},
   "outputs": [
    {
     "data": {
      "text/html": [
       "<div>\n",
       "<style scoped>\n",
       "    .dataframe tbody tr th:only-of-type {\n",
       "        vertical-align: middle;\n",
       "    }\n",
       "\n",
       "    .dataframe tbody tr th {\n",
       "        vertical-align: top;\n",
       "    }\n",
       "\n",
       "    .dataframe thead th {\n",
       "        text-align: right;\n",
       "    }\n",
       "</style>\n",
       "<table border=\"1\" class=\"dataframe\">\n",
       "  <thead>\n",
       "    <tr style=\"text-align: right;\">\n",
       "      <th></th>\n",
       "      <th>0</th>\n",
       "      <th>1</th>\n",
       "    </tr>\n",
       "  </thead>\n",
       "  <tbody>\n",
       "    <tr>\n",
       "      <th>0</th>\n",
       "      <td>india</td>\n",
       "      <td>बुधवार को राज्य सभा में विपक्ष के सवालों के जव...</td>\n",
       "    </tr>\n",
       "    <tr>\n",
       "      <th>1</th>\n",
       "      <td>india</td>\n",
       "      <td>लखनऊ स्थित पत्रकार समीरात्मज मिश्र को बुलंदशहर...</td>\n",
       "    </tr>\n",
       "    <tr>\n",
       "      <th>2</th>\n",
       "      <td>india</td>\n",
       "      <td>लगभग 1300 हेक्टेयर ज़मीन का अधिग्रहण किया जा च...</td>\n",
       "    </tr>\n",
       "    <tr>\n",
       "      <th>3</th>\n",
       "      <td>international</td>\n",
       "      <td>हालांकि उनके अंगरक्षकों को बमों को जाम करने वा...</td>\n",
       "    </tr>\n",
       "    <tr>\n",
       "      <th>4</th>\n",
       "      <td>india</td>\n",
       "      <td>आयोग का कहना है कि इस तरह के परीक्षण से महिलाओ...</td>\n",
       "    </tr>\n",
       "  </tbody>\n",
       "</table>\n",
       "</div>"
      ],
      "text/plain": [
       "               0                                                  1\n",
       "0          india  बुधवार को राज्य सभा में विपक्ष के सवालों के जव...\n",
       "1          india  लखनऊ स्थित पत्रकार समीरात्मज मिश्र को बुलंदशहर...\n",
       "2          india  लगभग 1300 हेक्टेयर ज़मीन का अधिग्रहण किया जा च...\n",
       "3  international  हालांकि उनके अंगरक्षकों को बमों को जाम करने वा...\n",
       "4          india  आयोग का कहना है कि इस तरह के परीक्षण से महिलाओ..."
      ]
     },
     "execution_count": 28,
     "metadata": {},
     "output_type": "execute_result"
    }
   ],
   "source": [
    "test_df = pd.read_csv('data/bbc-articles-hi/hi-test.csv', header=None)\n",
    "test_df.head()"
   ]
  },
  {
   "cell_type": "code",
   "execution_count": 29,
   "metadata": {},
   "outputs": [],
   "source": [
    "df = pd.concat([train_df,test_df], sort=False)"
   ]
  },
  {
   "cell_type": "code",
   "execution_count": 58,
   "metadata": {},
   "outputs": [
    {
     "data": {
      "text/html": [],
      "text/plain": [
       "<IPython.core.display.HTML object>"
      ]
     },
     "metadata": {},
     "output_type": "display_data"
    },
    {
     "data": {
      "text/html": [],
      "text/plain": [
       "<IPython.core.display.HTML object>"
      ]
     },
     "metadata": {},
     "output_type": "display_data"
    }
   ],
   "source": [
    "data_lm = (TextList.from_df(df, path, cols=1)\n",
    "    .split_by_rand_pct(0.1, seed=42)\n",
    "    .label_for_lm()           \n",
    "    .databunch(bs=bs, num_workers=1))"
   ]
  },
  {
   "cell_type": "code",
   "execution_count": 37,
   "metadata": {},
   "outputs": [],
   "source": [
    "learn_lm = language_model_learner(data_lm, AWD_LSTM, pretrained_fnames=lm_fns, drop_mult=1.0)"
   ]
  },
  {
   "cell_type": "code",
   "execution_count": 38,
   "metadata": {},
   "outputs": [],
   "source": [
    "lr = 1e-3\n",
    "lr *= bs/48"
   ]
  },
  {
   "cell_type": "code",
   "execution_count": 39,
   "metadata": {},
   "outputs": [
    {
     "data": {
      "text/html": [
       "<table border=\"1\" class=\"dataframe\">\n",
       "  <thead>\n",
       "    <tr style=\"text-align: left;\">\n",
       "      <th>epoch</th>\n",
       "      <th>train_loss</th>\n",
       "      <th>valid_loss</th>\n",
       "      <th>accuracy</th>\n",
       "      <th>time</th>\n",
       "    </tr>\n",
       "  </thead>\n",
       "  <tbody>\n",
       "    <tr>\n",
       "      <td>0</td>\n",
       "      <td>4.429507</td>\n",
       "      <td>4.066370</td>\n",
       "      <td>0.291303</td>\n",
       "      <td>01:06</td>\n",
       "    </tr>\n",
       "    <tr>\n",
       "      <td>1</td>\n",
       "      <td>4.114826</td>\n",
       "      <td>3.962841</td>\n",
       "      <td>0.301713</td>\n",
       "      <td>01:06</td>\n",
       "    </tr>\n",
       "  </tbody>\n",
       "</table>"
      ],
      "text/plain": [
       "<IPython.core.display.HTML object>"
      ]
     },
     "metadata": {},
     "output_type": "display_data"
    }
   ],
   "source": [
    "# finetuning the language model\n",
    "learn_lm.fit_one_cycle(2, lr*10, moms=(0.8,0.7))"
   ]
  },
  {
   "cell_type": "code",
   "execution_count": 40,
   "metadata": {},
   "outputs": [
    {
     "data": {
      "text/html": [
       "<table border=\"1\" class=\"dataframe\">\n",
       "  <thead>\n",
       "    <tr style=\"text-align: left;\">\n",
       "      <th>epoch</th>\n",
       "      <th>train_loss</th>\n",
       "      <th>valid_loss</th>\n",
       "      <th>accuracy</th>\n",
       "      <th>time</th>\n",
       "    </tr>\n",
       "  </thead>\n",
       "  <tbody>\n",
       "    <tr>\n",
       "      <td>0</td>\n",
       "      <td>3.925475</td>\n",
       "      <td>3.930910</td>\n",
       "      <td>0.305314</td>\n",
       "      <td>01:07</td>\n",
       "    </tr>\n",
       "    <tr>\n",
       "      <td>1</td>\n",
       "      <td>3.882566</td>\n",
       "      <td>3.891310</td>\n",
       "      <td>0.309718</td>\n",
       "      <td>01:06</td>\n",
       "    </tr>\n",
       "    <tr>\n",
       "      <td>2</td>\n",
       "      <td>3.819858</td>\n",
       "      <td>3.862531</td>\n",
       "      <td>0.313200</td>\n",
       "      <td>01:06</td>\n",
       "    </tr>\n",
       "    <tr>\n",
       "      <td>3</td>\n",
       "      <td>3.753082</td>\n",
       "      <td>3.844485</td>\n",
       "      <td>0.315466</td>\n",
       "      <td>01:06</td>\n",
       "    </tr>\n",
       "    <tr>\n",
       "      <td>4</td>\n",
       "      <td>3.677970</td>\n",
       "      <td>3.832285</td>\n",
       "      <td>0.317484</td>\n",
       "      <td>01:06</td>\n",
       "    </tr>\n",
       "    <tr>\n",
       "      <td>5</td>\n",
       "      <td>3.621572</td>\n",
       "      <td>3.827234</td>\n",
       "      <td>0.318892</td>\n",
       "      <td>01:06</td>\n",
       "    </tr>\n",
       "    <tr>\n",
       "      <td>6</td>\n",
       "      <td>3.591659</td>\n",
       "      <td>3.825799</td>\n",
       "      <td>0.319171</td>\n",
       "      <td>01:06</td>\n",
       "    </tr>\n",
       "    <tr>\n",
       "      <td>7</td>\n",
       "      <td>3.590563</td>\n",
       "      <td>3.827231</td>\n",
       "      <td>0.319184</td>\n",
       "      <td>01:06</td>\n",
       "    </tr>\n",
       "  </tbody>\n",
       "</table>"
      ],
      "text/plain": [
       "<IPython.core.display.HTML object>"
      ]
     },
     "metadata": {},
     "output_type": "display_data"
    }
   ],
   "source": [
    "learn_lm.unfreeze()\n",
    "learn_lm.fit_one_cycle(8, lr, moms=(0.8,0.7))"
   ]
  },
  {
   "cell_type": "code",
   "execution_count": 41,
   "metadata": {},
   "outputs": [],
   "source": [
    "learn_lm.save(f'{lang}fine_tuned')\n",
    "learn_lm.save_encoder(f'{lang}fine_tuned_enc')"
   ]
  },
  {
   "cell_type": "code",
   "execution_count": 65,
   "metadata": {},
   "outputs": [
    {
     "data": {
      "text/plain": [
       "42"
      ]
     },
     "execution_count": 65,
     "metadata": {},
     "output_type": "execute_result"
    }
   ],
   "source": [
    "learn_lm = None\n",
    "learn = None\n",
    "gc.collect()"
   ]
  },
  {
   "cell_type": "markdown",
   "metadata": {},
   "source": [
    "### Classifier"
   ]
  },
  {
   "cell_type": "code",
   "execution_count": 42,
   "metadata": {},
   "outputs": [
    {
     "data": {
      "text/html": [],
      "text/plain": [
       "<IPython.core.display.HTML object>"
      ]
     },
     "metadata": {},
     "output_type": "display_data"
    },
    {
     "data": {
      "text/html": [],
      "text/plain": [
       "<IPython.core.display.HTML object>"
      ]
     },
     "metadata": {},
     "output_type": "display_data"
    }
   ],
   "source": [
    "data_clas = (TextList.from_df(train_df, path, vocab=data_lm.vocab, cols=1)\n",
    "    .split_by_rand_pct(0.1, seed=42)\n",
    "    .label_from_df(cols=0)\n",
    "    .databunch(bs=bs, num_workers=1))\n",
    "\n",
    "data_clas.save(f'{lang}_textlist_class')"
   ]
  },
  {
   "cell_type": "code",
   "execution_count": 13,
   "metadata": {},
   "outputs": [],
   "source": [
    "data_clas = load_data(path, f'{lang}_textlist_class', bs=bs, num_workers=1)"
   ]
  },
  {
   "cell_type": "code",
   "execution_count": 67,
   "metadata": {},
   "outputs": [
    {
     "data": {
      "text/plain": [
       "(['business',\n",
       "  'china',\n",
       "  'entertainment',\n",
       "  'india',\n",
       "  'institutional',\n",
       "  'international',\n",
       "  'learningenglish',\n",
       "  'multimedia',\n",
       "  'news',\n",
       "  'pakistan',\n",
       "  'science',\n",
       "  'social',\n",
       "  'southasia',\n",
       "  'sport'],\n",
       " 14)"
      ]
     },
     "execution_count": 67,
     "metadata": {},
     "output_type": "execute_result"
    }
   ],
   "source": [
    "data_clas.classes, data_clas.c"
   ]
  },
  {
   "cell_type": "code",
   "execution_count": 14,
   "metadata": {},
   "outputs": [],
   "source": [
    "from sklearn.metrics import f1_score\n",
    "\n",
    "@np_func\n",
    "def f1(inp,targ): return f1_score(targ, np.argmax(inp, axis=-1), average='micro')\n",
    "\n",
    "mcc = MatthewsCorreff()"
   ]
  },
  {
   "cell_type": "code",
   "execution_count": 15,
   "metadata": {},
   "outputs": [],
   "source": [
    "learn_c = text_classifier_learner(data_clas, AWD_LSTM, drop_mult=0.5, metrics=[accuracy,f1, mcc]).to_fp16()\n",
    "learn_c.load_encoder(f'{lang}fine_tuned_enc')\n",
    "learn_c.freeze()"
   ]
  },
  {
   "cell_type": "code",
   "execution_count": 16,
   "metadata": {},
   "outputs": [],
   "source": [
    "lr=2e-2\n",
    "lr *= bs/48"
   ]
  },
  {
   "cell_type": "code",
   "execution_count": 17,
   "metadata": {},
   "outputs": [
    {
     "data": {
      "text/html": [
       "<table border=\"1\" class=\"dataframe\">\n",
       "  <thead>\n",
       "    <tr style=\"text-align: left;\">\n",
       "      <th>epoch</th>\n",
       "      <th>train_loss</th>\n",
       "      <th>valid_loss</th>\n",
       "      <th>accuracy</th>\n",
       "      <th>f1</th>\n",
       "      <th>matthews_correff</th>\n",
       "      <th>time</th>\n",
       "    </tr>\n",
       "  </thead>\n",
       "  <tbody>\n",
       "    <tr>\n",
       "      <td>0</td>\n",
       "      <td>1.198869</td>\n",
       "      <td>1.184566</td>\n",
       "      <td>0.552023</td>\n",
       "      <td>0.552023</td>\n",
       "      <td>0.381528</td>\n",
       "      <td>00:23</td>\n",
       "    </tr>\n",
       "    <tr>\n",
       "      <td>1</td>\n",
       "      <td>0.869197</td>\n",
       "      <td>0.722998</td>\n",
       "      <td>0.748555</td>\n",
       "      <td>0.748555</td>\n",
       "      <td>0.653513</td>\n",
       "      <td>00:21</td>\n",
       "    </tr>\n",
       "  </tbody>\n",
       "</table>"
      ],
      "text/plain": [
       "<IPython.core.display.HTML object>"
      ]
     },
     "metadata": {},
     "output_type": "display_data"
    }
   ],
   "source": [
    "learn_c.fit_one_cycle(2, lr, moms=(0.8,0.7))"
   ]
  },
  {
   "cell_type": "code",
   "execution_count": 18,
   "metadata": {},
   "outputs": [
    {
     "data": {
      "text/html": [
       "<table border=\"1\" class=\"dataframe\">\n",
       "  <thead>\n",
       "    <tr style=\"text-align: left;\">\n",
       "      <th>epoch</th>\n",
       "      <th>train_loss</th>\n",
       "      <th>valid_loss</th>\n",
       "      <th>accuracy</th>\n",
       "      <th>f1</th>\n",
       "      <th>matthews_correff</th>\n",
       "      <th>time</th>\n",
       "    </tr>\n",
       "  </thead>\n",
       "  <tbody>\n",
       "    <tr>\n",
       "      <td>0</td>\n",
       "      <td>0.704260</td>\n",
       "      <td>0.755434</td>\n",
       "      <td>0.763006</td>\n",
       "      <td>0.763006</td>\n",
       "      <td>0.679601</td>\n",
       "      <td>00:22</td>\n",
       "    </tr>\n",
       "    <tr>\n",
       "      <td>1</td>\n",
       "      <td>0.659796</td>\n",
       "      <td>0.586382</td>\n",
       "      <td>0.820809</td>\n",
       "      <td>0.820809</td>\n",
       "      <td>0.759722</td>\n",
       "      <td>00:23</td>\n",
       "    </tr>\n",
       "  </tbody>\n",
       "</table>"
      ],
      "text/plain": [
       "<IPython.core.display.HTML object>"
      ]
     },
     "metadata": {},
     "output_type": "display_data"
    }
   ],
   "source": [
    "learn_c.fit_one_cycle(2, lr, moms=(0.8,0.7))"
   ]
  },
  {
   "cell_type": "code",
   "execution_count": 19,
   "metadata": {},
   "outputs": [
    {
     "data": {
      "text/html": [
       "<table border=\"1\" class=\"dataframe\">\n",
       "  <thead>\n",
       "    <tr style=\"text-align: left;\">\n",
       "      <th>epoch</th>\n",
       "      <th>train_loss</th>\n",
       "      <th>valid_loss</th>\n",
       "      <th>accuracy</th>\n",
       "      <th>f1</th>\n",
       "      <th>matthews_correff</th>\n",
       "      <th>time</th>\n",
       "    </tr>\n",
       "  </thead>\n",
       "  <tbody>\n",
       "    <tr>\n",
       "      <td>0</td>\n",
       "      <td>0.665057</td>\n",
       "      <td>0.687979</td>\n",
       "      <td>0.791907</td>\n",
       "      <td>0.791907</td>\n",
       "      <td>0.723031</td>\n",
       "      <td>00:26</td>\n",
       "    </tr>\n",
       "    <tr>\n",
       "      <td>1</td>\n",
       "      <td>0.567432</td>\n",
       "      <td>0.567387</td>\n",
       "      <td>0.823699</td>\n",
       "      <td>0.823699</td>\n",
       "      <td>0.768312</td>\n",
       "      <td>00:26</td>\n",
       "    </tr>\n",
       "  </tbody>\n",
       "</table>"
      ],
      "text/plain": [
       "<IPython.core.display.HTML object>"
      ]
     },
     "metadata": {},
     "output_type": "display_data"
    }
   ],
   "source": [
    "learn_c.freeze_to(-2)\n",
    "learn_c.fit_one_cycle(2, slice(lr/(2.6**4),lr), moms=(0.8,0.7))"
   ]
  },
  {
   "cell_type": "code",
   "execution_count": 20,
   "metadata": {},
   "outputs": [
    {
     "data": {
      "text/html": [
       "<table border=\"1\" class=\"dataframe\">\n",
       "  <thead>\n",
       "    <tr style=\"text-align: left;\">\n",
       "      <th>epoch</th>\n",
       "      <th>train_loss</th>\n",
       "      <th>valid_loss</th>\n",
       "      <th>accuracy</th>\n",
       "      <th>f1</th>\n",
       "      <th>matthews_correff</th>\n",
       "      <th>time</th>\n",
       "    </tr>\n",
       "  </thead>\n",
       "  <tbody>\n",
       "    <tr>\n",
       "      <td>0</td>\n",
       "      <td>0.416406</td>\n",
       "      <td>0.601812</td>\n",
       "      <td>0.809249</td>\n",
       "      <td>0.809249</td>\n",
       "      <td>0.746467</td>\n",
       "      <td>00:35</td>\n",
       "    </tr>\n",
       "    <tr>\n",
       "      <td>1</td>\n",
       "      <td>0.328328</td>\n",
       "      <td>0.576490</td>\n",
       "      <td>0.820809</td>\n",
       "      <td>0.820809</td>\n",
       "      <td>0.759892</td>\n",
       "      <td>00:39</td>\n",
       "    </tr>\n",
       "  </tbody>\n",
       "</table>"
      ],
      "text/plain": [
       "<IPython.core.display.HTML object>"
      ]
     },
     "metadata": {},
     "output_type": "display_data"
    }
   ],
   "source": [
    "learn_c.freeze_to(-3)\n",
    "learn_c.fit_one_cycle(2, slice(lr/2/(2.6**4),lr/2), moms=(0.8,0.7))"
   ]
  },
  {
   "cell_type": "code",
   "execution_count": 21,
   "metadata": {},
   "outputs": [
    {
     "data": {
      "text/html": [
       "<table border=\"1\" class=\"dataframe\">\n",
       "  <thead>\n",
       "    <tr style=\"text-align: left;\">\n",
       "      <th>epoch</th>\n",
       "      <th>train_loss</th>\n",
       "      <th>valid_loss</th>\n",
       "      <th>accuracy</th>\n",
       "      <th>f1</th>\n",
       "      <th>matthews_correff</th>\n",
       "      <th>time</th>\n",
       "    </tr>\n",
       "  </thead>\n",
       "  <tbody>\n",
       "    <tr>\n",
       "      <td>0</td>\n",
       "      <td>0.186924</td>\n",
       "      <td>0.615390</td>\n",
       "      <td>0.832370</td>\n",
       "      <td>0.832370</td>\n",
       "      <td>0.776217</td>\n",
       "      <td>00:46</td>\n",
       "    </tr>\n",
       "    <tr>\n",
       "      <td>1</td>\n",
       "      <td>0.160297</td>\n",
       "      <td>0.629750</td>\n",
       "      <td>0.838150</td>\n",
       "      <td>0.838150</td>\n",
       "      <td>0.784047</td>\n",
       "      <td>00:44</td>\n",
       "    </tr>\n",
       "  </tbody>\n",
       "</table>"
      ],
      "text/plain": [
       "<IPython.core.display.HTML object>"
      ]
     },
     "metadata": {},
     "output_type": "display_data"
    }
   ],
   "source": [
    "learn_c.unfreeze()\n",
    "learn_c.fit_one_cycle(2, slice(lr/10/(2.6**4),lr/10), moms=(0.8,0.7))"
   ]
  },
  {
   "cell_type": "code",
   "execution_count": 22,
   "metadata": {},
   "outputs": [],
   "source": [
    "learn_c.save(f'{lang}clas')"
   ]
  },
  {
   "cell_type": "code",
   "execution_count": 25,
   "metadata": {
    "collapsed": true,
    "jupyter": {
     "outputs_hidden": true
    }
   },
   "outputs": [
    {
     "data": {
      "text/plain": [
       "RNNLearner(data=TextClasDataBunch;\n",
       "\n",
       "Train: LabelList (3121 items)\n",
       "x: TextList\n",
       "xxbos मेट्रो की इस लाइन के चलने से दक्षिणी दिल्ली से नोएडा जाने का समय काफी कम हो जाएगा और यात्रियों को राजीव चौक या मंडी हाउस से होकर नहीं जाना पड़ेगा . लेकिन , यह xxunk लाइन इसलिए भी महत्वपूर्ण है क्योंकि इस पर xxunk यानी बिना ड्राइवर वाली मेट्रो चलाने की योजना है . ऐसा भारत में पहली बार होगा जब कोई मेट्रो बिना ड्राइवर के चलाई जाएगी . मेट्रो के तीसरे xxunk में भारत में पहली बार ड्राइवरलेस तकनीक आएगी लेकिन दुनिया भर में कई देशों में ड्राइवरलेस मेट्रो पहले से ही चलती हैं . इन देशों में ड्राइवरलेस मेट्रो सफल भी रही हैं . दक्षिण कोरिया की राजधानी सोल में xxunk ट्रेन कामयाबी से चल रही है . ये मेट्रो ज़मीन के नीचे चलती है इसमें ड्राइवर का केबिन भी नहीं होता है . यूरोप में डेनमार्क , स्पेन , इटली , फ्रांस , जर्मनी , हंगरी , स्विट्जरलैंड और ब्रिटेन में भी xxunk मेट्रो चलती है . इन देशों में एक से ज़्यादा शहरों में भी ऐसी मेट्रो चलाई जाती है . इनके अलावा अमेरिका और कनाडा में भी ड्राइवरलेस ट्रेन चलती है . वहीं , ब्राजील , पेरू और xxunk में भी इस तरह की मेट्रो काफ़ी पहले आ चुकी है . भारत के पड़ोसी देश चीन में भी ड्राइवरलेस मेट्रो चलती है . अगर आप सऊदी अरब , क़तर और सिंगापुर जाएं तो वहां भी आप बिना ड्राइवर की मेट्रो का मज़ा उठा सकते हैं . क्या है मेट्रो में xxunk मेट्रो जैसा कि नाम से ही पता चला है कि इसे चलाने के लिए ड्राइवर की ज़रूरत नहीं पड़ती है . साथ ही यह मेट्रो किसी रुकावट को पहचानने और आपातकालीन परिस्थितियों में स्वचालित तरीके से काम करती है . इसमें भले ही ड्राइवर न हो लेकिन इसकी हर गतिविधि पर नज़र रखी जाती है . कौन सी ट्रेन कहां है , किस गति से चल रही है और किसे कहां रुकना है ये सब कुछ स्वचालित होता है . भारत की ड्राइवरलेस मेट्रो के बारे में कहा जा रहा है कि इसमें ज़्यादा यात्री सफ़र कर सकेंगे और इसमें ऊर्जा की भी कम खपत होगी . जिन स्टेशनों से होकर ये ट्रेन xxunk उन प्लेटफॉर्म पर स्क्रीन डोर लगे होंगे . ये स्क्रीन डोर सुरक्षा के लिए लगाए गए हैं ताकि प्लेटफॉर्म पर मौजूद यात्री ट्रैक पर न जा सकें . ये दरवाजे तभी खुलेंगे जब मेट्रो प्लेटफॉर्म पर आकर xxunk . साथ ही इस बार xxunk में कुर्सियों का रंग भी बदलकर xxunk और लाल रखा गया है . हाल ही में xxunk कुंज xxunk में एक xxunk मेट्रो के साथ दुर्घटना भी हो गई थी . मेट्रो यार्ड की दीवार तोड़कर बाहर निकल गई थी . पहले इसे ट्रायल रन के दौरान हुआ हादसा बताया गया लेकिन दिल्ली मेट्रो ने इसे xxunk के बाद हुई दुर्घटना कहा था . इसमें इंसानी ग़लती होने की आशंका जताई थी . हालांकि , इस हादसे में किसी को चोट नहीं पहुंची थी . ( बीबीसी हिन्दी के एंड्रॉएड ऐप के लिए आप यहां क्लिक कर सकते हैं . आप हमें फ़ेसबुक और ट्विटर पर फ़ॉलो भी कर सकते हैं . ),xxbos xxunk यानि इंटरनेट पर सक्रिय नागरिक अब ट्विटर पर सरकार द्वारा लगाए प्रतिबंधों के समर्थन या विरोध में अपने विचार व्यक्त करते हैं और वेबसाइट संबंधी सूचना भी जारी करते हैं . कुछ दिन पहले ही शियाओं के खिलाफ़ हिंसा पर नज़र रखनेवाली एक प्रतिबंधित वेबसाइट xxunk . कॉम को ट्विटर पर चलाए अभियान और सड़कों पर हुए प्रदर्शन के बाद बहाल कर दिया गया था . उससे कुछ दिन पहले जब अहमदिया संप्रदाय की आधिकारिक वेबसाइट xxunk . ओआरजी को ब्लॉक कर दिया गया था तो ट्विटर पर अहमदिया शब्द काफी प्रचलित हो गया था . पाकिस्तान के संविधान में अहमदिया संप्रदाय के लोगों को मुसलमान नहीं माना जाता है . अतीत में भी शिया , अहमदिया , बलोच और xxunk जैसे सांप्रदायिक समूहों की वेबसाइटें प्राय : प्रतिबंधित की जाती रही हैं . पाकिस्तान के दूरसंचार प्राधिकरण के प्रमुख का कहना है कि हाल ही में क़रीब xxunk वेबसाइटों को ब्लॉक कर दिया गया है जिनमें ईशनिंदा और अश्लील सामग्री वाली वेबसाइटें शामिल हैं . पाकिस्तान में ट्विटर , फेसबुक और यू - ट्यूब को भी कुछ समय के लिए ब्लॉक किया गया था . इस साल की शुरुआत में पाकिस्तान सरकार को वेबसाइटों पर नज़र रखने के लिए एक तंत्र विकसित करने के प्रस्ताव को लेकर आलोचना का सामना भी करना पड़ा था .,xxbos इसमें एक फ़्लाइट xxunk की मदद की गुहार है और साथ में डिक xxunk के उस निर्देश का ज़िक्र है जिसमें उन्होंने विमानों को मार गिराने की बात की थी . एक अपहरणकर्ता मोहम्मद अता की धमकियाँ भी सुनी जा सकती हैं . ये ऑडियो 9 / 11 आयोग के लिए तैयार किया गया था . ज़्यादातर बातें लिखित रूप में प्रकाशित की जा चुकी हैं . रिकॉर्डिंग में अमेरिकन एयरलाइन्स के फ़्लाइट नंबर 11 की फ़्लाइट xxunk बेटी का फ़ोन कॉल भी है . वे बोल रही xxunk श्रेणी में किसी को xxunk किया गया है . पता नहीं , लगता है कि हमारा अपहरण किया जा रहा है . xxunk मोहम्मद अता को बोलते हुए सना जा सकता है , \" कोई xxunk नहीं , ऐसे में सब ठीक रहेगा . अगर किसी ने कुछ करने की कोशिश की तो आपको नुकसान हो सकता है और विमान को भी . चुपचाप बैठे रहें . xxunk रिकॉर्डिंग फ़ेडरल एविएशन एडमिनिस्ट्रेशन की है . जब विमान वर्ल्ड ट्रेड सेंटर से टकरा चुका था तो उसके बाद ऑडियो में सुना जा सकता है कि xxunk एक और विमान की बात कर रहे हैं जो xxunk जा रहा है . ऑडियो में एक आवाज़ है जो बोल रही xxunk और विमान अभी - अभी वर्ल्ड ट्रेड सेंटर से टकराया है . \" फिर कोई कहता है , \" पूरी इमारत बिखर गई है . xxunk - तफ़री के आलम में जब कुछ फ़ाइटर जेट पूर्व की ओर उड़ान भरते हैं तो एक सैन्य कमांडर उन्हें जल्द से जल्द वाशिंगटन आने का आदेश देते हुए सुने जा सकते हैं . आख़िरी विमान यूनाइटेड 93 के xxunk में गिरने से पहले मेजर केविन ये कहते हुए सुने जा सकते हैं , \" मुझे इस बात की परवाह नहीं कि आप कितनी खिड़कियाँ तोड़ देते हैं . \",xxbos प्रतीक खुलेपन का , आज़ाद xxunk का और भीड़ से अलग हो जाने का . सवा सौ साल के इतिहास वाले इस मोटरसाइकिल ब्रांड ने दोनों विश्व युद्ध का \n",
       " \n",
       " \n",
       " \n",
       " \n",
       " \n",
       "  घमासान भी देखा है और सैकड़ों उतार चढ़ाव भी . साल 1970 में रॉयल एन्फील्ड ने ब्रिटेन समेत दुनियाभर में अपना उत्पादन रोक दिया , लेकिन भारत में इसका उत्पादन जारी रहा . भारत में पुलिस फोर्स से लेकर सेना तक ने अपनी कठिन जीवनशैली में शामिल करने के लिए लोहे से बनी बुलेट को कारगर पाया . पीढ़ियों से रॉयल एन्फील्ड मोटरसाइकिलों के शौकीन अनुज वशिष्ठ कहते हैं , “ मै जब छोटा था तो पिताजी की बुलेट को xxunk कहता था , आज मेरा बेटा जब बड़ा हो रहा है तो वो उस बुलेट को ग्रैनी कहता है . बुलेट कई वर्षों से हमारे परिवार का हिस्सा है . ”लेकिन कुछ दशक पहले तक बाइक प्रेमियों के बीच बुलेट का जितना नाम था उतना ही ये बदनाम भी था . पुरानी तकनीक से बनी इस बेहद वजनी गाड़ी की आलोचना भी खूब हुई . लेकिन बुलेट के दीवाने बुलेट के दीवाने ही रहे . वक्त के साथ कंपनी ने बुलेट में कई तकनीकी बदलाव भी किए , लेकिन आवाज़ और ताकत से छेड़छाड़ कम ही हुई . भारत सहित दुनिया के अन्य देशों में आज भी भारत में बनी बुलेट निर्यात की जाती है . प्रोफ़ेशनल बाइकर xxunk अपनी बुलेट ‘ क्लासिक ’ मोटरसाइकिल को अपना एक हिस्सा मानते है . वो कहते है , “ ये मेरे लिए सिर्फ एक बाइक न होकर मेरी लाइफ़स्टाइल भी है . इस पर सवार होकर लगता है कि मुझ में ही पहिए लग गए हो . मेरे हिस्से जैसा है ये . ”इस xxunk बाइक की खुद भारत में इतनी मांग है कि ग्राहकों को इसके लिए कई दिनों का इंतज़ार करना पड़ता है . भारतीय और अंतरराष्ट्रीय बाज़ारों में कई सस्ते और उन्नत तकनीक के विकल्प मौजूद होने के बाद भी रॉयल एन्फील्ड मोहल्ले के xxunk से लेकर xxunk बाइक राइडर्स की पसंद बनी हुई है . भारतीय सड़कों पर बुलेट वर्षों से शान और रुतबे का परिचायक बनकर दौड़ता रहा . लेकिन खास बात ये है कि जिस कंपनी का xxunk खुद उसके देश से सालों पहले उजड़ गया वो भारत में आज भी कायम है .,xxbos ख़ासकर पिछले 10 साल तक प्रधानमंत्री रहे मनमोहन सिंह को सुनने के बाद तो यह भाषण शानदार लगता है . लेकिन पिछले कई प्रधानमंत्रियों के इतर मोदी के भाषण में कई तरह के छुपे हुए संकेत भी हैं . अंकुश रखने की इच्छा , एकाधिकार की चाह के संकेत जो मोदी की कार्यशैली में अभी से दिखने लगे हैं . अपनी इस ख़ासियत से मोदी पूर्व प्रधानमंत्री इंदिरा गांधी के नज़दीक पहुंच जाते हैं . प्रधानमंत्री नरेंद्र मोदी ने ऐतिहासिक लालकिले से अपने पहले भाषण में वही साबित किया जो करने की उन्हें कोई ज़रूरत नहीं थी . देश ने चुनाव प्रचार के दौरान बार - बार देखा सुना था कि वह कितने अच्छे वक्ता हैं और बार - बार xxunk xxunk का इस्तेमाल करते हैं . एक ही बात दस तरह से कहते हैं और कहते रहते हैं जब तक वह दिल - दिमाग में बैठ न जाए . मोदी के व्यक्तित्व के इस पहलू पर शायद ही कोई सवाल उठाए , इसके बावजूद उन्होंने भाषण कला फिर प्रदर्शित की . जमकर xxunk की , नारे दिए और जुमले xxunk . लोग उन्हें अरसे तक दोहराते रहेंगे . ऐसा एक लंबे वक्त के बाद हुआ है . एक दशक तक संयुक्त प्रगतिशील गठबंधन के मनमोहन सिंह के बेजान , xxunk और उबाऊ भाषणों के बरअक्स मोदी ताज़ा हवा का xxunk थे- सुखद और कानों को अच्छा लगने वाला . यह अब तक देश के सबसे अच्छे और प्रखर वक्ता अटल बिहारी वाजपेयी के भाषणों से भिन्न था . वाजपेयी के भाषण में लय , xxunk और xxunk थी , जो मोदी के भाषण में ग़ायब थी . वाजपेयी दिल को छू लेते थे तो मोदी दिल के साथ जेब भी छूते हैं . व्यापार का महत्व वह अच्छी तरह समझते हैं ख़ासकर नए वैश्विक परिवेश में . यह वाजपेयी से एक कदम आगे है या पीछे , बाद में तय होगा . सुना है पहले प्रधानमंत्री जवाहरलाल नेहरू दिल से बोलते थे , लाल बहादुर शास्त्री भी . इंदिरा गांधी दिल से ज़्य़ादा दिमाग़ का इस्तेमाल करती थीं . राजीव गांधी सपाट वक्ता थे जबकि नरसिम्हा राव में xxunk थी . मोरारजी देसाई में अपने किस्म की xxunk नज़र आती थी . वीपी सिंह कभी xxunk , कभी डरे हुए लगते थे कि पता नहीं कब तक चलेंगे . मनमोहन सिंह तो लगता था कि ख़ुद से बात कर रहे हैं . xxunk ज़ुबान में ख़ुद बोला ख़ुद सुन लिया . उनकी बोली और ख़ामोशी में ज़्यादा फ़र्क नहीं था . मोदी की शक्ल में पहली बार संवाद करने वाला प्रधानमंत्री देश को मिला है , आंखों में आंखें डालकर बोलता . इस ज़िद के साथ कि वह xxunk ही रहेगा , दोहरा - तिहरा कर बोलेगा कि कैसे और कब तक नहीं xxunk . मोदी के भाषण में जो विषय उठाए गए , छूटे या छोड़ दिए गए उन्हें हटा दें तो सिर्फ़ अदा और अदायगी के लिए उन्हें 10 में से 10 नंबर दिए जा सकते हैं . अगर कटा तो आधा नंबर सिर्फ़ इसलिए xxunk कि वह आधा वाक्य संस्कृत में बोले और उसमें भी उच्चारण दोष था . अगर प्रधानमंत्री के भाषण के संकेतों को देखा जाए तो एक संकेत बहुत साफ़ था और उसकी झलक दो बार अलग - अलग संदर्भों में देखने को मिली . पहली जब मोदी ने ' लड़कियों से कहां xxunk , कब xxunk ' जैसे सवालों का ज़िक्र किया और कहा कि यही सवाल लड़कों से क्यों नहीं पूछे जाते . उन पर मां - बाप अंकुश रखें तो बलात्कार और आतंकवादी हिंसा जैसी घटनाएं न हों . वह सब पर अंकुश चाहते हैं . दूसरी झलक में वह ख़ुद को दिल्ली में बाहरी बताते हैं . कहते हैं कि अंदर से देखा तो पाया कि यहां एक सरकार के अंदर कई सरकारें चलती हैं . अदालतों में मुक़दमे होते हैं जो देश के लिए क़तई ठीक नहीं हैं . इससे मोदी की xxunk मनोवृत्ति दिखाई देती है . यह छवि अख़बारों और सोशल मीडिया में प्रसारित उस छवि का विस्तार लगती है जिसमें अपने सांसदों से बात करते हुए मोदी डेढ़ फुट ऊंचे मंच पर बैठते हैं . बाक़ी सब नीचे रखी कुर्सियों पर . लोकतंत्र का मान्य सिद्धांत प्रधानमंत्री को कोई ऊंचा आसन नहीं देता बल्कि उन्हें ' फर्स्ट xxunk xxunk ' मानता है . इस सिद्धांत के टूटने की पहली घटना इंदिरा गांधी के काल में हुई थी , जिन्हें ' xxunk मैन इन हर कैबिनेट ' , कहा जाने लगा था . लेकिन इस बार जो हो रहा है , उसे क्या xxunk हिन्दी के एंड्रॉएड ऐप के लिए \n",
       " \n",
       " \n",
       " \n",
       "  यहां क्लिक करें . आप हमें \n",
       " \n",
       " \n",
       " \n",
       "  फ़ेसबुक और \n",
       " \n",
       " \n",
       " \n",
       "  ट्विटर पर भी फ़ॉलो कर सकते हैं . )\n",
       "y: CategoryList\n",
       "india,pakistan,news,india,india\n",
       "Path: /home/jupyter/.fastai/data/hiwiki;\n",
       "\n",
       "Valid: LabelList (346 items)\n",
       "x: TextList\n",
       "xxbos 24 साल के हार्दिक पटेल ने बिना चुनाव लड़े ही गुजरात विधानसभा चुनावों में ऐसी दावेदारी पेश की कि ना सिर्फ़ मीडिया , बल्कि मोदी के लिए भी उन्हें नज़रअंदाज़ करना मुश्किल हो गया . दरअसल , ये चुनाव हार्दिक पटेल की पाटीदार xxunk आंदोलन समिति ने कांग्रेस को समर्थन देकर लड़ा था . दोनों के बीच शर्त थी कि कांग्रेस जीतने के बाद पटेलों को आरक्षण देगी . लेकिन अब जब नतीजों से तय हो गया है कि कांग्रेस सत्ता से दूर है और बीजेपी लगातार छठी बार सत्ता में आ गई है , ऐसे में हार्दिक की आगे की राजनीति की दिशा क्या xxunk पत्रकार संजीव श्रीवास्तव मानते हैं कि अगर कांग्रेस जीतती तो हार्दिक पटेल ज़्यादा बड़े नेता बनकर उभरते . संजीव श्रीवास्तव कहते हैं , \" अब हार्दिक के सामने चुनौती है कि अगर उन्हें बड़ा नेता बनना है तो ' एकला चलो रे ' की नीति को छोड़ना पड़ेगा और कांग्रेस में शामिल होना पड़ेगा और जैसे ही वो कांग्रेस में शामिल होते हैं तो उनका कद थोड़ा तो कम होगा . हालांकि कांग्रेस और हार्दिक पटेल मिलकर एक मज़बूत जोड़ी बनेंगे . \"लेकिन गुजरात के वरिष्ठ पत्रकार आरके मिश्रा इस पर अलग राय रखते हैं और कहते हैं , \" कांग्रेस अगर जीत जाती तो ये हार्दिक के लिए फायदेमंद कम होता . कांग्रेस अगर जीत जाती तो हार्दिक भी एक तरह से सत्ता में आ जाते . फिर अगर कांग्रेस आरक्षण की शर्त पूरी ना कर पाती तो फिर उनका समर्थन कम हो जाने की आशंका ज़्यादा होती . अब तो उनके आंदोलन को भी फ़र्क नहीं पड़ेगा क्योंकि वो बीजेपी से ही तो लड़ रहे थे और अब फिर से बीजेपी के जीतने के बाद उसकी स्थिति यथावत रहेगी . \"गुजरात नतीजों के दिन हार्दिक पटेल के घर पसरा xxup xxunk हैकिंग : हार्दिक पटेल के दावों की xxunk के संपादक अजय उमठ कहते हैं कि इन चुनावों में गुजरात कांग्रेस में हार्दिक ने ही जान डाली थी . भाजपा के गुजरात मॉडल को चुनौती भी हार्दिक ने ही दी . उन्होंने इस बहस को गर्माया कि ये विकास तो ' xxunk ' है . हीरा व्यापारियों और कपड़ा व्यापारियों की समस्या का मुद्दा उठाया . \" हार्दिक की अपील थी कि ये सरकार सुनती नहीं है , अहंकारी है और इस अहंकारी सरकार को हटाओ . उनके जिन समर्थकों ने चुनाव लड़ा , वो जीत गए हैं और वहीं कांग्रेस के बड़े नेता हार गए . \"अजय उमठ के मुताबिक हार्दिक कह रहे हैं कि वो अपना आरक्षण के लिए आंदोलन जारी रखेंगे और साथ ही व्यापारियों और किसानों के लिए भी आंदोलन करेंगे . जिस तरह के मुद्दे हार्दिक उठा रहे हैं , वो अब कास्ट लीडर से मास लीडर बनने की ओर बढ़ते नज़र आ रहे हैं . कमोबेश यही बात बीबीसी गुजराती सेवा के संपादक अंकुर जैन भी कहते हैं कि नरेंद्र मोदी को हार्दिक पटेल से आगे भी कड़ी टक्कर मिलने वाली है . वो अब राजस्थान , महाराष्ट्र और हरियाणा में भी जाएंगे जहां फसलों के न्यूनतम समर्थन मूल्य , कर्ज़ माफ़ी जैसी किसानों की समस्याएं मौजूद हैं . क्या नरेंद्र मोदी से ज़्यादा भीड़ खींच रहे हैं हार्दिक xxunk श्रीवास्तव कहते हैं कि हार्दिक पटेल चुनावों से पहले तक बहुत बड़े नेता दिखाई दे रहे थे लेकिन अभी कांग्रेस की हार के बाद कुछ दिन तक उनका कद सामान्य रहेगा . चुनाव के माहौल में वो आए तो xxunk और जोश अच्छा लगता है , लेकिन इसे अगले 5 साल तक बनाए रखना चुनौती भरा काम है . पत्रकार आरके मिश्रा कहते हैं कि हार्दिक के पास अभी काफी वक्त है . वो अपने मुद्दों का दायरा बढाएंगे . शुरुआत में वो कहते थे कि ओबीसी में पाटीदारों को आरक्षण दीजिए . फिर उन्होंने कहा कि 49 फ़ीसदी आरक्षण जो इस वक्त लागू है , उसमें से आरक्षण मत दीजिए , अलग से आरक्षण दीजिए . \" ओबीसी के मौजूदा आरक्षण से तो उनको कोई समस्या नहीं है और इसलिए ओबीसी नेता अल्पेश ठाकोर से भी उनका कोई टकराव नही रहा . जिग्नेश मेवाणी वाले कोटा में वो आ नहीं सकते और ना ऐसी मांग है . तो ये विपक्ष आधारित राजनीति है जिसका दायरा वो और बढाएंगे . अब वो किस रूप में होगा वो तो ये सरकार बनने के बाद ही साफ़ होगा . \" बीबीसी गुजराती सेवा के संपादक अंकुर जैन कहते हैं कि हार्दिक के लिए रास्ता सामान्य नहीं होगा . फिर से बीजेपी सरकार सत्ता में है और हार्दिक पर कई मुकदमें अभी चल रहे हैं . तो इसका प्रभाव भी पड़ सकता है . जहां तक हार्दिक की राजनीति की बात है तो अब तक किसी भी पार्टी में शामिल ना होकर उन्होंने अपने विकल्प खुले भी रखे हैं . उनके आरक्षण के मुद्दे में भी थोड़ा बदलाव हुआ है , यानी अब वो जनसंख्या के आधार पर कोटा में प्रतिनिधित्व मांग रहे हैं . और इस मांग की जनता में स्वीकार्यता भी है.(बीबीसी हिन्दी के एंड्रॉएड ऐप के लिए आप यहां क्लिक कर सकते हैं . आप हमें फ़ेसबुक और ट्विटर पर फ़ॉलो भी कर सकते हैं . ),xxbos जसवंत सिंह को पार्टी से निकाले जाने का क्या मतलब है ? इससे भाजपा की दिशा और दशा के बारे में क्या संकेत मिलते xxunk में ये बात सभी को पता थी कि जसवंत सिंह जिन्ना के बारे में कुछ लिख रहे हैं . तो भाजपा के शीर्ष नेतृत्व को उसी समय उनसे पूछना चाहिए था कि वे क्या लिख रहे xxunk तब पार्टी के किसी नेता ने ये पूछने या जानने की ज़रूरत नहीं समझी , और अब किताब सामने आने के बाद अचानक उन्हें पार्टी से निष्कासित कर देना तो कुछ ज़्यादती ही लगती है ... हालांकि जिस तरह से जिन्ना को भाजपा की विचारधारा में जिस तरह से ' एक शैतान के तौर पर देखा जा रहा है , ऐसे में जसवंत सिंह को भी इस xxunk में नहीं रहना चाहिए था कि जिन्ना की तारीफ़ करने वाली उनकी किताब को पार्टी स्वीकार करेगी . xxunk तक उनके निष्कासन में राष्ट्रीय स्वयंसेवक xxunk का हाथ होने की बात है , तो सिर्फ़ उसे ही दोषी नहीं ठहराना चाहिए . वास्तव में मुझे तो ये सारा मामला सोची समझी रणनीति का आभास देता है . भाजपा की चिंतन बैठक से ठीक एक दिन पहले जिस तरह से आरएसएस प्रमुख ने नेतृत्व परिवर्तन की बात कहकर आडवाणी के लिए संकट खड़ा किया था , जसवंत सिंह को पार्टी से निकाल देने के बाद अब उस प्रकरण का रुख़ दूसरी ओर मुड़ गया है . अब चिंतन बैठक का मुख्य एजेंडा जसवंत सिंह हो गए हैं और नेतृत्व परिवर्तन वाले मुद्दे से ध्यान हटा दिया गया है . अगर ये कहा जाता है कि आडवाणी ने भी जिन्ना का महिमामंडन किया था लेकिन उन्हें कोई सज़ा नहीं मिली जबकि जसवंत सिंह के साथ ज़्यादती हुई है , तो ये ठीक नहीं है . पहली बात तो यह कि आडवाणी को भी पार्टी अध्यक्ष का पद छोड़ना पड़ा था और दूसरा यह कि आडवाणी का क़द और पार्टी में उनका महत्व जसवंत सिंह की तुलना में कहीं ज़्यादा है . वास्तव में भाजपा में जो कुछ भी हो रहा है उससे तो यही कहा जाना चाहिए कि अब पार्टी में वाजपेयी युग ख़त्म हो चला है . वास्तव में भाजपा को अपना अस्तित्व बचाए रखने के लिए उदारवादी और कट्टर - दोनों ही चेहरों की ज़रूरत है . यदि पूरी तरह से भाजपा उदारवादी चेहरा अपनाए तो उसका ख़ासा कट्टरपंथी जनसमर्थन उससे छूट जाता है . ख़ुद आडवाणी इस कोशिश में विवादों में उलझ गए थे . दूसरी ओर सिर्फ़ कट्टरपंथी सोच के ज़रिए उसे सत्ता का रास्ता नहीं दिख रहा है . भारतीय जनता पार्टी आज इसी दुविधा में फंसी हुई है .,xxbos बिजली और पानी विभाग के सचिव राव सिंकदर ने बताया है कि अचानक पैदा हुए इस संकट की जांच के आदेश दे दिए गए हैं और एक जांच समिति का गठन कर दिया गया है . राव सिंकदर ने कहा है कि कराची को 100 मेगावाट बिजली मुहैया करा दी गई है जबकि राजधानी इस्लामाबाद और ख़ैबर xxunk प्रांत में भी बिजली बहाल कर दी गई है . बिजली व पानी मंत्रालय के अधिकारियों के अनुसार 1200 मेगावाट बिजली पैदा करने वाले हिब्को पावर प्लांट में आई तकनीकी ख़राबी के कारण रविवार और सोमवार की दरम्यानी रात से बिजली संकट शुरू हुआ और फिर पूरे देश में बिजली संकट पैदा हो गया . हिब्को पावर प्लांट में ख़राबी की वजह से कराची में बिजली मुहैया कराने वाली संस्था xxunk को भी बिजली नहीं मिल सकी जिसके कारण लगभग पूरा कराची शहर अंधेरे में डूब गया . कराची के अलावा सिंध के और दूसरे क्षेत्रों में भी बिजली गुल होने की ख़बरें हैं . बलूचिस्तान में राजधानी क्वेटा समेत प्रांत के xxunk इलाक़ों में बिजली सप्लाई ठप हो गई है जबकि पंजाब प्रांत में लाहौर और फ़ैसलाबाद समेत कई बड़े शहरों से बिजली गुल होने की ख़बरें हैं . रविवार रात को एक आपातकालीन प्रेस कॉंफ़्रेंस में पानी और बिजली विभाग के सचिव राव सिकंदर ने पत्रकारों से बातचीत के दौरान कहा था कि बिजली गुल होने का कारण नेश्नल पावर कंट्रोल सेंटर में आई ख़राबी नहीं थी बल्कि हिब्को पावर प्लांट के अचानक ख़राब हो जाने और उसके बंद होने के कारण पूरे देश में बिजली संकट पैदा हो गई . उन्होंने कहा कि हिब्को प्लांट बंद होने के कारण xxunk और xxunk पावर xxunk भी xxunk के शिकार हो गए और आख़िरकार वे भी बंद हो गए जिसके कारण संकट ने राष्ट्रीय रूप ले लिया . उन्होंने कहा कि दूसरे पावर प्लांट को नुक़सान से बचाने के उद्देश्य से उन्हें बंद करना पड़ा . राव सिंकदर के अनुसार इतने बड़े पैमाने पर बिजली गुल होने का पाकिस्तान में ये तीसरा xxunk है और इससे पहले 2005 तथा 2009 में भी एक बार लगभग पूरे देश में बिजली गुल हो गई थी . पाकिस्तान के प्रधानमंत्री राजा परवेज़ अशरफ़ के दफ़्तर से भी एक बयान जारी कर कहा गया है कि प्रधानमंत्री बिजली संकट पर नज़र बनाए हुए हैं और इसे जल्द से जल्द ठीक करने के निर्देश दिए गए हैं .,xxbos राजस्थान के xxunk जिले में एक जनसभा में राहुल गांधी ने खाद्य सुरक्षा कानून , रोजगार गारंटी योजना और भूमि अधिग्रहण कानून का जिक्र करते हुए कहा कि केंद्र की सरकार गरीब और किसानों की बेहतरी के लिए कई कदम उठा रही है . विपक्षी भारतीय जनता पार्टी अक्सर गरीबी और बेरोजगारी के लिए केंद्र की नीतियों को जिम्मेदार ठहराता है . राहुल गांधी ने अपने भाषण में इन्हीं आरोपों का जवाब देने की कोशिश की . राहुल गांधी ने कहा , \" जो भी हमने कहा वो करके दिखाया , चाहे बात मनरेगा की बात की हो , भोजन के अधिकार की हो , xxunk की हो या बिजली की हो . ये सब करके दिखाया है . यही फर्क है उनमें और हममें . \"उन्होंने कहा कि विपक्ष ने मनरेगा और खाद्य सुरक्षा जैसी अहम योजनाओं के लिए अक्सर पैसे का सवाल उठाया है लेकिन कांग्रेस ने इन्हें साकार करके दिखाया . भाजपा की तरफ से अक्सर गुजरात को विकास के मॉ़डल के रूप में पेश किया जाता है . लेकिन राहुल गाँधी ने कहा , \" हम ऐसा विकास चाहते हैं , जिसमें लोगों को भूखे पेट न सोना पड़े . \"उन्होंने कहा कि विपक्ष विकास की बात करता है लेकिन दूसरी तरफ संसद में विकास की नीतियों में बाधा भी डालता है . कांग्रेस उपाध्यक्ष ने विपक्ष पर सत्ता और प्रभाव चंद लोगों के हाथों में सौंपने का आरोप लगाया जबकि राहुल के मुताबिक , \" हम ग़रीबों के हित में काम करते हैं ताकि वे सपने देखें और आगे बढ़ें . \"उन्होंने राजस्थान की अशोक गहलोत सरकार के विकास के काम की तारीफ करते हुए कहा कि ' राजस्थान में ग़रीबों को मुफ़्त दवा दी जा रही है , आहिस्ता - आहिस्ता यह पूरे हिंदुस्तान में xxunk . इसके अलावा राहुल गाँधी ने राजस्थान के xxunk में मंगलवार को एक पॉवर प्लांट का उद्घाटन किया . इस साल के अंत में राजस्थान में विधानसभा चुनाव होने वाले हैं.(बीबीसी हिन्दी के एंड्रॉएड ऐप के लिए \n",
       " \n",
       " \n",
       " \n",
       "  यहां क्लिक करें . आप हमें \n",
       " \n",
       " \n",
       " \n",
       "  फ़ेसबुक और \n",
       " \n",
       " \n",
       " \n",
       "  ट्विटर पर फ़ॉलो भी कर सकते हैं . ),xxbos पुलिस सूत्रों ने कहा है कि सईद xxunk उर्फ अबू जंदल नाम के व्यक्ति को दिल्ली हवाई अड्डे से गिरफ्तार किया गया है . गृह मंत्री पी चिदंबरम ने गिरफ़्तारी की पुष्टि करते हुए कहा , \" अबू जंदल नाम के एक व्यक्ति को गिरफ्तार किया गया है और उन्हें कानून लागू करने वाली एजेंसियों की हिरासत में भेजा गया है . ''बीबीसी हिंदी सेवा से बात करते हुए दिल्ली पुलिस के एक आला अफसर ने दावा किया कि जंदल मुंबई पर 26 नवंबर को हुए हमले से जुड़े हुए थे . पर गृहमंत्री ने जंदल के मुंबई हमलों की साजिश में शरीक होने के मामले पर कुछ नहीं कहा है . अबू जंदल की गिरफ्तारी को लेकर सुबह से ही अस्पष्ट सूचनाएँ आ रही हैं . गृहमंत्री का बयान आने के बावजूद दिल्ली पुलिस के प्रवक्ता राजन भगत ने इस खबर की पुष्टि करने से इनकार कर दिया . राजन भगत ने बीबीसी से कहा , \" दिल्ली पुलिस के पास इस बारे में कोई आधिकारिक सूचना नहीं है . \"पुलिस सूत्रों ने बीबीसी को बताया कि जंदल को तीस xxunk अदालत में पेश किया गया जहां से उन्हें 15 दिन के पुलिस रिमांड में भेज दिया गया है . पुलिस सूत्रों के मुताबिक 30 वर्षीय जंदल भारत के नागरिक हैं और वे महाराष्ट्र के रहने वाले हैं . यह पूछे जाने पर कि क्या उन्हें किसी देश से ' xxunk ' करके जबरन भारत भेजा गया तो अधिकारी ने कहा कि दिल्ली पुलिस ने गुप्त जानकारी पर काम करते हुए जंदल को गिरफ्तार किया है . खबरों के मुताबिक जंदल साल 2006 में भारत से फरार होकर कथित तौर पर पाकिस्तान भाग गए xxunk नवंबर 2008 की रात कुछ हथियारबंद लोगों ने मुंबई में ताज होटल पर हमला किया था जिसमें 166 लोग मारे गए थे जबकि 250 से अधिक घायल हुए थे . इन हमलों में पहले ही अजमल कसाब दोषी करार दिए जा चुके हैं और उन्हें फांसी की सजा सुनाई गई है . पिछले साल मई में पाकिस्तान पर दबाव बढ़ाते हुए भारत ने 50 फरार लोगों की एक सूची जारी की थी जिसमें मुंबई हमलों के मामले में शामिल लोगों के भी नाम थे .\n",
       "y: CategoryList\n",
       "india,india,international,india,india\n",
       "Path: /home/jupyter/.fastai/data/hiwiki;\n",
       "\n",
       "Test: None, model=SequentialRNN(\n",
       "  (0): MultiBatchEncoder(\n",
       "    (module): AWD_LSTM(\n",
       "      (encoder): Embedding(23640, 400, padding_idx=1)\n",
       "      (encoder_dp): EmbeddingDropout(\n",
       "        (emb): Embedding(23640, 400, padding_idx=1)\n",
       "      )\n",
       "      (rnns): ModuleList(\n",
       "        (0): WeightDropout(\n",
       "          (module): LSTM(400, 1152, batch_first=True)\n",
       "        )\n",
       "        (1): WeightDropout(\n",
       "          (module): LSTM(1152, 1152, batch_first=True)\n",
       "        )\n",
       "        (2): WeightDropout(\n",
       "          (module): LSTM(1152, 400, batch_first=True)\n",
       "        )\n",
       "      )\n",
       "      (input_dp): RNNDropout()\n",
       "      (hidden_dps): ModuleList(\n",
       "        (0): RNNDropout()\n",
       "        (1): RNNDropout()\n",
       "        (2): RNNDropout()\n",
       "      )\n",
       "    )\n",
       "  )\n",
       "  (1): PoolingLinearClassifier(\n",
       "    (layers): Sequential(\n",
       "      (0): BatchNorm1d(1200, eps=1e-05, momentum=0.1, affine=True, track_running_stats=True)\n",
       "      (1): Dropout(p=0.2, inplace=False)\n",
       "      (2): Linear(in_features=1200, out_features=50, bias=True)\n",
       "      (3): ReLU(inplace=True)\n",
       "      (4): BatchNorm1d(50, eps=1e-05, momentum=0.1, affine=True, track_running_stats=True)\n",
       "      (5): Dropout(p=0.1, inplace=False)\n",
       "      (6): Linear(in_features=50, out_features=14, bias=True)\n",
       "    )\n",
       "  )\n",
       "), opt_func=functools.partial(<class 'torch.optim.adam.Adam'>, betas=(0.9, 0.99)), loss_func=FlattenedLoss of CrossEntropyLoss(), metrics=[<function accuracy at 0x7fb7abbaf560>, <function f1 at 0x7fb7b0c42320>, MatthewsCorreff()], true_wd=True, bn_wd=True, wd=0.01, train_bn=True, path=PosixPath('/home/jupyter/.fastai/data/hiwiki'), model_dir='models', callback_fns=[functools.partial(<class 'fastai.basic_train.Recorder'>, add_time=True, silent=False)], callbacks=[RNNTrainer\n",
       "learn: ...\n",
       "alpha: 2.0\n",
       "beta: 1.0, MixedPrecision\n",
       "learn: ...\n",
       "loss_scale: 8192.0\n",
       "max_noskip: 1000\n",
       "dynamic: True\n",
       "clip: None\n",
       "flat_master: False\n",
       "max_scale: 16777216\n",
       "loss_fp32: True], layer_groups=[Sequential(\n",
       "  (0): Embedding(23640, 400, padding_idx=1)\n",
       "  (1): EmbeddingDropout(\n",
       "    (emb): Embedding(23640, 400, padding_idx=1)\n",
       "  )\n",
       "), Sequential(\n",
       "  (0): WeightDropout(\n",
       "    (module): LSTM(400, 1152, batch_first=True)\n",
       "  )\n",
       "  (1): RNNDropout()\n",
       "), Sequential(\n",
       "  (0): WeightDropout(\n",
       "    (module): LSTM(1152, 1152, batch_first=True)\n",
       "  )\n",
       "  (1): RNNDropout()\n",
       "), Sequential(\n",
       "  (0): WeightDropout(\n",
       "    (module): LSTM(1152, 400, batch_first=True)\n",
       "  )\n",
       "  (1): RNNDropout()\n",
       "), Sequential(\n",
       "  (0): PoolingLinearClassifier(\n",
       "    (layers): Sequential(\n",
       "      (0): BatchNorm1d(1200, eps=1e-05, momentum=0.1, affine=True, track_running_stats=True)\n",
       "      (1): Dropout(p=0.2, inplace=False)\n",
       "      (2): Linear(in_features=1200, out_features=50, bias=True)\n",
       "      (3): ReLU(inplace=True)\n",
       "      (4): BatchNorm1d(50, eps=1e-05, momentum=0.1, affine=True, track_running_stats=True)\n",
       "      (5): Dropout(p=0.1, inplace=False)\n",
       "      (6): Linear(in_features=50, out_features=14, bias=True)\n",
       "    )\n",
       "  )\n",
       ")], add_time=True, silent=False)"
      ]
     },
     "execution_count": 25,
     "metadata": {},
     "output_type": "execute_result"
    }
   ],
   "source": [
    "learn_c.load(f'{lang}clas');"
   ]
  },
  {
   "cell_type": "code",
   "execution_count": 59,
   "metadata": {},
   "outputs": [
    {
     "name": "stderr",
     "output_type": "stream",
     "text": [
      "/opt/anaconda3/lib/python3.7/site-packages/fastai/data_block.py:183: UserWarning: `no_split` is deprecated, please use `split_none`.\n",
      "  warn(\"`no_split` is deprecated, please use `split_none`.\")\n"
     ]
    },
    {
     "data": {
      "text/html": [],
      "text/plain": [
       "<IPython.core.display.HTML object>"
      ]
     },
     "metadata": {},
     "output_type": "display_data"
    },
    {
     "data": {
      "text/html": [],
      "text/plain": [
       "<IPython.core.display.HTML object>"
      ]
     },
     "metadata": {},
     "output_type": "display_data"
    }
   ],
   "source": [
    "data_valid = (TextList.from_df(test_df, path, vocab=data_lm.vocab, cols=1)\n",
    "    .no_split()\n",
    "    .label_from_df(cols=0)\n",
    "    .databunch(bs=bs, num_workers=1))"
   ]
  },
  {
   "cell_type": "code",
   "execution_count": 60,
   "metadata": {
    "collapsed": true,
    "jupyter": {
     "outputs_hidden": true
    }
   },
   "outputs": [
    {
     "data": {
      "text/plain": [
       "TextClasDataBunch;\n",
       "\n",
       "Train: LabelList (866 items)\n",
       "x: TextList\n",
       "xxbos बुधवार को राज्य सभा में विपक्ष के सवालों के जवाब में मनमोहन सिंह ने कहा , \" अगर किसी तरह की गड़बड़ी पाई जाती है , तो हम कड़ी से कड़ी कार्रवाई करेंगे . \"मंगलवार को संसद में भारत के नियंत्रक और महालेखा परीक्षक की रिपोर्ट पेश की गई है . किसानों के क़र्ज़ की माफ़ी स्कीम पर तैयार इस रिपोर्ट में कहा गया है कि पिछले वित्तीय वर्ष में जितने भी लोगों के क़र्ज़ बैंकों ने माफ़ किए थे , उनमें से 22 फ़ीसद मामले फर्ज़ी थे . रिपोर्ट में कहा गया है कि बैंक के कर्मचारियों ने फर्ज़ी खातों में कर्ज़ माफ़ किए हैं और वो सारी राशि ख़ुद xxunk ली है . विपक्ष ने मामले पर सरकार को घेरना शुरू कर दिया है . मुख्य विपक्षी दल भारतीय जनता पार्टी के प्रवक्ता प्रकाश जावडेकर ने कहा है कि इस तरह की गड़बड़ी इतने बड़े पैमाने पर सिर्फ़ तकनीकी कमियों की वजह से नहीं हो सकती है . विपक्ष और सरकार को समर्थन दे रहे xxunk जैसे समाजवादी पार्टी मामले को संसद में भी उठा रही है . लोकसभा में विपक्ष की नेता सुषमा स्वराज ने अध्यक्ष से मामले पर बहस करवाने की मांग की है . महालेखा परीक्षक की कोयला खदान आवंटन और टूजी स्पेक्ट्रम को बेचने में हुई गड़बड़ी को लेकर मनमोहन सिंह सरकार को परेशानियों का सामना करना पड़ा है .,xxbos लखनऊ स्थित पत्रकार xxunk मिश्र को बुलंदशहर के पुलिस अधीक्षक अनीस अहमद अंसारी ने बताया कि xxunk को उनके तीन साथियों को गिरफ्तार किया गया . इन गिरफ्तारियों के साथ ही इस मामले में गिरफ्तार अभियुक्तों की संख्या छह हो गई है . इस मामले के तीन अभियुक्तों को पुलिस ने पहले ही गिरफ्तार किया था , जो अभी न्यायिक हिरासत में हैं . दिल्ली से कानपुर जाने वाले राजमार्ग 95 पर 29 जुलाई को कुछ हथियारबंद बदमाशों ने एक कार में अपने परिवार के साथ जा रही मां - बेटी के साथ बुलंदशहर में सामूहिक बलात्कार किया था . इसके बाद यह मामला सुर्खियों में आ गया था . विपक्षी दलों ने उत्तर प्रदेश की समाजवादी पार्टी की सरकार में क़ानून - व्यवस्था फेल हो जाने का आरोप लगाया था . इसके बाद प्रदेश सरकार ने कार्रवाई करते हुए ज़िले के कई वरिष्ठ पुलिस अधिकारियों को निलंबित कर दिया था . इलाहाबाद हाई कोर्ट ने इस मामले का स्वत : संज्ञान लेते हुए प्रदेश सरकार पर मामले की सीबीआई जांच को लेकर जवाब दाखिल करने को कहा है.(बीबीसी हिन्दी के एंड्रॉएड ऐप के लिए \n",
       " \n",
       " \n",
       " \n",
       "  यहां क्लिक करें . आप हमें \n",
       " \n",
       " \n",
       " \n",
       "  फ़ेसबुक और \n",
       " \n",
       " \n",
       " \n",
       "  ट्विटर पर फ़ॉलो भी कर सकते हैं . ),xxbos लगभग 1300 हेक्टेयर ज़मीन का अधिग्रहण किया जा चुका है . और कुछ के अधिग्रहण का काम चल रहा है . जहाँ ज़मीन अधिग्रहित की जा चुकी हैं वहां बड़े बड़े xxunk ने इलाक़े का xxunk कर दिया है . अब सिंघीतेराई गाँव की बारी है . मगर अब यहाँ लोग इन संयंत्रों का विरोध कर रहे हैं . वह अपनी ज़मीन नहीं देना चाह रहे हैं . उनका कहना है कि इस इलाके में ज़्यादातर ज़मीन खेतिहर है इस लिए वह अपनी आजीविका के लिए इन खेतों पर ही आश्रित हैं . पीढ़ी दर पीढ़ी वह इन खेतों के सहारे अपना पेट पालते आ रहे हैं . पहले निजी कंपनियों ने औने पौने में ज़मीनों को खरीदा मगर अब छत्तीसगढ़ की सरकार ने ज़मीनों का खुद ही अधिग्रहण करना शुरू कर दिया है . अब सरकार ज़मीन अधिग्रहित कर उसे निजी कंपनियों को दे रही है . औद्योगिकीकरण की xxunk का तर्क है कि पहले xxunk औने पौने में ज़मीन खरीदा करती थीं . सरकार की नई भूमि अधिग्रहण और पुनर्वास नीति के तहत किसानों को साल में दो फसल देने वाली खेतिहर ज़मीन के प्रति एकड़ दस लाख रूपए देने का प्रावधान किया गया है . कहा जा सकता है कि छत्तीसगढ़ में औद्योगिकीकरण की आंधी चल रही है . राज्य सरकार ने सूबे में इस्पात और विद्युत संयंत्रों के लिए कई सौ कंपनियों के साथ xxunk यानी साझा करार पर हस्ताक्षर किए हैं . इनमें ज़्यादातर इस्पात और xxunk संयंत्र राज्य के रायपुर , रायगढ़ , कोरबा और xxunk - xxunk जिले में या तो स्थापित किए जा चुके हैं या फिर प्रस्तावित हैं . जहाँ यह संयंत्र लगे हैं वहां भी ज़मीन के अधिग्रहण को लेकर काफ़ी विवाद चल रहा है . सरकार की पुनर्वास नीति के बावजूद ग्रामीण अधिग्रहण का विरोध कर रहे हैं . उनका कहना है कि खेतिहर ज़मीन पर उद्योग नहीं लगने चाहिए . सिंघीतेराई के xxunk जयसवाल का कहना , \" कंपनियों ने करार के बाहर जाते हुए आवश्यकता से अधिक ज़मीन का अधिग्रहण करना शुरू कर दिया है . मिसाल के तौर पर उन्होंने बताया कि एक 1400 मेगावाट की बिजली इकाई के लिए एक कंपनी ने सरकार के साथ करार किया . करार के तहत यह संयंत्र सिर्फ दो जगहों की ज़मीन पर खोला जाना था . यह इलाके हैं xxunk के xxunk और xxunk . मगर कंपनी ने xxunk xxunk रिपोर्ट के बाहर जाते हुए xxunk , xxunk , xxunk और xxunk में भी ज़मीन का अधिग्रहण किया है . यह इकाई xxunk करोड़ रूपए की लागत से बनाई जा रही है . xxunk ज़मीन पर बने xxunk बताते हैं कि कंपनी ने जो करार सरकार के साथ किया था वह मात्र 1200 मेगावाट की इकाई के लिए था . इस इकाई की वजह से xxunk परिवार प्रभावित हो रहे हैं . जायसवाल कहते हैं , “ कुछ लोगों ने पैसा लिया और उनकी ज़मीन का अधिग्रहण हुआ . मगर कुछ गाँव वालों ने इसको लेकर अदालत का दरवाज़ा भी खटखटाया है . हमें सुरक्षा चाहिए . जो लोग ज़मीन नहीं देना चाहते हैं उन्हें आतंकित किया जा रहा है . \" वहीं इलाके के जाने माने समाज xxunk एपी जोशी का कहना है कि शुरू में पैसों के लालच में कुछ ग्रामीणों ने अपनी ज़मीन बेची मगर बाद में जब उनके पैसे ख़त्म हुए तो उनकी आँखें खुली . बीबीसी से बात करते हुए वह कहते हैं : \" पैसे आते ही इन ग्रामीणों ने महंगी कार खरीदी . मगर यह कुछ ही दिनों तक रहा . पैसे तो पेट्रोल की तरह उड़ गए . अब इनकी आँख खुली . xxunk और उनके साथ इस इलाके के सैकड़ों ग्रामीण जो सिंघीतेराई की चौपाल में जमा थे कहते हैं की खेतिहर ज़मीन उनकी जीविका का एक मात्र सहारा है . कई पीढ़ियों से यह लोग इसी पर निर्भर हैं . गाँव के सरपंच का कहना है कि सरकार को चाहिए कि xxunk ज़मीनों को ही सिर्फ़ उद्योगों को दे ना की खेतिहर ज़मीन . यही वजह है कि अब यह लोग सामूहिक रूप से ज़मीन अधिग्रहण का विरोध कर रहे हैं . जयसवाल कहते xxunk पैसे नहीं चाहिए . पैसे किसी के पास नहीं xxunk . ज़मीन हमारी सुरक्षा है . ज़मीन हमारा सहारा है . उद्योग xxunk मगर खेती वाली ज़मीन पर नहीं . \",xxbos हालांकि उनके अंगरक्षकों को बमों को जाम करने वाली तकनीक मुहैया करवाई गई है जिससे इलेक्ट्रॉनिक xxunk को ब्लॉक किया जा सकता है . स्थानीय मीडिया की ख़बरों में यह कहा गया है . सिसली प्रांत की राजधानी xxunk में चल रहे एक मुकदमे के मुख्य जज xxunk दि मैट्टेओ ने यह प्रस्ताव इसलिए ठुकरा दिया क्योंकि वह नहीं चाहते थे कि वह शहर में एक सैन्य वाहन को चलाते हुए दिखें . xxunk xxunk xxunk अख़बार को उन्होने कहा , \" बिल्कुल नहीं , xxunk के रिहाइशी इलाक़ों में मैं एक बख़्तरबंद वाहन में नहीं घूम सकता . कृपया मुझसे ऐसा करने के लिए पूछें भी न . \"जिस गाड़ी की बात की जा रही है वह xxunk सामरिक वाहन है जिसे इटली की कंपनी xxunk बनाती है . इससे प्रेरित xxunk नाम के वाहन को ब्रितानी सशस्त्र बल इस्तेमाल करते हैं . इस दौरान कथित रूप से दि मैट्टेओ के अंगरक्षकों ने मोबाइल बम को जाम करने वाले उपकरण ले लिए हैं . ला xxunk न्यूज़ वेबसाइट के अनुसार यह xxunk रिमोट से विस्फ़ोटक को xxunk करने से रोक सकते हैं . दरअसल प्रशासन इस मामले को बेहद गंभीरता से ले रहा है . जेल में बंद \" सरदारों का सरदार \" कहे जाने वाले xxunk \" xxunk \" xxunk के अपने साथी कैदियों से सुनवाई के बारे में बातचीत की गुप्त रिकॉर्डिंग से दि मैट्टेओ को जान के ख़तरे के बारे में पता लगा . इस सुनवाई में माफ़िया सरदारों और इटली के उच्च सरकारी अधिकारियों के बीच 1990 की शुरुआत में जानलेवा बम हमलों के सिलसिले को रोकने के लिए किए गए एक गुप्त समझौते के दावों की जांच की जा रही है . गृहमंत्री xxunk xxunk ने \" उन लोगों को बचाने के लिए जो हमें माफ़िया से बचाते हैं \" , हर कदम उठाने का वायदा किया है . एक xxunk ( xxunk ) को यह कहते हुए उद्धृत किया गया है कि \" एक सफ़ल हमला इटली को 20 साल पहले पहुंचा सकता है . \"(बीबीसी हिन्दी के एंड्रॉएड ऐप के लिए \n",
       " \n",
       " \n",
       " \n",
       "  यहां क्लिक करें . आप हमें \n",
       " \n",
       " \n",
       " \n",
       "  फ़ेसबुक और \n",
       " \n",
       " \n",
       " \n",
       "  ट्विटर पर भी फ़ॉलो कर सकते हैं . ),xxbos आयोग का कहना है कि इस तरह के परीक्षण से महिलाओं को मानसिक परेशानी पहुंचती हैं . आयोग ने इसे यौन हिंसा की श्रेणी में रखा है . वर्जिनिटी टेस्ट के दौरान यह जांचा जाता है कि महिलाओं का xxunk बरकरार है या नहीं . मानवाधिकार संगठनों का कहना है कि अफ़ग़ानिस्तान में पुलिस अक्सर उन महिलाओं को वर्जिनिटी टेस्ट के लिए भेजती है , जो अपने साथी के साथ चली जाती हैं . कार्यकर्ताओं का कहना है कि इस परीक्षण से गुजरने वाली महिलाओं को सामाजिक कलंक समझा जाता है . इस महिला के वीडियो पर हंगामा है क्यों xxunk आयोग की इस मांग पर पुलिस ने किसी भी तरह की प्रतिक्रिया देने से इनकार किया है . अफ़ग़ानिस्तान में वर्जिनिटी टेस्ट से उन सभी महिलाओं को गुजरना होता है जो किसी भी तरह के अनैतिक बर्ताव के आरोप में गिरफ्तार की जाती हैं . आयोग का तर्क है कि वर्जिनिटी टेस्ट महिलाओं की मर्जी के ख़िलाफ़ किया जाता है , इसलिए यह किसी यौन शोषण से कम नहीं है . आयोग इसे मानवाधिकार हनन के रूप में भी देखता है . आयोग ने यह भी कहा है कि चिकित्सकीय दृष्टिकोण से xxunk का बरकरार रहना महिलाओं के कौमार्य होने का सबूत नहीं हो सकता . यह विभिन्न कारणों से नष्ट हो सकता है . अफ़ग़ानिस्तान में ' सुनती हो ' के ख़िलाफ़ फूटा xxunk ने एक सर्वे में इस तरह के परीक्षण से गुजरने वाली महिलाओं से बात की , जिसमें उन्होंने इसे अपमानित करने वाली प्रक्रिया बताया . महिलाओं ने इस क़ानून को मानसिक प्रताड़ना देने वाला बताया है . आयोग ने इस परीक्षण को अंतरराष्ट्रीय नीति के ख़िलाफ़ भी बताया है . संस्थान का कहना है कि वर्जिनिटी टेस्ट अक्सर पुरुष सुरक्षाकर्मी की मौजूदगी में किया जाता है.(बीबीसी हिन्दी के एंड्रॉएड ऐप के लिए आप यहां क्लिक कर सकते हैं . आप हमें फ़ेसबुक और ट्विटर पर फ़ॉलो भी कर सकते हैं . )\n",
       "y: CategoryList\n",
       "india,india,india,international,india\n",
       "Path: /home/jupyter/.fastai/data/hiwiki;\n",
       "\n",
       "Valid: LabelList (0 items)\n",
       "x: TextList\n",
       "\n",
       "y: CategoryList\n",
       "\n",
       "Path: /home/jupyter/.fastai/data/hiwiki;\n",
       "\n",
       "Test: None"
      ]
     },
     "execution_count": 60,
     "metadata": {},
     "output_type": "execute_result"
    }
   ],
   "source": [
    "data_valid"
   ]
  },
  {
   "cell_type": "code",
   "execution_count": 61,
   "metadata": {},
   "outputs": [
    {
     "data": {
      "text/html": [
       "<div>\n",
       "<style scoped>\n",
       "    .dataframe tbody tr th:only-of-type {\n",
       "        vertical-align: middle;\n",
       "    }\n",
       "\n",
       "    .dataframe tbody tr th {\n",
       "        vertical-align: top;\n",
       "    }\n",
       "\n",
       "    .dataframe thead th {\n",
       "        text-align: right;\n",
       "    }\n",
       "</style>\n",
       "<table border=\"1\" class=\"dataframe\">\n",
       "  <thead>\n",
       "    <tr style=\"text-align: right;\">\n",
       "      <th></th>\n",
       "      <th>query</th>\n",
       "      <th>actual_label</th>\n",
       "      <th>predicted_label</th>\n",
       "      <th>india</th>\n",
       "      <th>international</th>\n",
       "      <th>business</th>\n",
       "      <th>entertainment</th>\n",
       "      <th>news</th>\n",
       "      <th>pakistan</th>\n",
       "      <th>sport</th>\n",
       "      <th>china</th>\n",
       "      <th>learningenglish</th>\n",
       "      <th>southasia</th>\n",
       "      <th>social</th>\n",
       "      <th>multimedia</th>\n",
       "      <th>institutional</th>\n",
       "      <th>science</th>\n",
       "    </tr>\n",
       "  </thead>\n",
       "  <tbody>\n",
       "    <tr>\n",
       "      <th>0</th>\n",
       "      <td>बुधवार को राज्य सभा में विपक्ष के सवालों के जव...</td>\n",
       "      <td>india</td>\n",
       "      <td>india</td>\n",
       "      <td>0.99837</td>\n",
       "      <td>0.000105902</td>\n",
       "      <td>0.000898691</td>\n",
       "      <td>1.32681e-05</td>\n",
       "      <td>0.000352362</td>\n",
       "      <td>1.24156e-05</td>\n",
       "      <td>0.000142646</td>\n",
       "      <td>1.69676e-06</td>\n",
       "      <td>2.2648e-08</td>\n",
       "      <td>8.80532e-05</td>\n",
       "      <td>5.61723e-07</td>\n",
       "      <td>1.16179e-05</td>\n",
       "      <td>1.0053e-06</td>\n",
       "      <td>1.78515e-06</td>\n",
       "    </tr>\n",
       "    <tr>\n",
       "      <th>1</th>\n",
       "      <td>लखनऊ स्थित पत्रकार समीरात्मज मिश्र को बुलंदशहर...</td>\n",
       "      <td>india</td>\n",
       "      <td>india</td>\n",
       "      <td>0.999609</td>\n",
       "      <td>9.95603e-05</td>\n",
       "      <td>1.72562e-06</td>\n",
       "      <td>1.24778e-06</td>\n",
       "      <td>1.65007e-05</td>\n",
       "      <td>1.79436e-06</td>\n",
       "      <td>0.000261029</td>\n",
       "      <td>3.25504e-07</td>\n",
       "      <td>1.8079e-08</td>\n",
       "      <td>2.4526e-06</td>\n",
       "      <td>2.64633e-07</td>\n",
       "      <td>5.35698e-06</td>\n",
       "      <td>2.97535e-07</td>\n",
       "      <td>9.23659e-07</td>\n",
       "    </tr>\n",
       "    <tr>\n",
       "      <th>2</th>\n",
       "      <td>लगभग 1300 हेक्टेयर ज़मीन का अधिग्रहण किया जा च...</td>\n",
       "      <td>india</td>\n",
       "      <td>india</td>\n",
       "      <td>0.998489</td>\n",
       "      <td>0.000125899</td>\n",
       "      <td>5.74076e-06</td>\n",
       "      <td>0.000591447</td>\n",
       "      <td>0.00049142</td>\n",
       "      <td>2.80877e-06</td>\n",
       "      <td>5.12592e-06</td>\n",
       "      <td>1.60039e-06</td>\n",
       "      <td>1.72318e-08</td>\n",
       "      <td>1.93073e-05</td>\n",
       "      <td>5.42383e-07</td>\n",
       "      <td>0.000259593</td>\n",
       "      <td>1.71028e-06</td>\n",
       "      <td>5.67388e-06</td>\n",
       "    </tr>\n",
       "    <tr>\n",
       "      <th>3</th>\n",
       "      <td>हालांकि उनके अंगरक्षकों को बमों को जाम करने वा...</td>\n",
       "      <td>international</td>\n",
       "      <td>international</td>\n",
       "      <td>0.000194536</td>\n",
       "      <td>0.999052</td>\n",
       "      <td>1.77967e-05</td>\n",
       "      <td>9.84898e-05</td>\n",
       "      <td>0.000104535</td>\n",
       "      <td>7.7294e-06</td>\n",
       "      <td>5.4925e-05</td>\n",
       "      <td>1.87943e-06</td>\n",
       "      <td>1.31205e-06</td>\n",
       "      <td>3.55316e-05</td>\n",
       "      <td>3.26007e-06</td>\n",
       "      <td>0.000300275</td>\n",
       "      <td>4.02626e-05</td>\n",
       "      <td>8.70869e-05</td>\n",
       "    </tr>\n",
       "    <tr>\n",
       "      <th>4</th>\n",
       "      <td>आयोग का कहना है कि इस तरह के परीक्षण से महिलाओ...</td>\n",
       "      <td>india</td>\n",
       "      <td>india</td>\n",
       "      <td>0.782914</td>\n",
       "      <td>0.148549</td>\n",
       "      <td>0.00140876</td>\n",
       "      <td>0.0106771</td>\n",
       "      <td>0.0107084</td>\n",
       "      <td>0.00477509</td>\n",
       "      <td>0.0064068</td>\n",
       "      <td>0.00356244</td>\n",
       "      <td>8.02568e-05</td>\n",
       "      <td>0.0213587</td>\n",
       "      <td>0.0012408</td>\n",
       "      <td>0.00648865</td>\n",
       "      <td>0.00087472</td>\n",
       "      <td>0.000955079</td>\n",
       "    </tr>\n",
       "  </tbody>\n",
       "</table>\n",
       "</div>"
      ],
      "text/plain": [
       "                                               query   actual_label  \\\n",
       "0  बुधवार को राज्य सभा में विपक्ष के सवालों के जव...          india   \n",
       "1  लखनऊ स्थित पत्रकार समीरात्मज मिश्र को बुलंदशहर...          india   \n",
       "2  लगभग 1300 हेक्टेयर ज़मीन का अधिग्रहण किया जा च...          india   \n",
       "3  हालांकि उनके अंगरक्षकों को बमों को जाम करने वा...  international   \n",
       "4  आयोग का कहना है कि इस तरह के परीक्षण से महिलाओ...          india   \n",
       "\n",
       "  predicted_label        india international     business entertainment  \\\n",
       "0           india      0.99837   0.000105902  0.000898691   1.32681e-05   \n",
       "1           india     0.999609   9.95603e-05  1.72562e-06   1.24778e-06   \n",
       "2           india     0.998489   0.000125899  5.74076e-06   0.000591447   \n",
       "3   international  0.000194536      0.999052  1.77967e-05   9.84898e-05   \n",
       "4           india     0.782914      0.148549   0.00140876     0.0106771   \n",
       "\n",
       "          news     pakistan        sport        china learningenglish  \\\n",
       "0  0.000352362  1.24156e-05  0.000142646  1.69676e-06      2.2648e-08   \n",
       "1  1.65007e-05  1.79436e-06  0.000261029  3.25504e-07      1.8079e-08   \n",
       "2   0.00049142  2.80877e-06  5.12592e-06  1.60039e-06     1.72318e-08   \n",
       "3  0.000104535   7.7294e-06   5.4925e-05  1.87943e-06     1.31205e-06   \n",
       "4    0.0107084   0.00477509    0.0064068   0.00356244     8.02568e-05   \n",
       "\n",
       "     southasia       social   multimedia institutional      science  \n",
       "0  8.80532e-05  5.61723e-07  1.16179e-05    1.0053e-06  1.78515e-06  \n",
       "1   2.4526e-06  2.64633e-07  5.35698e-06   2.97535e-07  9.23659e-07  \n",
       "2  1.93073e-05  5.42383e-07  0.000259593   1.71028e-06  5.67388e-06  \n",
       "3  3.55316e-05  3.26007e-06  0.000300275   4.02626e-05  8.70869e-05  \n",
       "4    0.0213587    0.0012408   0.00648865    0.00087472  0.000955079  "
      ]
     },
     "execution_count": 61,
     "metadata": {},
     "output_type": "execute_result"
    }
   ],
   "source": [
    "%%time\n",
    "from sklearn.metrics import accuracy_score, matthews_corrcoef\n",
    "df_dict = {'query': list(test_df[1]), 'actual_label': list(test_df[0]), 'predicted_label': ['']*test_df.shape[0]}\n",
    "all_nodes = list(set(train_df[0]))\n",
    "for node in all_nodes:\n",
    "    df_dict[node] = ['']*test_df.shape[0]\n",
    "    \n",
    "i2c = {}\n",
    "for key, value in learn_c.data.c2i.items():\n",
    "    i2c[value] = key\n",
    "    \n",
    "df_result = pd.DataFrame(df_dict)\n",
    "for index, row in df_result.iterrows():\n",
    "    pred = learn_c.predict(data_valid.train_ds[index])\n",
    "    for node in all_nodes:\n",
    "        row[node] = pred[2][learn_c.data.c2i[node]].item()\n",
    "    row['predicted_label'] = i2c[pred[0].data.item()]\n",
    "df_result.head()"
   ]
  },
  {
   "cell_type": "code",
   "execution_count": 64,
   "metadata": {},
   "outputs": [
    {
     "name": "stdout",
     "output_type": "stream",
     "text": [
      "<class 'pandas.core.frame.DataFrame'>\n",
      "RangeIndex: 866 entries, 0 to 865\n",
      "Data columns (total 17 columns):\n",
      "query              866 non-null object\n",
      "actual_label       866 non-null object\n",
      "predicted_label    866 non-null object\n",
      "india              866 non-null object\n",
      "international      866 non-null object\n",
      "business           866 non-null object\n",
      "entertainment      866 non-null object\n",
      "news               866 non-null object\n",
      "pakistan           866 non-null object\n",
      "sport              866 non-null object\n",
      "china              866 non-null object\n",
      "learningenglish    866 non-null object\n",
      "southasia          866 non-null object\n",
      "social             866 non-null object\n",
      "multimedia         866 non-null object\n",
      "institutional      866 non-null object\n",
      "science            866 non-null object\n",
      "dtypes: object(17)\n",
      "memory usage: 115.1+ KB\n"
     ]
    }
   ],
   "source": [
    "df_result.info()"
   ]
  },
  {
   "cell_type": "code",
   "execution_count": 62,
   "metadata": {},
   "outputs": [
    {
     "data": {
      "text/plain": [
       "0.7979214780600462"
      ]
     },
     "execution_count": 62,
     "metadata": {},
     "output_type": "execute_result"
    }
   ],
   "source": [
    "accuracy_score(df_result['actual_label'], df_result['predicted_label'])"
   ]
  },
  {
   "cell_type": "code",
   "execution_count": 63,
   "metadata": {},
   "outputs": [
    {
     "data": {
      "text/plain": [
       "0.7258121928549706"
      ]
     },
     "execution_count": 63,
     "metadata": {},
     "output_type": "execute_result"
    }
   ],
   "source": [
    "matthews_corrcoef(df_result['actual_label'], df_result['predicted_label'])"
   ]
  },
  {
   "cell_type": "code",
   "execution_count": 69,
   "metadata": {},
   "outputs": [
    {
     "data": {
      "text/plain": [
       "0.7979214780600463"
      ]
     },
     "execution_count": 69,
     "metadata": {},
     "output_type": "execute_result"
    }
   ],
   "source": [
    "f1_score(df_result['actual_label'], df_result['predicted_label'], average='micro')"
   ]
  },
  {
   "cell_type": "markdown",
   "metadata": {},
   "source": [
    "## IIT-P Product Reviews"
   ]
  },
  {
   "cell_type": "code",
   "execution_count": 104,
   "metadata": {},
   "outputs": [
    {
     "data": {
      "text/html": [
       "<div>\n",
       "<style scoped>\n",
       "    .dataframe tbody tr th:only-of-type {\n",
       "        vertical-align: middle;\n",
       "    }\n",
       "\n",
       "    .dataframe tbody tr th {\n",
       "        vertical-align: top;\n",
       "    }\n",
       "\n",
       "    .dataframe thead th {\n",
       "        text-align: right;\n",
       "    }\n",
       "</style>\n",
       "<table border=\"1\" class=\"dataframe\">\n",
       "  <thead>\n",
       "    <tr style=\"text-align: right;\">\n",
       "      <th></th>\n",
       "      <th>0</th>\n",
       "      <th>1</th>\n",
       "    </tr>\n",
       "  </thead>\n",
       "  <tbody>\n",
       "    <tr>\n",
       "      <th>0</th>\n",
       "      <td>negative</td>\n",
       "      <td>एंडराॅयड के मामले में यह थोड़ा पीछे है ।</td>\n",
       "    </tr>\n",
       "    <tr>\n",
       "      <th>1</th>\n",
       "      <td>neutral</td>\n",
       "      <td>यह एस्पेक्ट रेशो का ईश्यू है और हम आशा करते है...</td>\n",
       "    </tr>\n",
       "    <tr>\n",
       "      <th>2</th>\n",
       "      <td>positive</td>\n",
       "      <td>लेकिन इस तरह के एक मॉडल के एक घर कंप्यूटर के ल...</td>\n",
       "    </tr>\n",
       "    <tr>\n",
       "      <th>3</th>\n",
       "      <td>positive</td>\n",
       "      <td>गिर वन राष्ट्रीय उद्यान बाघ संरक्षित क्षेत्र ह...</td>\n",
       "    </tr>\n",
       "    <tr>\n",
       "      <th>4</th>\n",
       "      <td>neutral</td>\n",
       "      <td>और हां , इस फिल्म में हर किरदार भारद्वाज को भर...</td>\n",
       "    </tr>\n",
       "  </tbody>\n",
       "</table>\n",
       "</div>"
      ],
      "text/plain": [
       "          0                                                  1\n",
       "0  negative           एंडराॅयड के मामले में यह थोड़ा पीछे है ।\n",
       "1   neutral  यह एस्पेक्ट रेशो का ईश्यू है और हम आशा करते है...\n",
       "2  positive  लेकिन इस तरह के एक मॉडल के एक घर कंप्यूटर के ल...\n",
       "3  positive  गिर वन राष्ट्रीय उद्यान बाघ संरक्षित क्षेत्र ह...\n",
       "4   neutral  और हां , इस फिल्म में हर किरदार भारद्वाज को भर..."
      ]
     },
     "execution_count": 104,
     "metadata": {},
     "output_type": "execute_result"
    }
   ],
   "source": [
    "train_df = pd.read_csv('data/iitp-product-reviews/hi-train.csv', header=None)\n",
    "train_df.head()"
   ]
  },
  {
   "cell_type": "code",
   "execution_count": 105,
   "metadata": {},
   "outputs": [
    {
     "data": {
      "text/html": [
       "<div>\n",
       "<style scoped>\n",
       "    .dataframe tbody tr th:only-of-type {\n",
       "        vertical-align: middle;\n",
       "    }\n",
       "\n",
       "    .dataframe tbody tr th {\n",
       "        vertical-align: top;\n",
       "    }\n",
       "\n",
       "    .dataframe thead th {\n",
       "        text-align: right;\n",
       "    }\n",
       "</style>\n",
       "<table border=\"1\" class=\"dataframe\">\n",
       "  <thead>\n",
       "    <tr style=\"text-align: right;\">\n",
       "      <th></th>\n",
       "      <th>0</th>\n",
       "      <th>1</th>\n",
       "    </tr>\n",
       "  </thead>\n",
       "  <tbody>\n",
       "    <tr>\n",
       "      <th>0</th>\n",
       "      <td>positive</td>\n",
       "      <td>एक ऐसा भी जानवर है , जिसे आप पसंद तो करते होंग...</td>\n",
       "    </tr>\n",
       "    <tr>\n",
       "      <th>1</th>\n",
       "      <td>neutral</td>\n",
       "      <td>इतना नहीं बल्कि यहां पर कंपनी अपना पहला फाइव स...</td>\n",
       "    </tr>\n",
       "    <tr>\n",
       "      <th>2</th>\n",
       "      <td>neutral</td>\n",
       "      <td>डिजिफलीप प्रो XT811 , 1200 x 800 P और 8 इंच डि...</td>\n",
       "    </tr>\n",
       "    <tr>\n",
       "      <th>3</th>\n",
       "      <td>positive</td>\n",
       "      <td>निकोन डी810 कैमरे की सबसे खास बात ये है कि इसम...</td>\n",
       "    </tr>\n",
       "    <tr>\n",
       "      <th>4</th>\n",
       "      <td>positive</td>\n",
       "      <td>इसमें विंडोज 8 64-बिट ऑपरेटिंग सिस्टम है , लेक...</td>\n",
       "    </tr>\n",
       "  </tbody>\n",
       "</table>\n",
       "</div>"
      ],
      "text/plain": [
       "          0                                                  1\n",
       "0  positive  एक ऐसा भी जानवर है , जिसे आप पसंद तो करते होंग...\n",
       "1   neutral  इतना नहीं बल्कि यहां पर कंपनी अपना पहला फाइव स...\n",
       "2   neutral  डिजिफलीप प्रो XT811 , 1200 x 800 P और 8 इंच डि...\n",
       "3  positive  निकोन डी810 कैमरे की सबसे खास बात ये है कि इसम...\n",
       "4  positive  इसमें विंडोज 8 64-बिट ऑपरेटिंग सिस्टम है , लेक..."
      ]
     },
     "execution_count": 105,
     "metadata": {},
     "output_type": "execute_result"
    }
   ],
   "source": [
    "valid_df = pd.read_csv('data/iitp-product-reviews/hi-valid.csv', header=None)\n",
    "valid_df.head()"
   ]
  },
  {
   "cell_type": "code",
   "execution_count": 106,
   "metadata": {},
   "outputs": [
    {
     "data": {
      "text/html": [
       "<div>\n",
       "<style scoped>\n",
       "    .dataframe tbody tr th:only-of-type {\n",
       "        vertical-align: middle;\n",
       "    }\n",
       "\n",
       "    .dataframe tbody tr th {\n",
       "        vertical-align: top;\n",
       "    }\n",
       "\n",
       "    .dataframe thead th {\n",
       "        text-align: right;\n",
       "    }\n",
       "</style>\n",
       "<table border=\"1\" class=\"dataframe\">\n",
       "  <thead>\n",
       "    <tr style=\"text-align: right;\">\n",
       "      <th></th>\n",
       "      <th>0</th>\n",
       "      <th>1</th>\n",
       "    </tr>\n",
       "  </thead>\n",
       "  <tbody>\n",
       "    <tr>\n",
       "      <th>0</th>\n",
       "      <td>neutral</td>\n",
       "      <td>मगर , इस तरफ कोई ध्यान नहीं दिया जा रहा ।</td>\n",
       "    </tr>\n",
       "    <tr>\n",
       "      <th>1</th>\n",
       "      <td>negative</td>\n",
       "      <td>गेम कई बार मुश्किल मालूम देता है ।</td>\n",
       "    </tr>\n",
       "    <tr>\n",
       "      <th>2</th>\n",
       "      <td>negative</td>\n",
       "      <td>मल्टीप्लेयर में छोटी स्टोरीलाइन है ।</td>\n",
       "    </tr>\n",
       "    <tr>\n",
       "      <th>3</th>\n",
       "      <td>positive</td>\n",
       "      <td>हाई - एंड एचपी नोटबुक्स की लुक्स हमेशा बेहतरीन...</td>\n",
       "    </tr>\n",
       "    <tr>\n",
       "      <th>4</th>\n",
       "      <td>positive</td>\n",
       "      <td>कैमरे बनाने वाली कंपनी निकोन अपनी 1 सीरीज कैमर...</td>\n",
       "    </tr>\n",
       "  </tbody>\n",
       "</table>\n",
       "</div>"
      ],
      "text/plain": [
       "          0                                                  1\n",
       "0   neutral          मगर , इस तरफ कोई ध्यान नहीं दिया जा रहा ।\n",
       "1  negative                 गेम कई बार मुश्किल मालूम देता है ।\n",
       "2  negative               मल्टीप्लेयर में छोटी स्टोरीलाइन है ।\n",
       "3  positive  हाई - एंड एचपी नोटबुक्स की लुक्स हमेशा बेहतरीन...\n",
       "4  positive  कैमरे बनाने वाली कंपनी निकोन अपनी 1 सीरीज कैमर..."
      ]
     },
     "execution_count": 106,
     "metadata": {},
     "output_type": "execute_result"
    }
   ],
   "source": [
    "test_df = pd.read_csv('data/iitp-product-reviews/hi-test.csv', header=None)\n",
    "test_df.head()"
   ]
  },
  {
   "cell_type": "code",
   "execution_count": 107,
   "metadata": {},
   "outputs": [],
   "source": [
    "df = pd.concat([train_df,test_df, valid_df], sort=False)"
   ]
  },
  {
   "cell_type": "code",
   "execution_count": 108,
   "metadata": {},
   "outputs": [
    {
     "data": {
      "text/html": [],
      "text/plain": [
       "<IPython.core.display.HTML object>"
      ]
     },
     "metadata": {},
     "output_type": "display_data"
    },
    {
     "data": {
      "text/html": [],
      "text/plain": [
       "<IPython.core.display.HTML object>"
      ]
     },
     "metadata": {},
     "output_type": "display_data"
    }
   ],
   "source": [
    "data_lm = (TextList.from_df(df, path, cols=1)\n",
    "    .split_by_rand_pct(0.1, seed=42)\n",
    "    .label_for_lm()           \n",
    "    .databunch(bs=bs, num_workers=1))"
   ]
  },
  {
   "cell_type": "code",
   "execution_count": 109,
   "metadata": {},
   "outputs": [],
   "source": [
    "learn_lm = language_model_learner(data_lm, AWD_LSTM, pretrained_fnames=lm_fns, drop_mult=1.0)"
   ]
  },
  {
   "cell_type": "code",
   "execution_count": 110,
   "metadata": {},
   "outputs": [],
   "source": [
    "lr = 1e-3\n",
    "lr *= bs/48"
   ]
  },
  {
   "cell_type": "code",
   "execution_count": 111,
   "metadata": {},
   "outputs": [
    {
     "data": {
      "text/html": [
       "<table border=\"1\" class=\"dataframe\">\n",
       "  <thead>\n",
       "    <tr style=\"text-align: left;\">\n",
       "      <th>epoch</th>\n",
       "      <th>train_loss</th>\n",
       "      <th>valid_loss</th>\n",
       "      <th>accuracy</th>\n",
       "      <th>time</th>\n",
       "    </tr>\n",
       "  </thead>\n",
       "  <tbody>\n",
       "    <tr>\n",
       "      <td>0</td>\n",
       "      <td>5.091315</td>\n",
       "      <td>4.147563</td>\n",
       "      <td>0.277734</td>\n",
       "      <td>00:02</td>\n",
       "    </tr>\n",
       "    <tr>\n",
       "      <td>1</td>\n",
       "      <td>4.614954</td>\n",
       "      <td>3.878611</td>\n",
       "      <td>0.322935</td>\n",
       "      <td>00:02</td>\n",
       "    </tr>\n",
       "  </tbody>\n",
       "</table>"
      ],
      "text/plain": [
       "<IPython.core.display.HTML object>"
      ]
     },
     "metadata": {},
     "output_type": "display_data"
    }
   ],
   "source": [
    "# finetuning the language model\n",
    "learn_lm.fit_one_cycle(2, lr*10, moms=(0.8,0.7))"
   ]
  },
  {
   "cell_type": "code",
   "execution_count": 112,
   "metadata": {},
   "outputs": [
    {
     "data": {
      "text/html": [
       "<table border=\"1\" class=\"dataframe\">\n",
       "  <thead>\n",
       "    <tr style=\"text-align: left;\">\n",
       "      <th>epoch</th>\n",
       "      <th>train_loss</th>\n",
       "      <th>valid_loss</th>\n",
       "      <th>accuracy</th>\n",
       "      <th>time</th>\n",
       "    </tr>\n",
       "  </thead>\n",
       "  <tbody>\n",
       "    <tr>\n",
       "      <td>0</td>\n",
       "      <td>4.077450</td>\n",
       "      <td>3.800886</td>\n",
       "      <td>0.329241</td>\n",
       "      <td>00:02</td>\n",
       "    </tr>\n",
       "    <tr>\n",
       "      <td>1</td>\n",
       "      <td>4.020785</td>\n",
       "      <td>3.710403</td>\n",
       "      <td>0.337556</td>\n",
       "      <td>00:02</td>\n",
       "    </tr>\n",
       "    <tr>\n",
       "      <td>2</td>\n",
       "      <td>3.948716</td>\n",
       "      <td>3.658453</td>\n",
       "      <td>0.339955</td>\n",
       "      <td>00:02</td>\n",
       "    </tr>\n",
       "    <tr>\n",
       "      <td>3</td>\n",
       "      <td>3.882256</td>\n",
       "      <td>3.621788</td>\n",
       "      <td>0.340960</td>\n",
       "      <td>00:02</td>\n",
       "    </tr>\n",
       "    <tr>\n",
       "      <td>4</td>\n",
       "      <td>3.826952</td>\n",
       "      <td>3.599216</td>\n",
       "      <td>0.343304</td>\n",
       "      <td>00:02</td>\n",
       "    </tr>\n",
       "    <tr>\n",
       "      <td>5</td>\n",
       "      <td>3.780982</td>\n",
       "      <td>3.584149</td>\n",
       "      <td>0.344754</td>\n",
       "      <td>00:02</td>\n",
       "    </tr>\n",
       "    <tr>\n",
       "      <td>6</td>\n",
       "      <td>3.745140</td>\n",
       "      <td>3.581907</td>\n",
       "      <td>0.344531</td>\n",
       "      <td>00:02</td>\n",
       "    </tr>\n",
       "    <tr>\n",
       "      <td>7</td>\n",
       "      <td>3.711502</td>\n",
       "      <td>3.582035</td>\n",
       "      <td>0.344029</td>\n",
       "      <td>00:02</td>\n",
       "    </tr>\n",
       "  </tbody>\n",
       "</table>"
      ],
      "text/plain": [
       "<IPython.core.display.HTML object>"
      ]
     },
     "metadata": {},
     "output_type": "display_data"
    }
   ],
   "source": [
    "learn_lm.unfreeze()\n",
    "learn_lm.fit_one_cycle(8, lr, moms=(0.8,0.7))"
   ]
  },
  {
   "cell_type": "code",
   "execution_count": 113,
   "metadata": {},
   "outputs": [],
   "source": [
    "learn_lm.save(f'{lang}fine_tuned_product_reviews')\n",
    "learn_lm.save_encoder(f'{lang}fine_tuned_enc_product_reviews')"
   ]
  },
  {
   "cell_type": "code",
   "execution_count": 114,
   "metadata": {},
   "outputs": [
    {
     "data": {
      "text/plain": [
       "100"
      ]
     },
     "execution_count": 114,
     "metadata": {},
     "output_type": "execute_result"
    }
   ],
   "source": [
    "learn_lm = None\n",
    "learn = None\n",
    "gc.collect()"
   ]
  },
  {
   "cell_type": "markdown",
   "metadata": {},
   "source": [
    "### Classifier"
   ]
  },
  {
   "cell_type": "code",
   "execution_count": 115,
   "metadata": {},
   "outputs": [],
   "source": [
    "product_reviews = pd.concat([train_df,valid_df], sort=False)"
   ]
  },
  {
   "cell_type": "code",
   "execution_count": 116,
   "metadata": {},
   "outputs": [
    {
     "data": {
      "text/html": [],
      "text/plain": [
       "<IPython.core.display.HTML object>"
      ]
     },
     "metadata": {},
     "output_type": "display_data"
    },
    {
     "data": {
      "text/html": [],
      "text/plain": [
       "<IPython.core.display.HTML object>"
      ]
     },
     "metadata": {},
     "output_type": "display_data"
    }
   ],
   "source": [
    "data_clas = (TextList.from_df(product_reviews, path, vocab=data_lm.vocab, cols=1)\n",
    "    .split_by_rand_pct(0.1, seed=42)\n",
    "    .label_from_df(cols=0)\n",
    "    .databunch(bs=bs, num_workers=1))\n",
    "\n",
    "data_clas.save(f'{lang}_textlist_class_product_reviews')"
   ]
  },
  {
   "cell_type": "code",
   "execution_count": 117,
   "metadata": {},
   "outputs": [],
   "source": [
    "data_clas = load_data(path, f'{lang}_textlist_class_product_reviews', bs=bs, num_workers=1)"
   ]
  },
  {
   "cell_type": "code",
   "execution_count": 118,
   "metadata": {},
   "outputs": [
    {
     "data": {
      "text/plain": [
       "(['negative', 'neutral', 'positive'], 3)"
      ]
     },
     "execution_count": 118,
     "metadata": {},
     "output_type": "execute_result"
    }
   ],
   "source": [
    "data_clas.classes, data_clas.c"
   ]
  },
  {
   "cell_type": "code",
   "execution_count": 119,
   "metadata": {},
   "outputs": [],
   "source": [
    "from sklearn.metrics import f1_score\n",
    "\n",
    "@np_func\n",
    "def f1(inp,targ): return f1_score(targ, np.argmax(inp, axis=-1), average='micro')\n",
    "\n",
    "mcc = MatthewsCorreff()"
   ]
  },
  {
   "cell_type": "code",
   "execution_count": 120,
   "metadata": {},
   "outputs": [],
   "source": [
    "learn_c = text_classifier_learner(data_clas, AWD_LSTM, drop_mult=0.5, metrics=[accuracy,f1, mcc]).to_fp16()\n",
    "learn_c.load_encoder(f'{lang}fine_tuned_enc_product_reviews')\n",
    "learn_c.freeze()"
   ]
  },
  {
   "cell_type": "code",
   "execution_count": 121,
   "metadata": {},
   "outputs": [],
   "source": [
    "lr=2e-2\n",
    "lr *= bs/48"
   ]
  },
  {
   "cell_type": "code",
   "execution_count": 122,
   "metadata": {},
   "outputs": [
    {
     "data": {
      "text/html": [
       "<table border=\"1\" class=\"dataframe\">\n",
       "  <thead>\n",
       "    <tr style=\"text-align: left;\">\n",
       "      <th>epoch</th>\n",
       "      <th>train_loss</th>\n",
       "      <th>valid_loss</th>\n",
       "      <th>accuracy</th>\n",
       "      <th>f1</th>\n",
       "      <th>matthews_correff</th>\n",
       "      <th>time</th>\n",
       "    </tr>\n",
       "  </thead>\n",
       "  <tbody>\n",
       "    <tr>\n",
       "      <td>0</td>\n",
       "      <td>0.867476</td>\n",
       "      <td>0.850812</td>\n",
       "      <td>0.551064</td>\n",
       "      <td>0.551064</td>\n",
       "      <td>0.217420</td>\n",
       "      <td>00:01</td>\n",
       "    </tr>\n",
       "    <tr>\n",
       "      <td>1</td>\n",
       "      <td>0.785490</td>\n",
       "      <td>0.722760</td>\n",
       "      <td>0.672340</td>\n",
       "      <td>0.672340</td>\n",
       "      <td>0.444385</td>\n",
       "      <td>00:01</td>\n",
       "    </tr>\n",
       "  </tbody>\n",
       "</table>"
      ],
      "text/plain": [
       "<IPython.core.display.HTML object>"
      ]
     },
     "metadata": {},
     "output_type": "display_data"
    }
   ],
   "source": [
    "learn_c.fit_one_cycle(2, lr, moms=(0.8,0.7))"
   ]
  },
  {
   "cell_type": "code",
   "execution_count": 123,
   "metadata": {},
   "outputs": [
    {
     "data": {
      "text/html": [
       "<table border=\"1\" class=\"dataframe\">\n",
       "  <thead>\n",
       "    <tr style=\"text-align: left;\">\n",
       "      <th>epoch</th>\n",
       "      <th>train_loss</th>\n",
       "      <th>valid_loss</th>\n",
       "      <th>accuracy</th>\n",
       "      <th>f1</th>\n",
       "      <th>matthews_correff</th>\n",
       "      <th>time</th>\n",
       "    </tr>\n",
       "  </thead>\n",
       "  <tbody>\n",
       "    <tr>\n",
       "      <td>0</td>\n",
       "      <td>0.771300</td>\n",
       "      <td>0.732296</td>\n",
       "      <td>0.668085</td>\n",
       "      <td>0.668085</td>\n",
       "      <td>0.432283</td>\n",
       "      <td>00:01</td>\n",
       "    </tr>\n",
       "    <tr>\n",
       "      <td>1</td>\n",
       "      <td>0.732997</td>\n",
       "      <td>0.685178</td>\n",
       "      <td>0.676596</td>\n",
       "      <td>0.676596</td>\n",
       "      <td>0.448859</td>\n",
       "      <td>00:01</td>\n",
       "    </tr>\n",
       "  </tbody>\n",
       "</table>"
      ],
      "text/plain": [
       "<IPython.core.display.HTML object>"
      ]
     },
     "metadata": {},
     "output_type": "display_data"
    }
   ],
   "source": [
    "learn_c.fit_one_cycle(2, lr, moms=(0.8,0.7))"
   ]
  },
  {
   "cell_type": "code",
   "execution_count": 124,
   "metadata": {},
   "outputs": [
    {
     "data": {
      "text/html": [
       "<table border=\"1\" class=\"dataframe\">\n",
       "  <thead>\n",
       "    <tr style=\"text-align: left;\">\n",
       "      <th>epoch</th>\n",
       "      <th>train_loss</th>\n",
       "      <th>valid_loss</th>\n",
       "      <th>accuracy</th>\n",
       "      <th>f1</th>\n",
       "      <th>matthews_correff</th>\n",
       "      <th>time</th>\n",
       "    </tr>\n",
       "  </thead>\n",
       "  <tbody>\n",
       "    <tr>\n",
       "      <td>0</td>\n",
       "      <td>0.745818</td>\n",
       "      <td>0.687766</td>\n",
       "      <td>0.689362</td>\n",
       "      <td>0.689362</td>\n",
       "      <td>0.493372</td>\n",
       "      <td>00:01</td>\n",
       "    </tr>\n",
       "    <tr>\n",
       "      <td>1</td>\n",
       "      <td>0.637387</td>\n",
       "      <td>0.632487</td>\n",
       "      <td>0.727660</td>\n",
       "      <td>0.727660</td>\n",
       "      <td>0.551949</td>\n",
       "      <td>00:01</td>\n",
       "    </tr>\n",
       "  </tbody>\n",
       "</table>"
      ],
      "text/plain": [
       "<IPython.core.display.HTML object>"
      ]
     },
     "metadata": {},
     "output_type": "display_data"
    }
   ],
   "source": [
    "learn_c.freeze_to(-2)\n",
    "learn_c.fit_one_cycle(2, slice(lr/(2.6**4),lr), moms=(0.8,0.7))"
   ]
  },
  {
   "cell_type": "code",
   "execution_count": 125,
   "metadata": {},
   "outputs": [
    {
     "data": {
      "text/html": [
       "<table border=\"1\" class=\"dataframe\">\n",
       "  <thead>\n",
       "    <tr style=\"text-align: left;\">\n",
       "      <th>epoch</th>\n",
       "      <th>train_loss</th>\n",
       "      <th>valid_loss</th>\n",
       "      <th>accuracy</th>\n",
       "      <th>f1</th>\n",
       "      <th>matthews_correff</th>\n",
       "      <th>time</th>\n",
       "    </tr>\n",
       "  </thead>\n",
       "  <tbody>\n",
       "    <tr>\n",
       "      <td>0</td>\n",
       "      <td>0.513728</td>\n",
       "      <td>0.705725</td>\n",
       "      <td>0.687234</td>\n",
       "      <td>0.687234</td>\n",
       "      <td>0.507177</td>\n",
       "      <td>00:01</td>\n",
       "    </tr>\n",
       "    <tr>\n",
       "      <td>1</td>\n",
       "      <td>0.411362</td>\n",
       "      <td>0.733756</td>\n",
       "      <td>0.712766</td>\n",
       "      <td>0.712766</td>\n",
       "      <td>0.534596</td>\n",
       "      <td>00:01</td>\n",
       "    </tr>\n",
       "  </tbody>\n",
       "</table>"
      ],
      "text/plain": [
       "<IPython.core.display.HTML object>"
      ]
     },
     "metadata": {},
     "output_type": "display_data"
    }
   ],
   "source": [
    "learn_c.freeze_to(-3)\n",
    "learn_c.fit_one_cycle(2, slice(lr/2/(2.6**4),lr/2), moms=(0.8,0.7))"
   ]
  },
  {
   "cell_type": "code",
   "execution_count": 126,
   "metadata": {},
   "outputs": [
    {
     "data": {
      "text/html": [
       "<table border=\"1\" class=\"dataframe\">\n",
       "  <thead>\n",
       "    <tr style=\"text-align: left;\">\n",
       "      <th>epoch</th>\n",
       "      <th>train_loss</th>\n",
       "      <th>valid_loss</th>\n",
       "      <th>accuracy</th>\n",
       "      <th>f1</th>\n",
       "      <th>matthews_correff</th>\n",
       "      <th>time</th>\n",
       "    </tr>\n",
       "  </thead>\n",
       "  <tbody>\n",
       "    <tr>\n",
       "      <td>0</td>\n",
       "      <td>0.272120</td>\n",
       "      <td>0.760782</td>\n",
       "      <td>0.729787</td>\n",
       "      <td>0.729787</td>\n",
       "      <td>0.554179</td>\n",
       "      <td>00:02</td>\n",
       "    </tr>\n",
       "    <tr>\n",
       "      <td>1</td>\n",
       "      <td>0.245084</td>\n",
       "      <td>0.738876</td>\n",
       "      <td>0.738298</td>\n",
       "      <td>0.738298</td>\n",
       "      <td>0.562510</td>\n",
       "      <td>00:02</td>\n",
       "    </tr>\n",
       "  </tbody>\n",
       "</table>"
      ],
      "text/plain": [
       "<IPython.core.display.HTML object>"
      ]
     },
     "metadata": {},
     "output_type": "display_data"
    }
   ],
   "source": [
    "learn_c.unfreeze()\n",
    "learn_c.fit_one_cycle(2, slice(lr/10/(2.6**4),lr/10), moms=(0.8,0.7))"
   ]
  },
  {
   "cell_type": "code",
   "execution_count": 128,
   "metadata": {},
   "outputs": [],
   "source": [
    "learn_c.save(f'{lang}clas_product_reviews')"
   ]
  },
  {
   "cell_type": "code",
   "execution_count": 129,
   "metadata": {},
   "outputs": [],
   "source": [
    "learn_c.load(f'{lang}clas_product_reviews');"
   ]
  },
  {
   "cell_type": "code",
   "execution_count": 130,
   "metadata": {},
   "outputs": [
    {
     "data": {
      "text/html": [],
      "text/plain": [
       "<IPython.core.display.HTML object>"
      ]
     },
     "metadata": {},
     "output_type": "display_data"
    },
    {
     "data": {
      "text/html": [],
      "text/plain": [
       "<IPython.core.display.HTML object>"
      ]
     },
     "metadata": {},
     "output_type": "display_data"
    }
   ],
   "source": [
    "data_valid = (TextList.from_df(test_df, path, vocab=data_lm.vocab, cols=1)\n",
    "    .split_none()\n",
    "    .label_from_df(cols=0)\n",
    "    .databunch(bs=bs, num_workers=1))"
   ]
  },
  {
   "cell_type": "code",
   "execution_count": 131,
   "metadata": {},
   "outputs": [
    {
     "data": {
      "text/plain": [
       "TextClasDataBunch;\n",
       "\n",
       "Train: LabelList (523 items)\n",
       "x: TextList\n",
       "xxbos मगर , इस तरफ कोई ध्यान नहीं दिया जा रहा ।,xxbos गेम कई बार मुश्किल मालूम देता है ।,xxbos xxunk में छोटी xxunk है ।,xxbos हाई - एंड एचपी नोटबुक्स की लुक्स हमेशा बेहतरीन होती है – अत्याधुनिक और xxunk लुक जो हर किसी को xxunk हैं ।,xxbos कैमरे बनाने वाली कंपनी निकोन अपनी 1 सीरीज कैमरों में xxunk करते हुए इस सीरीज का सबसे शानदार कैमरा लेकर आई है ।\n",
       "y: CategoryList\n",
       "neutral,negative,negative,positive,positive\n",
       "Path: /home/jupyter/.fastai/data/hiwiki;\n",
       "\n",
       "Valid: LabelList (0 items)\n",
       "x: TextList\n",
       "\n",
       "y: CategoryList\n",
       "\n",
       "Path: /home/jupyter/.fastai/data/hiwiki;\n",
       "\n",
       "Test: None"
      ]
     },
     "execution_count": 131,
     "metadata": {},
     "output_type": "execute_result"
    }
   ],
   "source": [
    "data_valid"
   ]
  },
  {
   "cell_type": "code",
   "execution_count": 132,
   "metadata": {},
   "outputs": [
    {
     "name": "stdout",
     "output_type": "stream",
     "text": [
      "CPU times: user 24.8 s, sys: 124 ms, total: 24.9 s\n",
      "Wall time: 24.9 s\n"
     ]
    },
    {
     "data": {
      "text/html": [
       "<div>\n",
       "<style scoped>\n",
       "    .dataframe tbody tr th:only-of-type {\n",
       "        vertical-align: middle;\n",
       "    }\n",
       "\n",
       "    .dataframe tbody tr th {\n",
       "        vertical-align: top;\n",
       "    }\n",
       "\n",
       "    .dataframe thead th {\n",
       "        text-align: right;\n",
       "    }\n",
       "</style>\n",
       "<table border=\"1\" class=\"dataframe\">\n",
       "  <thead>\n",
       "    <tr style=\"text-align: right;\">\n",
       "      <th></th>\n",
       "      <th>query</th>\n",
       "      <th>actual_label</th>\n",
       "      <th>predicted_label</th>\n",
       "      <th>neutral</th>\n",
       "      <th>positive</th>\n",
       "      <th>negative</th>\n",
       "    </tr>\n",
       "  </thead>\n",
       "  <tbody>\n",
       "    <tr>\n",
       "      <th>0</th>\n",
       "      <td>मगर , इस तरफ कोई ध्यान नहीं दिया जा रहा ।</td>\n",
       "      <td>neutral</td>\n",
       "      <td>neutral</td>\n",
       "      <td>0.7905</td>\n",
       "      <td>0.000651227</td>\n",
       "      <td>0.208849</td>\n",
       "    </tr>\n",
       "    <tr>\n",
       "      <th>1</th>\n",
       "      <td>गेम कई बार मुश्किल मालूम देता है ।</td>\n",
       "      <td>negative</td>\n",
       "      <td>negative</td>\n",
       "      <td>0.00432524</td>\n",
       "      <td>0.000716321</td>\n",
       "      <td>0.994958</td>\n",
       "    </tr>\n",
       "    <tr>\n",
       "      <th>2</th>\n",
       "      <td>मल्टीप्लेयर में छोटी स्टोरीलाइन है ।</td>\n",
       "      <td>negative</td>\n",
       "      <td>negative</td>\n",
       "      <td>0.39135</td>\n",
       "      <td>0.0483416</td>\n",
       "      <td>0.560309</td>\n",
       "    </tr>\n",
       "    <tr>\n",
       "      <th>3</th>\n",
       "      <td>हाई - एंड एचपी नोटबुक्स की लुक्स हमेशा बेहतरीन...</td>\n",
       "      <td>positive</td>\n",
       "      <td>positive</td>\n",
       "      <td>5.19448e-05</td>\n",
       "      <td>0.999905</td>\n",
       "      <td>4.28122e-05</td>\n",
       "    </tr>\n",
       "    <tr>\n",
       "      <th>4</th>\n",
       "      <td>कैमरे बनाने वाली कंपनी निकोन अपनी 1 सीरीज कैमर...</td>\n",
       "      <td>positive</td>\n",
       "      <td>positive</td>\n",
       "      <td>0.0098381</td>\n",
       "      <td>0.989887</td>\n",
       "      <td>0.000275296</td>\n",
       "    </tr>\n",
       "  </tbody>\n",
       "</table>\n",
       "</div>"
      ],
      "text/plain": [
       "                                               query actual_label  \\\n",
       "0          मगर , इस तरफ कोई ध्यान नहीं दिया जा रहा ।      neutral   \n",
       "1                 गेम कई बार मुश्किल मालूम देता है ।     negative   \n",
       "2               मल्टीप्लेयर में छोटी स्टोरीलाइन है ।     negative   \n",
       "3  हाई - एंड एचपी नोटबुक्स की लुक्स हमेशा बेहतरीन...     positive   \n",
       "4  कैमरे बनाने वाली कंपनी निकोन अपनी 1 सीरीज कैमर...     positive   \n",
       "\n",
       "  predicted_label      neutral     positive     negative  \n",
       "0         neutral       0.7905  0.000651227     0.208849  \n",
       "1        negative   0.00432524  0.000716321     0.994958  \n",
       "2        negative      0.39135    0.0483416     0.560309  \n",
       "3        positive  5.19448e-05     0.999905  4.28122e-05  \n",
       "4        positive    0.0098381     0.989887  0.000275296  "
      ]
     },
     "execution_count": 132,
     "metadata": {},
     "output_type": "execute_result"
    }
   ],
   "source": [
    "%%time\n",
    "from sklearn.metrics import accuracy_score, matthews_corrcoef\n",
    "df_dict = {'query': list(test_df[1]), 'actual_label': list(test_df[0]), 'predicted_label': ['']*test_df.shape[0]}\n",
    "all_nodes = list(set(train_df[0]))\n",
    "for node in all_nodes:\n",
    "    df_dict[node] = ['']*test_df.shape[0]\n",
    "    \n",
    "i2c = {}\n",
    "for key, value in learn_c.data.c2i.items():\n",
    "    i2c[value] = key\n",
    "    \n",
    "df_result = pd.DataFrame(df_dict)\n",
    "for index, row in df_result.iterrows():\n",
    "    pred = learn_c.predict(data_valid.train_ds[index])\n",
    "    for node in all_nodes:\n",
    "        row[node] = pred[2][learn_c.data.c2i[node]].item()\n",
    "    row['predicted_label'] = i2c[pred[0].data.item()]\n",
    "df_result.head()"
   ]
  },
  {
   "cell_type": "code",
   "execution_count": 133,
   "metadata": {},
   "outputs": [
    {
     "name": "stdout",
     "output_type": "stream",
     "text": [
      "<class 'pandas.core.frame.DataFrame'>\n",
      "RangeIndex: 523 entries, 0 to 522\n",
      "Data columns (total 6 columns):\n",
      "query              523 non-null object\n",
      "actual_label       523 non-null object\n",
      "predicted_label    523 non-null object\n",
      "neutral            523 non-null object\n",
      "positive           523 non-null object\n",
      "negative           523 non-null object\n",
      "dtypes: object(6)\n",
      "memory usage: 24.6+ KB\n"
     ]
    }
   ],
   "source": [
    "df_result.info()"
   ]
  },
  {
   "cell_type": "code",
   "execution_count": 134,
   "metadata": {},
   "outputs": [
    {
     "data": {
      "text/plain": [
       "0.7208413001912046"
      ]
     },
     "execution_count": 134,
     "metadata": {},
     "output_type": "execute_result"
    }
   ],
   "source": [
    "accuracy_score(df_result['actual_label'], df_result['predicted_label'])"
   ]
  },
  {
   "cell_type": "code",
   "execution_count": 135,
   "metadata": {},
   "outputs": [
    {
     "data": {
      "text/plain": [
       "0.5419081520416014"
      ]
     },
     "execution_count": 135,
     "metadata": {},
     "output_type": "execute_result"
    }
   ],
   "source": [
    "matthews_corrcoef(df_result['actual_label'], df_result['predicted_label'])"
   ]
  },
  {
   "cell_type": "code",
   "execution_count": 136,
   "metadata": {},
   "outputs": [
    {
     "data": {
      "text/plain": [
       "0.7208413001912046"
      ]
     },
     "execution_count": 136,
     "metadata": {},
     "output_type": "execute_result"
    }
   ],
   "source": [
    "f1_score(df_result['actual_label'], df_result['predicted_label'], average='micro')"
   ]
  },
  {
   "cell_type": "markdown",
   "metadata": {},
   "source": [
    "## IIT-P movie reviews"
   ]
  },
  {
   "cell_type": "code",
   "execution_count": 137,
   "metadata": {},
   "outputs": [
    {
     "data": {
      "text/html": [
       "<div>\n",
       "<style scoped>\n",
       "    .dataframe tbody tr th:only-of-type {\n",
       "        vertical-align: middle;\n",
       "    }\n",
       "\n",
       "    .dataframe tbody tr th {\n",
       "        vertical-align: top;\n",
       "    }\n",
       "\n",
       "    .dataframe thead th {\n",
       "        text-align: right;\n",
       "    }\n",
       "</style>\n",
       "<table border=\"1\" class=\"dataframe\">\n",
       "  <thead>\n",
       "    <tr style=\"text-align: right;\">\n",
       "      <th></th>\n",
       "      <th>0</th>\n",
       "      <th>1</th>\n",
       "    </tr>\n",
       "  </thead>\n",
       "  <tbody>\n",
       "    <tr>\n",
       "      <th>0</th>\n",
       "      <td>neutral</td>\n",
       "      <td>निर्माता :\\nशीतल विनोद तलवार, मधु‍ मैंटेना\\n\\n...</td>\n",
       "    </tr>\n",
       "    <tr>\n",
       "      <th>1</th>\n",
       "      <td>positive</td>\n",
       "      <td>’उड़ान’ से विक्रमादित्य\\nमोटवाने\\nने अच्छे सिन...</td>\n",
       "    </tr>\n",
       "    <tr>\n",
       "      <th>2</th>\n",
       "      <td>neutral</td>\n",
       "      <td>फिल्म में गानों के दृश्य में अनुष्का को माइक क...</td>\n",
       "    </tr>\n",
       "    <tr>\n",
       "      <th>3</th>\n",
       "      <td>neutral</td>\n",
       "      <td>फांसी चढ़ने से पहले वह पाकिस्तान के सदर से खास...</td>\n",
       "    </tr>\n",
       "    <tr>\n",
       "      <th>4</th>\n",
       "      <td>positive</td>\n",
       "      <td>राज कुमार हिरानी ने इस मूवी में भी अपने डायरेक...</td>\n",
       "    </tr>\n",
       "  </tbody>\n",
       "</table>\n",
       "</div>"
      ],
      "text/plain": [
       "          0                                                  1\n",
       "0   neutral  निर्माता :\\nशीतल विनोद तलवार, मधु‍ मैंटेना\\n\\n...\n",
       "1  positive  ’उड़ान’ से विक्रमादित्य\\nमोटवाने\\nने अच्छे सिन...\n",
       "2   neutral  फिल्म में गानों के दृश्य में अनुष्का को माइक क...\n",
       "3   neutral  फांसी चढ़ने से पहले वह पाकिस्तान के सदर से खास...\n",
       "4  positive  राज कुमार हिरानी ने इस मूवी में भी अपने डायरेक..."
      ]
     },
     "execution_count": 137,
     "metadata": {},
     "output_type": "execute_result"
    }
   ],
   "source": [
    "train_df = pd.read_csv('data/iit-p-movie-reviews/hi-train.csv', header=None)\n",
    "train_df.head()"
   ]
  },
  {
   "cell_type": "code",
   "execution_count": 139,
   "metadata": {},
   "outputs": [
    {
     "data": {
      "text/html": [
       "<div>\n",
       "<style scoped>\n",
       "    .dataframe tbody tr th:only-of-type {\n",
       "        vertical-align: middle;\n",
       "    }\n",
       "\n",
       "    .dataframe tbody tr th {\n",
       "        vertical-align: top;\n",
       "    }\n",
       "\n",
       "    .dataframe thead th {\n",
       "        text-align: right;\n",
       "    }\n",
       "</style>\n",
       "<table border=\"1\" class=\"dataframe\">\n",
       "  <thead>\n",
       "    <tr style=\"text-align: right;\">\n",
       "      <th></th>\n",
       "      <th>0</th>\n",
       "      <th>1</th>\n",
       "    </tr>\n",
       "  </thead>\n",
       "  <tbody>\n",
       "    <tr>\n",
       "      <th>0</th>\n",
       "      <td>negative</td>\n",
       "      <td>ये फगली-फगली क्या है, ये फगली-फगली? इस बात का ...</td>\n",
       "    </tr>\n",
       "    <tr>\n",
       "      <th>1</th>\n",
       "      <td>neutral</td>\n",
       "      <td>निर्माता :\\nआदित्य चोपड़ा\\n\\nनिर्देशक :\\nहबीब ...</td>\n",
       "    </tr>\n",
       "    <tr>\n",
       "      <th>2</th>\n",
       "      <td>positive</td>\n",
       "      <td>इस कसौटी पर करण काफी हद तक खरे भी उतरे हैं।</td>\n",
       "    </tr>\n",
       "    <tr>\n",
       "      <th>3</th>\n",
       "      <td>positive</td>\n",
       "      <td>छोटे शहर की गालियां, छतें और विहंगम दृश्य मोहक...</td>\n",
       "    </tr>\n",
       "    <tr>\n",
       "      <th>4</th>\n",
       "      <td>positive</td>\n",
       "      <td>मनीष और जिशान का काम भी लोगों को याद रहेगा।</td>\n",
       "    </tr>\n",
       "  </tbody>\n",
       "</table>\n",
       "</div>"
      ],
      "text/plain": [
       "          0                                                  1\n",
       "0  negative  ये फगली-फगली क्या है, ये फगली-फगली? इस बात का ...\n",
       "1   neutral  निर्माता :\\nआदित्य चोपड़ा\\n\\nनिर्देशक :\\nहबीब ...\n",
       "2  positive        इस कसौटी पर करण काफी हद तक खरे भी उतरे हैं।\n",
       "3  positive  छोटे शहर की गालियां, छतें और विहंगम दृश्य मोहक...\n",
       "4  positive        मनीष और जिशान का काम भी लोगों को याद रहेगा।"
      ]
     },
     "execution_count": 139,
     "metadata": {},
     "output_type": "execute_result"
    }
   ],
   "source": [
    "valid_df = pd.read_csv('data/iit-p-movie-reviews/hi-valid.csv', header=None)\n",
    "valid_df.head()"
   ]
  },
  {
   "cell_type": "code",
   "execution_count": 138,
   "metadata": {},
   "outputs": [
    {
     "data": {
      "text/html": [
       "<div>\n",
       "<style scoped>\n",
       "    .dataframe tbody tr th:only-of-type {\n",
       "        vertical-align: middle;\n",
       "    }\n",
       "\n",
       "    .dataframe tbody tr th {\n",
       "        vertical-align: top;\n",
       "    }\n",
       "\n",
       "    .dataframe thead th {\n",
       "        text-align: right;\n",
       "    }\n",
       "</style>\n",
       "<table border=\"1\" class=\"dataframe\">\n",
       "  <thead>\n",
       "    <tr style=\"text-align: right;\">\n",
       "      <th></th>\n",
       "      <th>0</th>\n",
       "      <th>1</th>\n",
       "    </tr>\n",
       "  </thead>\n",
       "  <tbody>\n",
       "    <tr>\n",
       "      <th>0</th>\n",
       "      <td>negative</td>\n",
       "      <td>काव्या अपनी खुन्नस और जिद में सिद्धार्थ को तबा...</td>\n",
       "    </tr>\n",
       "    <tr>\n",
       "      <th>1</th>\n",
       "      <td>negative</td>\n",
       "      <td>निर्माता :\\nफरहान अख्तर, रितेश सिधवानी\\n\\nनिर्...</td>\n",
       "    </tr>\n",
       "    <tr>\n",
       "      <th>2</th>\n",
       "      <td>positive</td>\n",
       "      <td>असमर्पित रिश्ते में यकीन रखने वाले दोनों मौज-म...</td>\n",
       "    </tr>\n",
       "    <tr>\n",
       "      <th>3</th>\n",
       "      <td>neutral</td>\n",
       "      <td>बेवकूफियां को हबीब फैज़ल ने लिखा है, जिनका नाम...</td>\n",
       "    </tr>\n",
       "    <tr>\n",
       "      <th>4</th>\n",
       "      <td>neutral</td>\n",
       "      <td>तब वह मोटी थी और जेरी  ने उस पर ध्यान नहीं दिय...</td>\n",
       "    </tr>\n",
       "  </tbody>\n",
       "</table>\n",
       "</div>"
      ],
      "text/plain": [
       "          0                                                  1\n",
       "0  negative  काव्या अपनी खुन्नस और जिद में सिद्धार्थ को तबा...\n",
       "1  negative  निर्माता :\\nफरहान अख्तर, रितेश सिधवानी\\n\\nनिर्...\n",
       "2  positive  असमर्पित रिश्ते में यकीन रखने वाले दोनों मौज-म...\n",
       "3   neutral  बेवकूफियां को हबीब फैज़ल ने लिखा है, जिनका नाम...\n",
       "4   neutral  तब वह मोटी थी और जेरी  ने उस पर ध्यान नहीं दिय..."
      ]
     },
     "execution_count": 138,
     "metadata": {},
     "output_type": "execute_result"
    }
   ],
   "source": [
    "test_df = pd.read_csv('data/iit-p-movie-reviews/hi-test.csv', header=None)\n",
    "test_df.head()"
   ]
  },
  {
   "cell_type": "code",
   "execution_count": 140,
   "metadata": {},
   "outputs": [],
   "source": [
    "df = pd.concat([train_df,test_df, valid_df], sort=False)"
   ]
  },
  {
   "cell_type": "code",
   "execution_count": 141,
   "metadata": {},
   "outputs": [
    {
     "data": {
      "text/html": [],
      "text/plain": [
       "<IPython.core.display.HTML object>"
      ]
     },
     "metadata": {},
     "output_type": "display_data"
    },
    {
     "data": {
      "text/html": [],
      "text/plain": [
       "<IPython.core.display.HTML object>"
      ]
     },
     "metadata": {},
     "output_type": "display_data"
    }
   ],
   "source": [
    "data_lm = (TextList.from_df(df, path, cols=1)\n",
    "    .split_by_rand_pct(0.1, seed=42)\n",
    "    .label_for_lm()           \n",
    "    .databunch(bs=bs, num_workers=1))"
   ]
  },
  {
   "cell_type": "code",
   "execution_count": 142,
   "metadata": {},
   "outputs": [],
   "source": [
    "learn_lm = language_model_learner(data_lm, AWD_LSTM, pretrained_fnames=lm_fns, drop_mult=1.0)"
   ]
  },
  {
   "cell_type": "code",
   "execution_count": 143,
   "metadata": {},
   "outputs": [],
   "source": [
    "lr = 1e-3\n",
    "lr *= bs/48"
   ]
  },
  {
   "cell_type": "code",
   "execution_count": 144,
   "metadata": {},
   "outputs": [
    {
     "data": {
      "text/html": [
       "<table border=\"1\" class=\"dataframe\">\n",
       "  <thead>\n",
       "    <tr style=\"text-align: left;\">\n",
       "      <th>epoch</th>\n",
       "      <th>train_loss</th>\n",
       "      <th>valid_loss</th>\n",
       "      <th>accuracy</th>\n",
       "      <th>time</th>\n",
       "    </tr>\n",
       "  </thead>\n",
       "  <tbody>\n",
       "    <tr>\n",
       "      <td>0</td>\n",
       "      <td>4.507449</td>\n",
       "      <td>3.963688</td>\n",
       "      <td>0.306794</td>\n",
       "      <td>00:16</td>\n",
       "    </tr>\n",
       "    <tr>\n",
       "      <td>1</td>\n",
       "      <td>4.120755</td>\n",
       "      <td>3.851468</td>\n",
       "      <td>0.316643</td>\n",
       "      <td>00:16</td>\n",
       "    </tr>\n",
       "  </tbody>\n",
       "</table>"
      ],
      "text/plain": [
       "<IPython.core.display.HTML object>"
      ]
     },
     "metadata": {},
     "output_type": "display_data"
    }
   ],
   "source": [
    "# finetuning the language model\n",
    "learn_lm.fit_one_cycle(2, lr*10, moms=(0.8,0.7))"
   ]
  },
  {
   "cell_type": "code",
   "execution_count": 145,
   "metadata": {},
   "outputs": [
    {
     "data": {
      "text/html": [
       "<table border=\"1\" class=\"dataframe\">\n",
       "  <thead>\n",
       "    <tr style=\"text-align: left;\">\n",
       "      <th>epoch</th>\n",
       "      <th>train_loss</th>\n",
       "      <th>valid_loss</th>\n",
       "      <th>accuracy</th>\n",
       "      <th>time</th>\n",
       "    </tr>\n",
       "  </thead>\n",
       "  <tbody>\n",
       "    <tr>\n",
       "      <td>0</td>\n",
       "      <td>3.884935</td>\n",
       "      <td>3.817736</td>\n",
       "      <td>0.320745</td>\n",
       "      <td>00:16</td>\n",
       "    </tr>\n",
       "    <tr>\n",
       "      <td>1</td>\n",
       "      <td>3.834695</td>\n",
       "      <td>3.756623</td>\n",
       "      <td>0.327623</td>\n",
       "      <td>00:16</td>\n",
       "    </tr>\n",
       "    <tr>\n",
       "      <td>2</td>\n",
       "      <td>3.758144</td>\n",
       "      <td>3.702843</td>\n",
       "      <td>0.334738</td>\n",
       "      <td>00:16</td>\n",
       "    </tr>\n",
       "    <tr>\n",
       "      <td>3</td>\n",
       "      <td>3.663788</td>\n",
       "      <td>3.665003</td>\n",
       "      <td>0.339704</td>\n",
       "      <td>00:16</td>\n",
       "    </tr>\n",
       "    <tr>\n",
       "      <td>4</td>\n",
       "      <td>3.590355</td>\n",
       "      <td>3.641516</td>\n",
       "      <td>0.342885</td>\n",
       "      <td>00:16</td>\n",
       "    </tr>\n",
       "    <tr>\n",
       "      <td>5</td>\n",
       "      <td>3.531239</td>\n",
       "      <td>3.633370</td>\n",
       "      <td>0.343862</td>\n",
       "      <td>00:16</td>\n",
       "    </tr>\n",
       "    <tr>\n",
       "      <td>6</td>\n",
       "      <td>3.496819</td>\n",
       "      <td>3.625730</td>\n",
       "      <td>0.344838</td>\n",
       "      <td>00:16</td>\n",
       "    </tr>\n",
       "    <tr>\n",
       "      <td>7</td>\n",
       "      <td>3.476408</td>\n",
       "      <td>3.627779</td>\n",
       "      <td>0.344866</td>\n",
       "      <td>00:16</td>\n",
       "    </tr>\n",
       "  </tbody>\n",
       "</table>"
      ],
      "text/plain": [
       "<IPython.core.display.HTML object>"
      ]
     },
     "metadata": {},
     "output_type": "display_data"
    }
   ],
   "source": [
    "learn_lm.unfreeze()\n",
    "learn_lm.fit_one_cycle(8, lr, moms=(0.8,0.7))"
   ]
  },
  {
   "cell_type": "code",
   "execution_count": 146,
   "metadata": {},
   "outputs": [],
   "source": [
    "learn_lm.save(f'{lang}fine_tuned_movie_reviews')\n",
    "learn_lm.save_encoder(f'{lang}fine_tuned_enc_movie_reviews')"
   ]
  },
  {
   "cell_type": "code",
   "execution_count": 147,
   "metadata": {},
   "outputs": [
    {
     "data": {
      "text/plain": [
       "78"
      ]
     },
     "execution_count": 147,
     "metadata": {},
     "output_type": "execute_result"
    }
   ],
   "source": [
    "learn_lm = None\n",
    "learn = None\n",
    "gc.collect()"
   ]
  },
  {
   "cell_type": "markdown",
   "metadata": {},
   "source": [
    "### Classifier"
   ]
  },
  {
   "cell_type": "code",
   "execution_count": 148,
   "metadata": {},
   "outputs": [
    {
     "data": {
      "text/html": [],
      "text/plain": [
       "<IPython.core.display.HTML object>"
      ]
     },
     "metadata": {},
     "output_type": "display_data"
    },
    {
     "data": {
      "text/html": [],
      "text/plain": [
       "<IPython.core.display.HTML object>"
      ]
     },
     "metadata": {},
     "output_type": "display_data"
    }
   ],
   "source": [
    "data_clas = (TextList.from_df(train_df, path, vocab=data_lm.vocab, cols=1)\n",
    "    .split_by_rand_pct(0.1, seed=42)\n",
    "    .label_from_df(cols=0)\n",
    "    .databunch(bs=bs, num_workers=1))\n",
    "\n",
    "data_clas.save(f'{lang}_textlist_class_movie_reviews')"
   ]
  },
  {
   "cell_type": "code",
   "execution_count": 149,
   "metadata": {},
   "outputs": [],
   "source": [
    "data_clas = load_data(path, f'{lang}_textlist_class_movie_reviews', bs=bs, num_workers=1)"
   ]
  },
  {
   "cell_type": "code",
   "execution_count": 150,
   "metadata": {},
   "outputs": [
    {
     "data": {
      "text/plain": [
       "(['negative', 'neutral', 'positive'], 3)"
      ]
     },
     "execution_count": 150,
     "metadata": {},
     "output_type": "execute_result"
    }
   ],
   "source": [
    "data_clas.classes, data_clas.c"
   ]
  },
  {
   "cell_type": "code",
   "execution_count": 151,
   "metadata": {},
   "outputs": [],
   "source": [
    "from sklearn.metrics import f1_score\n",
    "\n",
    "@np_func\n",
    "def f1(inp,targ): return f1_score(targ, np.argmax(inp, axis=-1), average='micro')\n",
    "\n",
    "mcc = MatthewsCorreff()"
   ]
  },
  {
   "cell_type": "code",
   "execution_count": 152,
   "metadata": {},
   "outputs": [],
   "source": [
    "learn_c = text_classifier_learner(data_clas, AWD_LSTM, drop_mult=0.5, metrics=[accuracy,f1, mcc]).to_fp16()\n",
    "learn_c.load_encoder(f'{lang}fine_tuned_enc_movie_reviews')\n",
    "learn_c.freeze()"
   ]
  },
  {
   "cell_type": "code",
   "execution_count": 153,
   "metadata": {},
   "outputs": [],
   "source": [
    "lr=2e-2\n",
    "lr *= bs/48"
   ]
  },
  {
   "cell_type": "code",
   "execution_count": 154,
   "metadata": {},
   "outputs": [
    {
     "data": {
      "text/html": [
       "<table border=\"1\" class=\"dataframe\">\n",
       "  <thead>\n",
       "    <tr style=\"text-align: left;\">\n",
       "      <th>epoch</th>\n",
       "      <th>train_loss</th>\n",
       "      <th>valid_loss</th>\n",
       "      <th>accuracy</th>\n",
       "      <th>f1</th>\n",
       "      <th>matthews_correff</th>\n",
       "      <th>time</th>\n",
       "    </tr>\n",
       "  </thead>\n",
       "  <tbody>\n",
       "    <tr>\n",
       "      <td>0</td>\n",
       "      <td>1.086575</td>\n",
       "      <td>1.088551</td>\n",
       "      <td>0.443548</td>\n",
       "      <td>0.443548</td>\n",
       "      <td>0.127183</td>\n",
       "      <td>00:07</td>\n",
       "    </tr>\n",
       "    <tr>\n",
       "      <td>1</td>\n",
       "      <td>0.993112</td>\n",
       "      <td>1.009850</td>\n",
       "      <td>0.455645</td>\n",
       "      <td>0.455645</td>\n",
       "      <td>0.146455</td>\n",
       "      <td>00:07</td>\n",
       "    </tr>\n",
       "  </tbody>\n",
       "</table>"
      ],
      "text/plain": [
       "<IPython.core.display.HTML object>"
      ]
     },
     "metadata": {},
     "output_type": "display_data"
    }
   ],
   "source": [
    "learn_c.fit_one_cycle(2, lr, moms=(0.8,0.7))"
   ]
  },
  {
   "cell_type": "code",
   "execution_count": 155,
   "metadata": {},
   "outputs": [
    {
     "data": {
      "text/html": [
       "<table border=\"1\" class=\"dataframe\">\n",
       "  <thead>\n",
       "    <tr style=\"text-align: left;\">\n",
       "      <th>epoch</th>\n",
       "      <th>train_loss</th>\n",
       "      <th>valid_loss</th>\n",
       "      <th>accuracy</th>\n",
       "      <th>f1</th>\n",
       "      <th>matthews_correff</th>\n",
       "      <th>time</th>\n",
       "    </tr>\n",
       "  </thead>\n",
       "  <tbody>\n",
       "    <tr>\n",
       "      <td>0</td>\n",
       "      <td>0.978189</td>\n",
       "      <td>0.991457</td>\n",
       "      <td>0.508065</td>\n",
       "      <td>0.508065</td>\n",
       "      <td>0.247321</td>\n",
       "      <td>00:07</td>\n",
       "    </tr>\n",
       "    <tr>\n",
       "      <td>1</td>\n",
       "      <td>0.942549</td>\n",
       "      <td>0.965854</td>\n",
       "      <td>0.536290</td>\n",
       "      <td>0.536290</td>\n",
       "      <td>0.304887</td>\n",
       "      <td>00:06</td>\n",
       "    </tr>\n",
       "  </tbody>\n",
       "</table>"
      ],
      "text/plain": [
       "<IPython.core.display.HTML object>"
      ]
     },
     "metadata": {},
     "output_type": "display_data"
    }
   ],
   "source": [
    "learn_c.fit_one_cycle(2, lr, moms=(0.8,0.7))"
   ]
  },
  {
   "cell_type": "code",
   "execution_count": 156,
   "metadata": {},
   "outputs": [
    {
     "data": {
      "text/html": [
       "<table border=\"1\" class=\"dataframe\">\n",
       "  <thead>\n",
       "    <tr style=\"text-align: left;\">\n",
       "      <th>epoch</th>\n",
       "      <th>train_loss</th>\n",
       "      <th>valid_loss</th>\n",
       "      <th>accuracy</th>\n",
       "      <th>f1</th>\n",
       "      <th>matthews_correff</th>\n",
       "      <th>time</th>\n",
       "    </tr>\n",
       "  </thead>\n",
       "  <tbody>\n",
       "    <tr>\n",
       "      <td>0</td>\n",
       "      <td>0.928373</td>\n",
       "      <td>1.130748</td>\n",
       "      <td>0.483871</td>\n",
       "      <td>0.483871</td>\n",
       "      <td>0.201155</td>\n",
       "      <td>00:09</td>\n",
       "    </tr>\n",
       "    <tr>\n",
       "      <td>1</td>\n",
       "      <td>0.846182</td>\n",
       "      <td>0.968071</td>\n",
       "      <td>0.584677</td>\n",
       "      <td>0.584677</td>\n",
       "      <td>0.373331</td>\n",
       "      <td>00:08</td>\n",
       "    </tr>\n",
       "  </tbody>\n",
       "</table>"
      ],
      "text/plain": [
       "<IPython.core.display.HTML object>"
      ]
     },
     "metadata": {},
     "output_type": "display_data"
    }
   ],
   "source": [
    "learn_c.freeze_to(-2)\n",
    "learn_c.fit_one_cycle(2, slice(lr/(2.6**4),lr), moms=(0.8,0.7))"
   ]
  },
  {
   "cell_type": "code",
   "execution_count": 157,
   "metadata": {},
   "outputs": [
    {
     "data": {
      "text/html": [
       "<table border=\"1\" class=\"dataframe\">\n",
       "  <thead>\n",
       "    <tr style=\"text-align: left;\">\n",
       "      <th>epoch</th>\n",
       "      <th>train_loss</th>\n",
       "      <th>valid_loss</th>\n",
       "      <th>accuracy</th>\n",
       "      <th>f1</th>\n",
       "      <th>matthews_correff</th>\n",
       "      <th>time</th>\n",
       "    </tr>\n",
       "  </thead>\n",
       "  <tbody>\n",
       "    <tr>\n",
       "      <td>0</td>\n",
       "      <td>0.671158</td>\n",
       "      <td>1.011002</td>\n",
       "      <td>0.596774</td>\n",
       "      <td>0.596774</td>\n",
       "      <td>0.418545</td>\n",
       "      <td>00:10</td>\n",
       "    </tr>\n",
       "    <tr>\n",
       "      <td>1</td>\n",
       "      <td>0.586543</td>\n",
       "      <td>0.880956</td>\n",
       "      <td>0.600806</td>\n",
       "      <td>0.600806</td>\n",
       "      <td>0.398368</td>\n",
       "      <td>00:15</td>\n",
       "    </tr>\n",
       "  </tbody>\n",
       "</table>"
      ],
      "text/plain": [
       "<IPython.core.display.HTML object>"
      ]
     },
     "metadata": {},
     "output_type": "display_data"
    }
   ],
   "source": [
    "learn_c.freeze_to(-3)\n",
    "learn_c.fit_one_cycle(2, slice(lr/2/(2.6**4),lr/2), moms=(0.8,0.7))"
   ]
  },
  {
   "cell_type": "code",
   "execution_count": 158,
   "metadata": {},
   "outputs": [
    {
     "data": {
      "text/html": [
       "<table border=\"1\" class=\"dataframe\">\n",
       "  <thead>\n",
       "    <tr style=\"text-align: left;\">\n",
       "      <th>epoch</th>\n",
       "      <th>train_loss</th>\n",
       "      <th>valid_loss</th>\n",
       "      <th>accuracy</th>\n",
       "      <th>f1</th>\n",
       "      <th>matthews_correff</th>\n",
       "      <th>time</th>\n",
       "    </tr>\n",
       "  </thead>\n",
       "  <tbody>\n",
       "    <tr>\n",
       "      <td>0</td>\n",
       "      <td>0.375172</td>\n",
       "      <td>0.876832</td>\n",
       "      <td>0.633065</td>\n",
       "      <td>0.633065</td>\n",
       "      <td>0.448443</td>\n",
       "      <td>00:16</td>\n",
       "    </tr>\n",
       "    <tr>\n",
       "      <td>1</td>\n",
       "      <td>0.335480</td>\n",
       "      <td>0.962638</td>\n",
       "      <td>0.629032</td>\n",
       "      <td>0.629032</td>\n",
       "      <td>0.453694</td>\n",
       "      <td>00:13</td>\n",
       "    </tr>\n",
       "  </tbody>\n",
       "</table>"
      ],
      "text/plain": [
       "<IPython.core.display.HTML object>"
      ]
     },
     "metadata": {},
     "output_type": "display_data"
    }
   ],
   "source": [
    "learn_c.unfreeze()\n",
    "learn_c.fit_one_cycle(2, slice(lr/10/(2.6**4),lr/10), moms=(0.8,0.7))"
   ]
  },
  {
   "cell_type": "code",
   "execution_count": 159,
   "metadata": {},
   "outputs": [],
   "source": [
    "learn_c.save(f'{lang}clas_movie_reviews')"
   ]
  },
  {
   "cell_type": "code",
   "execution_count": 160,
   "metadata": {},
   "outputs": [],
   "source": [
    "learn_c.load(f'{lang}clas_movie_reviews');"
   ]
  },
  {
   "cell_type": "code",
   "execution_count": 161,
   "metadata": {},
   "outputs": [
    {
     "data": {
      "text/html": [],
      "text/plain": [
       "<IPython.core.display.HTML object>"
      ]
     },
     "metadata": {},
     "output_type": "display_data"
    },
    {
     "data": {
      "text/html": [],
      "text/plain": [
       "<IPython.core.display.HTML object>"
      ]
     },
     "metadata": {},
     "output_type": "display_data"
    }
   ],
   "source": [
    "data_valid = (TextList.from_df(test_df, path, vocab=data_lm.vocab, cols=1)\n",
    "    .split_none()\n",
    "    .label_from_df(cols=0)\n",
    "    .databunch(bs=bs, num_workers=1))"
   ]
  },
  {
   "cell_type": "code",
   "execution_count": 162,
   "metadata": {},
   "outputs": [
    {
     "data": {
      "text/plain": [
       "TextClasDataBunch;\n",
       "\n",
       "Train: LabelList (310 items)\n",
       "x: TextList\n",
       "xxbos काव्या अपनी xxunk और जिद में सिद्धार्थ को तबाह करने के लिए जिस्म को हथियार बनाती है ।,xxbos निर्माता : \n",
       "  फरहान अख्तर , रितेश सिधवानी \n",
       " \n",
       "  निर्देशक : \n",
       "  अभिनय देव \n",
       " \n",
       "  संगीत : \n",
       "  शंकर - अहसान - लॉय \n",
       " \n",
       "  कलाकार : \n",
       "  अभिषेक बच्चन , कंगना , xxunk जेन xxunk , जिमी शेरगिल , गौहर खान , शहाना गोस्वामी , बोमन ईरानी , अनुपम खेर \n",
       " \n",
       "  सेंसर सर्टिफिकेट : यू / ए * 2 घंटे 10 मिनट \n",
       " \n",
       " \n",
       " \n",
       "  थ्रिलर और मर्डर मिस्ट्री फिल्म बनाना हर किसी के बस की बात नहीं है । राज खुलने तक दर्शक को बाँधकर रखना और कातिल के चेहरे से परदा xxunk के बाद दर्शक को संतुष्ट करना कठिन काम है क्योंकि सभी को अपने प्रश्नों का ठोस उत्तर xxunk । इसके लिए कसी हुई स्क्रिप्ट और चुस्त निर्देशन की आवश्यकता होती है । \n",
       " \n",
       "  ‘ गेम ’ इन xxunk पर खरी नहीं उतरती और एक उबाऊ फिल्म के रूप में सामने आती है । हैरत इस बात की होती है कि इस फिल्म से फरहान अख्तर का नाम जुड़ा है जिनका बैनर अच्छी फिल्मों के लिए जाना जाता है । \n",
       " \n",
       "  फिल्म से जुड़े सारे लोगों का ध्यान केवल स्टाइलिश फिल्म बनाने की ओर रहा । सारे कलाकार स्टाइलिश नजर आते हैं , हत्या के बाद हत्यारे की खोज आधुनिक तरीकों से की जाती है , पाँच देशों की शानदार लोकेशन पर xxunk - भाग होती है , लेकिन ठोस कहानी और स्क्रीनप्ले के अभाव में ये सभी चीजें खोखली नजर आती हैं । \n",
       " \n",
       "  कबीर मल्होत्रा ( अनुपम खेर ) अपने प्राइवेट आयलैंड पर xxunk रामसे ( बोमन ईरानी ) , नील मेनन ( अभिषेक बच्चन ) , xxunk खन्ना ( शहाना गोस्वामी ) और विक्रम कपूर ( जिम्मी शेरगिल ) को बुलाता है । इनमें से एक नेता है , दूसरा xxunk मालिक है , तीसरा पत्रकार है और चौथा फिल्म स्टार । \n",
       " \n",
       "  कबीर की एक नाजायज बेटी थी जिसकी जिंदगी को बरबाद करने में इन चारों का हाथ है । वह इनसे अपना बदला लेना चाहता है । लेकिन इसके पहले ही एक ऐसी घटना घटती है और एक ऐसा राज खुलता है जिसका असर सभी की xxunk पर होता है । सिया ( कंगना ) नामक ऑफिसर इस मामले की जाँच करती है । \n",
       " \n",
       "  लगता है कि फिल्म की स्क्रिप्ट एक बार लिखकर ही फाइनल कर दी गई है । इतने सारे अगर - मगर हैं , प्रश्न हैं , जिनका जवाब देने की कोई जरूरत नहीं समझी गई है । कबीर गहरी छानबीन कर इन चारों को अपने आयलैंड पर बुलाता है , लेकिन एक व्यक्ति के बारे में वह यह नहीं जान पाता कि वह पुलिस इंसपेक्टर है और उसकी बेटी को चाहता था । \n",
       " \n",
       "  पुलिस इंसपेक्टर अपनी पहचान क्यों छिपाकर रखता है यह भी समझ से परे है । साथ ही मामले की पड़ताल के दौरान वह अपने अधिकारों का दुरुपयोग करते हुए अपना बदला भी लेता है । कई सवाल ऐसे हैं , जिनके बारे में यहाँ बात की गई तो कहानी के राज खुल सकते हैं । फिल्म का अंत बेहद खराब है और एकदम फिल्मी है । \n",
       " \n",
       "  निर्देशक अभिनय देव ने कहानी के बजाय शॉट्स कैसे फिल्माए जाए , फिल्म को रिच लुक कैसे दिया जाए , इन्हीं बातों पर गौर किया है । कहानी का उन्होंने इस तरह फिल्मांकन किया है उससे दर्शक कभी जुड़ नहीं पाता है । \n",
       " \n",
       "  मनोरंजक दृश्यों की फिल्म में कमी है और एक भी ऐसा सीन नहीं है कि दर्शकों में रोमांच पैदा हो । ‍फिल्म में दो - तीन गाने भी हैं , जिनकी न धुन अच्छी है और न ही फिल्मांकन । \n",
       " \n",
       "  लगता है कि सारे कलाकारों को भी स्क्रिप्ट समझ में नहीं आई , जिसका असर उनके अभिनय पर दिखता है । अभिषेक बच्चन भावहीन ( एक्सप्रेशन xxunk ) रहे , हालाँकि ये उनके किरदार पर सूट करता है । \n",
       " \n",
       "  बोमन ईरानी ने ओवर एक्टिंग की है । जिमी शेरगिल और शहाना गोस्वामी जैसे कलाकार भी रंग में नजर नहीं आए । पहली फिल्म में xxunk जेन xxunk प्रभावित नहीं कर पाईं । कंगना को तुरंत हिंदी और अँग्रेजी के उच्चारण सीखने की की जरूरत है । उनका अभिनय भी बनावटी है । इनकी तुलना में अनुपम खेर का अभिनय ठीक है । \n",
       " \n",
       "  कुल मिलाकर इस गेम को ना खेलना ही बेहतर है ।,xxbos xxunk रिश्ते में यकीन रखने वाले दोनों मौज - मस्ती के लिए साथ रहने लगते हैं ।,xxbos बेवकूफियां को हबीब xxunk ने लिखा है , जिनका नाम बैंड बाजा बारात और दो xxunk चार जैसी फिल्मों से जुड़ा है । ' बेवकूफियां ' में हबीब की कहानी निराश करती है । हबीब ने बॉलीवुड की हजारों बार दोहराई गई कहानी को थोड़े परिवर्तन और आधुनिक किरदारों के साथ पेश किया है । लड़का - लड़की राजी हैं , लेकिन पिता बीच में दीवार है । पिता का मानना है कि प्यार ही सब कुछ नहीं होता , पैसा भी अहम होता है । \n",
       " \n",
       "  इस कहानी को आर्थिक मंदी , क्रेडिट कार्ड xxunk कपल और पैसों को लेकर बदलते समीकरण के इर्दगिर्द बुना गया है । फिल्म जिस तरीके से शुरू होती है और एक अच्छी फिल्म की संभावना बनती हैं , वो फिल्म के खत्म होने के पहले ही दम तोड़ देती हैं । अच्छी बात यह है कि पूरा ड्रामा हल्का - फुल्का रखा गया है और कहानी में दम नहीं होने के बावजूद हास्य का स्तर फिल्म में रूचि बनाए रखता है । \n",
       " \n",
       "  मोहित ( आयुष्मान खुराना ) और मायरा ( सोनम कपूर ) एक यंग मिडिल क्लास कॉरपोरेट कपल है । मोहित 65 हजार रुपये xxunk कमाता है , लेकिन मायरा के आईएएस अफसर पिता विनोद सहगल ( ऋषि कपूर ) को यह कम लगता है । उनका मानना है कि पैसों के अभाव में मायरा की वे कई xxunk पूरी नहीं कर पाए हैं , इसलिए मायरा को शादी करोड़पति से करना चाहिए । \n",
       " \n",
       "  मायरा की जिद के आगे सहगल साहब थोड़ा xxunk हैं और मोहित को xxunk का फैसला करते हैं । इसी बीच आर्थिक मंदी के कारण मोहित की नौकरी चली जाती है । मोहित और मायरा यह बात पिता सहगल से छिपाते हैं । मोहित तीन महीने बेकार बैठा रहता है और पैसों की कमी से जूझता है । इसका असर मायरा के साथ उसके रिश्तों पर भी होता है और दोनों में ब्रेक अप हो जाता है । दूसरी ओर मायरा के पिता शादी के लिए राजी हो जाते हैं । कैसे स्थिति सुलझती है , यह फिल्म में ड्रामेटिक तरीके से दिखाया गया है । \n",
       " \n",
       "  फिल्म की कहानी बेहद सरल है , लेकिन बजाय आर्थिक मंदी से दो प्रेमियों के बिगड़ते रिश्ते पर फोकस करने और दो जनरेशन के बीच के गैप को xxunk करने के सारा ध्यान मोहित की परीक्षा लेने में लगाया गया है , जिससे कहानी बेहद रूटीन हो गई है । मोहित के जॉब छूटने के बाद उसका नौकरी खोजने में लंबा समय वक्त बरबाद करना और फिर कॉफी शॉप में अपनी योग्यता से छोटा काम करने वाला ट्रेक कहानी में फिट नहीं होता । मायरा और मोहित को प्रेम में डूबा बताया गया है , लेकिन छोटी - सी बात पर उनका ब्रेक - अप करना तर्कसंगत नहीं लगता । फिल्म का क्लाइमेक्स भी सुविधानुसार लिखा गया है । \n",
       " \n",
       "  कहानी में दम नहीं होने के बावजूद दिलचस्प किरदार , उनके बीच होने वाले संवाद तथा निर्देशक का हल्का - फुल्का ट्रीटमेंट फिल्म में दिलचस्पी बनाए रखता है । निर्देशक xxunk xxunk का प्रस्तुतिकरण उम्दा है , हालांकि कहानी से उन्हें विशेष मदद नहीं मिली है । फिल्म का संगीत एक और नकारात्मक पाइंट है । गीतों को लिखा तो अच्छा गया है , लेकिन धुनों में दम नहीं होने से वे असर नहीं छोड़ते । कुछ गानों की फिल्म में सिचुएशन भी ठीक से नहीं बनाई गई है । \n",
       " \n",
       "  ऋषि कपूर फिल्म की जान हैं और उम्र के इस मोड़ पर उन्हें दिलचस्प भूमिकाएं निभाने को मिल रही हैं । ऊपर से कड़क और भीतर से नरम इंसान की भूमिका उन्होंने खूब निभाई है । आयुष्मान खुराना की एक्टिंग में वैरायटी नहीं दिखी । पूरी फिल्म में वे एक - सा चेहरा लिए घूमते रहे । xxunk कपूर और उनकी केमिस्ट्री फीकी रही । सोनम कपूर बेहद स्टाइलिश दिखी , लेकिन अभिनय के मामले में अभी भी वे कच्ची साबित होती हैं । \n",
       " \n",
       "  बेवकूफियां में एक अच्छी फिल्म की संभावनाएं थीं , लेकिन उनका दोहन नहीं हो सका । \n",
       " \n",
       " \n",
       "  बैनर : \n",
       "  यशराज फिल्म्स \n",
       " \n",
       "  निर्माता : \n",
       "  आदित्य चोपड़ा \n",
       " \n",
       "  निर्देशक : \n",
       "  xxunk xxunk \n",
       " \n",
       "  संगीत : \n",
       "  रघु दीक्षित \n",
       " \n",
       "  कलाकार : \n",
       "  आयुष्मान खुराना , सोनम कपूर , ऋषि कपूर \n",
       " \n",
       "  सेंसर सर्टिफिकेट : यूए * 1 घंटा 59 मिनट,xxbos तब वह मोटी थी और जेरी    ने उस पर ध्यान नहीं दिया था ।\n",
       "y: CategoryList\n",
       "negative,negative,positive,neutral,neutral\n",
       "Path: /home/jupyter/.fastai/data/hiwiki;\n",
       "\n",
       "Valid: LabelList (0 items)\n",
       "x: TextList\n",
       "\n",
       "y: CategoryList\n",
       "\n",
       "Path: /home/jupyter/.fastai/data/hiwiki;\n",
       "\n",
       "Test: None"
      ]
     },
     "execution_count": 162,
     "metadata": {},
     "output_type": "execute_result"
    }
   ],
   "source": [
    "data_valid"
   ]
  },
  {
   "cell_type": "code",
   "execution_count": 163,
   "metadata": {},
   "outputs": [
    {
     "name": "stdout",
     "output_type": "stream",
     "text": [
      "CPU times: user 23.1 s, sys: 1.59 s, total: 24.6 s\n",
      "Wall time: 24.2 s\n"
     ]
    },
    {
     "data": {
      "text/html": [
       "<div>\n",
       "<style scoped>\n",
       "    .dataframe tbody tr th:only-of-type {\n",
       "        vertical-align: middle;\n",
       "    }\n",
       "\n",
       "    .dataframe tbody tr th {\n",
       "        vertical-align: top;\n",
       "    }\n",
       "\n",
       "    .dataframe thead th {\n",
       "        text-align: right;\n",
       "    }\n",
       "</style>\n",
       "<table border=\"1\" class=\"dataframe\">\n",
       "  <thead>\n",
       "    <tr style=\"text-align: right;\">\n",
       "      <th></th>\n",
       "      <th>query</th>\n",
       "      <th>actual_label</th>\n",
       "      <th>predicted_label</th>\n",
       "      <th>neutral</th>\n",
       "      <th>positive</th>\n",
       "      <th>negative</th>\n",
       "    </tr>\n",
       "  </thead>\n",
       "  <tbody>\n",
       "    <tr>\n",
       "      <th>0</th>\n",
       "      <td>काव्या अपनी खुन्नस और जिद में सिद्धार्थ को तबा...</td>\n",
       "      <td>negative</td>\n",
       "      <td>neutral</td>\n",
       "      <td>0.784352</td>\n",
       "      <td>0.0492201</td>\n",
       "      <td>0.166428</td>\n",
       "    </tr>\n",
       "    <tr>\n",
       "      <th>1</th>\n",
       "      <td>निर्माता :\\nफरहान अख्तर, रितेश सिधवानी\\n\\nनिर्...</td>\n",
       "      <td>negative</td>\n",
       "      <td>negative</td>\n",
       "      <td>0.10598</td>\n",
       "      <td>0.00492299</td>\n",
       "      <td>0.889097</td>\n",
       "    </tr>\n",
       "    <tr>\n",
       "      <th>2</th>\n",
       "      <td>असमर्पित रिश्ते में यकीन रखने वाले दोनों मौज-म...</td>\n",
       "      <td>positive</td>\n",
       "      <td>neutral</td>\n",
       "      <td>0.725661</td>\n",
       "      <td>0.0104935</td>\n",
       "      <td>0.263846</td>\n",
       "    </tr>\n",
       "    <tr>\n",
       "      <th>3</th>\n",
       "      <td>बेवकूफियां को हबीब फैज़ल ने लिखा है, जिनका नाम...</td>\n",
       "      <td>neutral</td>\n",
       "      <td>negative</td>\n",
       "      <td>0.0610749</td>\n",
       "      <td>0.0156547</td>\n",
       "      <td>0.92327</td>\n",
       "    </tr>\n",
       "    <tr>\n",
       "      <th>4</th>\n",
       "      <td>तब वह मोटी थी और जेरी  ने उस पर ध्यान नहीं दिय...</td>\n",
       "      <td>neutral</td>\n",
       "      <td>neutral</td>\n",
       "      <td>0.58743</td>\n",
       "      <td>0.0982174</td>\n",
       "      <td>0.314352</td>\n",
       "    </tr>\n",
       "  </tbody>\n",
       "</table>\n",
       "</div>"
      ],
      "text/plain": [
       "                                               query actual_label  \\\n",
       "0  काव्या अपनी खुन्नस और जिद में सिद्धार्थ को तबा...     negative   \n",
       "1  निर्माता :\\nफरहान अख्तर, रितेश सिधवानी\\n\\nनिर्...     negative   \n",
       "2  असमर्पित रिश्ते में यकीन रखने वाले दोनों मौज-म...     positive   \n",
       "3  बेवकूफियां को हबीब फैज़ल ने लिखा है, जिनका नाम...      neutral   \n",
       "4  तब वह मोटी थी और जेरी  ने उस पर ध्यान नहीं दिय...      neutral   \n",
       "\n",
       "  predicted_label    neutral    positive  negative  \n",
       "0         neutral   0.784352   0.0492201  0.166428  \n",
       "1        negative    0.10598  0.00492299  0.889097  \n",
       "2         neutral   0.725661   0.0104935  0.263846  \n",
       "3        negative  0.0610749   0.0156547   0.92327  \n",
       "4         neutral    0.58743   0.0982174  0.314352  "
      ]
     },
     "execution_count": 163,
     "metadata": {},
     "output_type": "execute_result"
    }
   ],
   "source": [
    "%%time\n",
    "from sklearn.metrics import accuracy_score, matthews_corrcoef\n",
    "df_dict = {'query': list(test_df[1]), 'actual_label': list(test_df[0]), 'predicted_label': ['']*test_df.shape[0]}\n",
    "all_nodes = list(set(train_df[0]))\n",
    "for node in all_nodes:\n",
    "    df_dict[node] = ['']*test_df.shape[0]\n",
    "    \n",
    "i2c = {}\n",
    "for key, value in learn_c.data.c2i.items():\n",
    "    i2c[value] = key\n",
    "    \n",
    "df_result = pd.DataFrame(df_dict)\n",
    "for index, row in df_result.iterrows():\n",
    "    pred = learn_c.predict(data_valid.train_ds[index])\n",
    "    for node in all_nodes:\n",
    "        row[node] = pred[2][learn_c.data.c2i[node]].item()\n",
    "    row['predicted_label'] = i2c[pred[0].data.item()]\n",
    "df_result.head()"
   ]
  },
  {
   "cell_type": "code",
   "execution_count": 164,
   "metadata": {},
   "outputs": [
    {
     "name": "stdout",
     "output_type": "stream",
     "text": [
      "<class 'pandas.core.frame.DataFrame'>\n",
      "RangeIndex: 310 entries, 0 to 309\n",
      "Data columns (total 6 columns):\n",
      "query              310 non-null object\n",
      "actual_label       310 non-null object\n",
      "predicted_label    310 non-null object\n",
      "neutral            310 non-null object\n",
      "positive           310 non-null object\n",
      "negative           310 non-null object\n",
      "dtypes: object(6)\n",
      "memory usage: 14.7+ KB\n"
     ]
    }
   ],
   "source": [
    "df_result.info()"
   ]
  },
  {
   "cell_type": "code",
   "execution_count": 165,
   "metadata": {},
   "outputs": [
    {
     "data": {
      "text/plain": [
       "0.5838709677419355"
      ]
     },
     "execution_count": 165,
     "metadata": {},
     "output_type": "execute_result"
    }
   ],
   "source": [
    "accuracy_score(df_result['actual_label'], df_result['predicted_label'])"
   ]
  },
  {
   "cell_type": "code",
   "execution_count": 166,
   "metadata": {},
   "outputs": [
    {
     "data": {
      "text/plain": [
       "0.3834258064691419"
      ]
     },
     "execution_count": 166,
     "metadata": {},
     "output_type": "execute_result"
    }
   ],
   "source": [
    "matthews_corrcoef(df_result['actual_label'], df_result['predicted_label'])"
   ]
  },
  {
   "cell_type": "code",
   "execution_count": 167,
   "metadata": {},
   "outputs": [
    {
     "data": {
      "text/plain": [
       "0.5838709677419355"
      ]
     },
     "execution_count": 167,
     "metadata": {},
     "output_type": "execute_result"
    }
   ],
   "source": [
    "f1_score(df_result['actual_label'], df_result['predicted_label'], average='micro')"
   ]
  },
  {
   "cell_type": "code",
   "execution_count": null,
   "metadata": {},
   "outputs": [],
   "source": []
  }
 ],
 "metadata": {
  "kernelspec": {
   "display_name": "Python 3",
   "language": "python",
   "name": "python3"
  },
  "language_info": {
   "codemirror_mode": {
    "name": "ipython",
    "version": 3
   },
   "file_extension": ".py",
   "mimetype": "text/x-python",
   "name": "python",
   "nbconvert_exporter": "python",
   "pygments_lexer": "ipython3",
   "version": "3.7.4"
  }
 },
 "nbformat": 4,
 "nbformat_minor": 4
}
